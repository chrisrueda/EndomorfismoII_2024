{
 "cells": [
  {
   "cell_type": "markdown",
   "metadata": {},
   "source": [
    "# Caso de mantenimiento predictivo con la detección de fallas mediante SkopeRules"
   ]
  },
  {
   "cell_type": "code",
   "execution_count": 1,
   "metadata": {},
   "outputs": [
    {
     "data": {
      "text/html": [
       "<div>\n",
       "<style scoped>\n",
       "    .dataframe tbody tr th:only-of-type {\n",
       "        vertical-align: middle;\n",
       "    }\n",
       "\n",
       "    .dataframe tbody tr th {\n",
       "        vertical-align: top;\n",
       "    }\n",
       "\n",
       "    .dataframe thead th {\n",
       "        text-align: right;\n",
       "    }\n",
       "</style>\n",
       "<table border=\"1\" class=\"dataframe\">\n",
       "  <thead>\n",
       "    <tr style=\"text-align: right;\">\n",
       "      <th></th>\n",
       "      <th>Temperatura (°C)</th>\n",
       "      <th>Vibración (mm/s)</th>\n",
       "      <th>Presión (bar)</th>\n",
       "      <th>Nivel de Sonido (dB)</th>\n",
       "      <th>Horas de Operación</th>\n",
       "      <th>Falla</th>\n",
       "    </tr>\n",
       "  </thead>\n",
       "  <tbody>\n",
       "    <tr>\n",
       "      <th>0</th>\n",
       "      <td>67.640523</td>\n",
       "      <td>7.824726</td>\n",
       "      <td>9.261636</td>\n",
       "      <td>63.467366</td>\n",
       "      <td>204.923687</td>\n",
       "      <td>1</td>\n",
       "    </tr>\n",
       "    <tr>\n",
       "      <th>1</th>\n",
       "      <td>54.001572</td>\n",
       "      <td>2.978361</td>\n",
       "      <td>9.521242</td>\n",
       "      <td>78.290653</td>\n",
       "      <td>341.698115</td>\n",
       "      <td>1</td>\n",
       "    </tr>\n",
       "    <tr>\n",
       "      <th>2</th>\n",
       "      <td>59.787380</td>\n",
       "      <td>3.094273</td>\n",
       "      <td>12.199319</td>\n",
       "      <td>69.409180</td>\n",
       "      <td>676.242482</td>\n",
       "      <td>1</td>\n",
       "    </tr>\n",
       "    <tr>\n",
       "      <th>3</th>\n",
       "      <td>72.408932</td>\n",
       "      <td>6.454095</td>\n",
       "      <td>11.310527</td>\n",
       "      <td>66.599109</td>\n",
       "      <td>879.234763</td>\n",
       "      <td>0</td>\n",
       "    </tr>\n",
       "    <tr>\n",
       "      <th>4</th>\n",
       "      <td>68.675580</td>\n",
       "      <td>3.240315</td>\n",
       "      <td>11.280263</td>\n",
       "      <td>73.331915</td>\n",
       "      <td>543.678054</td>\n",
       "      <td>1</td>\n",
       "    </tr>\n",
       "    <tr>\n",
       "      <th>5</th>\n",
       "      <td>40.227221</td>\n",
       "      <td>7.915432</td>\n",
       "      <td>6.766088</td>\n",
       "      <td>67.696401</td>\n",
       "      <td>282.699651</td>\n",
       "      <td>0</td>\n",
       "    </tr>\n",
       "    <tr>\n",
       "      <th>6</th>\n",
       "      <td>59.500884</td>\n",
       "      <td>4.379572</td>\n",
       "      <td>9.951348</td>\n",
       "      <td>63.328708</td>\n",
       "      <td>30.235258</td>\n",
       "      <td>0</td>\n",
       "    </tr>\n",
       "    <tr>\n",
       "      <th>7</th>\n",
       "      <td>48.486428</td>\n",
       "      <td>3.878818</td>\n",
       "      <td>8.523938</td>\n",
       "      <td>63.266412</td>\n",
       "      <td>710.336829</td>\n",
       "      <td>0</td>\n",
       "    </tr>\n",
       "    <tr>\n",
       "      <th>8</th>\n",
       "      <td>48.967811</td>\n",
       "      <td>7.884413</td>\n",
       "      <td>10.559849</td>\n",
       "      <td>73.468866</td>\n",
       "      <td>7.884104</td>\n",
       "      <td>0</td>\n",
       "    </tr>\n",
       "    <tr>\n",
       "      <th>9</th>\n",
       "      <td>54.105985</td>\n",
       "      <td>7.220772</td>\n",
       "      <td>9.803699</td>\n",
       "      <td>69.202133</td>\n",
       "      <td>372.679070</td>\n",
       "      <td>0</td>\n",
       "    </tr>\n",
       "  </tbody>\n",
       "</table>\n",
       "</div>"
      ],
      "text/plain": [
       "   Temperatura (°C)  Vibración (mm/s)  Presión (bar)  Nivel de Sonido (dB)  \\\n",
       "0         67.640523          7.824726       9.261636             63.467366   \n",
       "1         54.001572          2.978361       9.521242             78.290653   \n",
       "2         59.787380          3.094273      12.199319             69.409180   \n",
       "3         72.408932          6.454095      11.310527             66.599109   \n",
       "4         68.675580          3.240315      11.280263             73.331915   \n",
       "5         40.227221          7.915432       6.766088             67.696401   \n",
       "6         59.500884          4.379572       9.951348             63.328708   \n",
       "7         48.486428          3.878818       8.523938             63.266412   \n",
       "8         48.967811          7.884413      10.559849             73.468866   \n",
       "9         54.105985          7.220772       9.803699             69.202133   \n",
       "\n",
       "   Horas de Operación  Falla  \n",
       "0          204.923687      1  \n",
       "1          341.698115      1  \n",
       "2          676.242482      1  \n",
       "3          879.234763      0  \n",
       "4          543.678054      1  \n",
       "5          282.699651      0  \n",
       "6           30.235258      0  \n",
       "7          710.336829      0  \n",
       "8            7.884104      0  \n",
       "9          372.679070      0  "
      ]
     },
     "execution_count": 1,
     "metadata": {},
     "output_type": "execute_result"
    }
   ],
   "source": [
    "import pandas as pd \n",
    "\n",
    "df = pd.read_csv('fallas_20.csv')\n",
    "df.head(10)"
   ]
  },
  {
   "cell_type": "markdown",
   "metadata": {},
   "source": [
    "### Preprocesar los datos"
   ]
  },
  {
   "cell_type": "code",
   "execution_count": 3,
   "metadata": {},
   "outputs": [],
   "source": [
    "X = df.drop('Falla', axis=1) # Matriz X de entrada (variables independientes)\n",
    "y = df['Falla'] # Vector de salida (Clase o Target)"
   ]
  },
  {
   "cell_type": "markdown",
   "metadata": {},
   "source": [
    "### Dividir nuestro conjunto de entrenamiento y validación"
   ]
  },
  {
   "cell_type": "code",
   "execution_count": 4,
   "metadata": {},
   "outputs": [],
   "source": [
    "from sklearn.model_selection import train_test_split\n",
    "\n",
    "X_train, X_test, y_train, y_test = train_test_split(X, y, test_size=0.3, random_state=42)\n"
   ]
  },
  {
   "cell_type": "markdown",
   "metadata": {},
   "source": [
    "### Instalar el paquete de SkopeRules (Solo si no está instalado)"
   ]
  },
  {
   "cell_type": "code",
   "execution_count": 8,
   "metadata": {},
   "outputs": [
    {
     "name": "stdout",
     "output_type": "stream",
     "text": [
      "Requirement already satisfied: skope-rules in c:\\users\\christianr\\anaconda3\\envs\\dias\\lib\\site-packages (1.0.1)\n",
      "Requirement already satisfied: numpy>=1.10.4 in c:\\users\\christianr\\anaconda3\\envs\\dias\\lib\\site-packages (from skope-rules) (1.26.4)\n",
      "Requirement already satisfied: scikit-learn>=0.17.1 in c:\\users\\christianr\\anaconda3\\envs\\dias\\lib\\site-packages (from skope-rules) (1.3.0)\n",
      "Requirement already satisfied: scipy>=0.17.0 in c:\\users\\christianr\\anaconda3\\envs\\dias\\lib\\site-packages (from skope-rules) (1.11.4)\n",
      "Requirement already satisfied: pandas>=0.18.1 in c:\\users\\christianr\\anaconda3\\envs\\dias\\lib\\site-packages (from skope-rules) (2.2.1)\n",
      "Requirement already satisfied: python-dateutil>=2.8.2 in c:\\users\\christianr\\anaconda3\\envs\\dias\\lib\\site-packages (from pandas>=0.18.1->skope-rules) (2.8.2)\n",
      "Requirement already satisfied: pytz>=2020.1 in c:\\users\\christianr\\anaconda3\\envs\\dias\\lib\\site-packages (from pandas>=0.18.1->skope-rules) (2023.3.post1)\n",
      "Requirement already satisfied: tzdata>=2022.7 in c:\\users\\christianr\\anaconda3\\envs\\dias\\lib\\site-packages (from pandas>=0.18.1->skope-rules) (2023.3)\n",
      "Requirement already satisfied: joblib>=1.1.1 in c:\\users\\christianr\\anaconda3\\envs\\dias\\lib\\site-packages (from scikit-learn>=0.17.1->skope-rules) (1.2.0)\n",
      "Requirement already satisfied: threadpoolctl>=2.0.0 in c:\\users\\christianr\\anaconda3\\envs\\dias\\lib\\site-packages (from scikit-learn>=0.17.1->skope-rules) (2.2.0)\n",
      "Requirement already satisfied: six>=1.5 in c:\\users\\christianr\\anaconda3\\envs\\dias\\lib\\site-packages (from python-dateutil>=2.8.2->pandas>=0.18.1->skope-rules) (1.16.0)\n"
     ]
    }
   ],
   "source": [
    "!pip install skope-rules"
   ]
  },
  {
   "cell_type": "markdown",
   "metadata": {},
   "source": [
    "### Generar el modelo de SkopeRules"
   ]
  },
  {
   "cell_type": "code",
   "execution_count": 15,
   "metadata": {},
   "outputs": [
    {
     "name": "stderr",
     "output_type": "stream",
     "text": [
      "c:\\Users\\christianr\\anaconda3\\envs\\dias\\lib\\site-packages\\sklearn\\ensemble\\_base.py:156: FutureWarning: `base_estimator` was renamed to `estimator` in version 1.2 and will be removed in 1.4.\n",
      "  warnings.warn(\n",
      "c:\\Users\\christianr\\anaconda3\\envs\\dias\\lib\\site-packages\\sklearn\\ensemble\\_base.py:156: FutureWarning: `base_estimator` was renamed to `estimator` in version 1.2 and will be removed in 1.4.\n",
      "  warnings.warn(\n"
     ]
    },
    {
     "name": "stdout",
     "output_type": "stream",
     "text": [
      "La exactitud del modelo es: 0.7\n",
      "('Temperatura (°C) <= 46.5056037902832 and Temperatura (°C) > 35.628082275390625 and Presión (bar) <= 11.002546310424805', (0.8, 0.6666666666666666, 2))\n",
      "('Temperatura (°C) > 48.0745849609375 and Presión (bar) <= 9.626128673553467 and Presión (bar) > 8.750275135040283 and Horas de Operación <= 467.0832061767578', (1.0, 0.42857142857142855, 2))\n",
      "('Temperatura (°C) <= 60.7770938873291 and Presión (bar) <= 11.801370620727539 and Nivel de Sonido (dB) <= 73.66756439208984 and Horas de Operación > 226.91998291015625', (0.8333333333333334, 0.45454545454545453, 2))\n",
      "('Presión (bar) > 11.801370620727539', (1.0, 0.4, 2))\n",
      "('Vibración (mm/s) <= 6.3212504386901855 and Vibración (mm/s) > 3.347161889076233 and Presión (bar) <= 11.090325355529785 and Nivel de Sonido (dB) <= 68.10113906860352', (0.5, 0.6666666666666666, 2))\n",
      "('Temperatura (°C) > 47.05517578125 and Vibración (mm/s) > 3.9356844425201416 and Presión (bar) > 10.252040386199951 and Nivel de Sonido (dB) > 66.66881942749023 and Horas de Operación > 463.5844268798828', (1.0, 0.375, 2))\n",
      "('Temperatura (°C) <= 68.86836242675781 and Presión (bar) > 8.750275135040283 and Nivel de Sonido (dB) <= 76.1056900024414 and Nivel de Sonido (dB) > 66.65924072265625 and Horas de Operación > 467.0832061767578', (0.75, 0.42857142857142855, 2))\n",
      "('Temperatura (°C) <= 70.68391418457031 and Temperatura (°C) > 60.7770938873291 and Presión (bar) <= 11.801370620727539', (0.75, 0.375, 2))\n",
      "('Vibración (mm/s) > 5.980494499206543 and Presión (bar) <= 11.002546310424805 and Nivel de Sonido (dB) <= 68.71371841430664', (0.6666666666666666, 0.4, 2))\n",
      "('Vibración (mm/s) <= 5.980494499206543 and Vibración (mm/s) > 3.002250075340271 and Presión (bar) <= 11.346802711486816 and Nivel de Sonido (dB) <= 74.10429382324219 and Horas de Operación <= 506.26397705078125', (0.6, 0.375, 2))\n",
      "('Presión (bar) > 11.346802711486816 and Nivel de Sonido (dB) <= 68.61344909667969', (1.0, 0.2857142857142857, 2))\n",
      "('Temperatura (°C) > 60.7770938873291 and Presión (bar) <= 11.801370620727539 and Nivel de Sonido (dB) <= 73.66756439208984 and Horas de Operación > 226.91998291015625', (1.0, 0.2727272727272727, 2))\n",
      "('Temperatura (°C) <= 68.6832275390625 and Vibración (mm/s) > 4.7715163230896 and Presión (bar) <= 11.346802711486816 and Presión (bar) > 8.827898025512695 and Horas de Operación > 12.377888441085815', (0.5, 0.375, 2))\n",
      "('Temperatura (°C) <= 49.81649208068848 and Vibración (mm/s) > 6.885811805725098 and Presión (bar) <= 11.801370620727539', (1.0, 0.25, 2))\n",
      "('Temperatura (°C) <= 62.3244571685791 and Vibración (mm/s) <= 6.557042598724365 and Presión (bar) > 11.992343425750732 and Nivel de Sonido (dB) <= 74.68777084350586 and Horas de Operación <= 463.5844268798828', (1.0, 0.25, 2))\n",
      "('Presión (bar) > 11.090325355529785 and Nivel de Sonido (dB) <= 68.10113906860352', (0.5, 0.3333333333333333, 2))\n",
      "('Presión (bar) <= 8.827898025512695 and Presión (bar) > 6.033035755157471 and Nivel de Sonido (dB) > 65.73721313476562', (0.6666666666666666, 0.25, 1))\n",
      "('Presión (bar) <= 11.346802711486816 and Nivel de Sonido (dB) <= 66.3796157836914 and Horas de Operación <= 687.8093566894531', (0.5, 0.2857142857142857, 2))\n",
      "('Vibración (mm/s) > 3.9356844425201416 and Presión (bar) <= 11.801370620727539 and Nivel de Sonido (dB) > 73.66756439208984', (0.6666666666666666, 0.18181818181818182, 2))\n",
      "('Presión (bar) > 11.346802711486816', (0.5833333333333333, 0.1875, 4))\n",
      "('Temperatura (°C) > 52.887916564941406 and Nivel de Sonido (dB) > 68.61344909667969', (0.5, 0.14285714285714285, 2))\n",
      "('Temperatura (°C) > 48.0745849609375 and Presión (bar) > 10.566267967224121 and Horas de Operación <= 467.0832061767578', (0.5, 0.14285714285714285, 2))\n",
      "('Temperatura (°C) <= 46.193328857421875 and Temperatura (°C) > 41.39777755737305 and Vibración (mm/s) > 5.980494499206543 and Presión (bar) <= 11.346802711486816', (0.5, 0.125, 2))\n",
      "('Vibración (mm/s) <= 5.980494499206543 and Vibración (mm/s) > 3.002250075340271 and Presión (bar) <= 11.346802711486816 and Horas de Operación > 687.1525573730469', (0.5, 0.125, 2))\n",
      "('Temperatura (°C) <= 60.7770938873291 and Vibración (mm/s) <= 6.557042598724365 and Presión (bar) <= 8.827898025512695 and Presión (bar) > 6.033035755157471', (0.5, 0.125, 1))\n"
     ]
    }
   ],
   "source": [
    "from skrules import SkopeRules\n",
    "from sklearn.metrics import accuracy_score\n",
    "\n",
    "modelo = SkopeRules(feature_names=list(X.columns),\n",
    "                    max_depth = 5,\n",
    "                    random_state=42)\n",
    "\n",
    "# Entrenar el modelo\n",
    "modelo.fit(X_train, y_train)\n",
    "\n",
    "# Validar el modelo\n",
    "y_pred = modelo.predict_top_rules(X_test,1)\n",
    "\n",
    "# Evaluar el modelo entrenado\n",
    "exactitud = accuracy_score(y_test, y_pred)\n",
    "print(f'La exactitud del modelo es: {exactitud}')\n",
    "\n",
    "rules = modelo.rules_\n",
    "for i in rules:\n",
    "    print(i)"
   ]
  }
 ],
 "metadata": {
  "kernelspec": {
   "display_name": "dias",
   "language": "python",
   "name": "python3"
  },
  "language_info": {
   "codemirror_mode": {
    "name": "ipython",
    "version": 3
   },
   "file_extension": ".py",
   "mimetype": "text/x-python",
   "name": "python",
   "nbconvert_exporter": "python",
   "pygments_lexer": "ipython3",
   "version": "3.9.18"
  }
 },
 "nbformat": 4,
 "nbformat_minor": 2
}
