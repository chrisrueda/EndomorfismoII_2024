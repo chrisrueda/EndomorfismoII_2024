{
 "cells": [
  {
   "cell_type": "code",
   "execution_count": 18,
   "metadata": {},
   "outputs": [
    {
     "data": {
      "text/html": [
       "<div>\n",
       "<style scoped>\n",
       "    .dataframe tbody tr th:only-of-type {\n",
       "        vertical-align: middle;\n",
       "    }\n",
       "\n",
       "    .dataframe tbody tr th {\n",
       "        vertical-align: top;\n",
       "    }\n",
       "\n",
       "    .dataframe thead th {\n",
       "        text-align: right;\n",
       "    }\n",
       "</style>\n",
       "<table border=\"1\" class=\"dataframe\">\n",
       "  <thead>\n",
       "    <tr style=\"text-align: right;\">\n",
       "      <th></th>\n",
       "      <th>target</th>\n",
       "    </tr>\n",
       "  </thead>\n",
       "  <tbody>\n",
       "    <tr>\n",
       "      <th>0</th>\n",
       "      <td>2</td>\n",
       "    </tr>\n",
       "    <tr>\n",
       "      <th>1</th>\n",
       "      <td>2</td>\n",
       "    </tr>\n",
       "    <tr>\n",
       "      <th>2</th>\n",
       "      <td>2</td>\n",
       "    </tr>\n",
       "    <tr>\n",
       "      <th>3</th>\n",
       "      <td>2</td>\n",
       "    </tr>\n",
       "    <tr>\n",
       "      <th>4</th>\n",
       "      <td>2</td>\n",
       "    </tr>\n",
       "  </tbody>\n",
       "</table>\n",
       "</div>"
      ],
      "text/plain": [
       "   target\n",
       "0       2\n",
       "1       2\n",
       "2       2\n",
       "3       2\n",
       "4       2"
      ]
     },
     "execution_count": 18,
     "metadata": {},
     "output_type": "execute_result"
    }
   ],
   "source": [
    "# Importar las librerías necesarias\n",
    "import pandas as pd\n",
    "\n",
    "# Ver los archivos\n",
    "dir_data_validation = 'C:/Users/christianr/Documents/GitHub/EndomorfismoII_2024/PROYECTOS/PRIMER PARCIAL/data_validation'\n",
    "X_df = pd.read_csv(dir_data_validation)\n",
    "\n",
    "# Matriz de entrada X\n",
    "X = X_df.iloc[:,1:]\n",
    "X.head()\n",
    "\n",
    "# Matriz de salida y - clases\n",
    "dir_target_validation = 'C:/Users/christianr/Documents/GitHub/EndomorfismoII_2024/PROYECTOS/PRIMER PARCIAL/target_validation'\n",
    "y_df = pd.read_csv(dir_target_validation)\n",
    "y_df.head()\n",
    "# Vector de salida sin la columna Unnamed: 0\n",
    "y = y_df.iloc[:,1:]\n",
    "y.head()\n",
    "\n",
    "# Importante: X -> Entrada (Datos) , y -> Salida (Clases)"
   ]
  },
  {
   "cell_type": "markdown",
   "metadata": {},
   "source": [
    "# Carga de modelos con Scikitlearn\n",
    "## Joblib - Pickles\n",
    "### Formato de salida: modelo_entrenado.SAV"
   ]
  },
  {
   "cell_type": "code",
   "execution_count": 19,
   "metadata": {},
   "outputs": [],
   "source": [
    "import joblib\n",
    "\n",
    "dir_modelo = 'SOLUCIONES/osejotacoestebansantiago_3952_4686437_Proyecto 1/Proyecto 1/Modelo_Tree.sav'\n",
    "modelo = joblib.load(dir_modelo)"
   ]
  },
  {
   "cell_type": "code",
   "execution_count": 22,
   "metadata": {},
   "outputs": [],
   "source": [
    "import pickle\n",
    "\n",
    "dir_modelo = 'SOLUCIONES/Mejor_modelo(DT).sav'\n",
    "with open (dir_modelo, \"rb\") as f:\n",
    "    modelo = pickle.load(f)\n"
   ]
  },
  {
   "cell_type": "code",
   "execution_count": 23,
   "metadata": {},
   "outputs": [
    {
     "name": "stdout",
     "output_type": "stream",
     "text": [
      "La exactitud del modelo entrenado es: 0.99\n"
     ]
    },
    {
     "name": "stderr",
     "output_type": "stream",
     "text": [
      "c:\\Users\\christianr\\anaconda3\\envs\\dias\\lib\\site-packages\\sklearn\\base.py:457: UserWarning: X has feature names, but DecisionTreeClassifier was fitted without feature names\n",
      "  warnings.warn(\n"
     ]
    }
   ],
   "source": [
    "# Predecir con el modelo\n",
    "y_pred = modelo.predict(X) \n",
    "\n",
    "from sklearn.metrics import accuracy_score\n",
    "exactitud = accuracy_score(y, y_pred)\n",
    "\n",
    "print(f'La exactitud del modelo entrenado es: {exactitud}')\n"
   ]
  }
 ],
 "metadata": {
  "kernelspec": {
   "display_name": "dias",
   "language": "python",
   "name": "python3"
  },
  "language_info": {
   "codemirror_mode": {
    "name": "ipython",
    "version": 3
   },
   "file_extension": ".py",
   "mimetype": "text/x-python",
   "name": "python",
   "nbconvert_exporter": "python",
   "pygments_lexer": "ipython3",
   "version": "3.9.18"
  }
 },
 "nbformat": 4,
 "nbformat_minor": 2
}
