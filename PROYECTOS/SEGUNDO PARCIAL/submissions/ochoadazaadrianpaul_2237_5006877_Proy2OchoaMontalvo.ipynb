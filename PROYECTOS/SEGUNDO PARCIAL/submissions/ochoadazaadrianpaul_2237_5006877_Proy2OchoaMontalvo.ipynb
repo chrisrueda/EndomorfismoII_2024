{
 "cells": [
  {
   "cell_type": "code",
   "execution_count": 1,
   "metadata": {},
   "outputs": [
    {
     "name": "stderr",
     "output_type": "stream",
     "text": [
      "C:\\Users\\ASUS\\AppData\\Local\\Temp\\ipykernel_18840\\1203824160.py:32: FutureWarning: Downcasting behavior in `replace` is deprecated and will be removed in a future version. To retain the old behavior, explicitly call `result.infer_objects(copy=False)`. To opt-in to the future behavior, set `pd.set_option('future.no_silent_downcasting', True)`\n",
      "  data['SP'] = data['SP'].replace({'Si': 1, 'No': 0})\n"
     ]
    },
    {
     "name": "stdout",
     "output_type": "stream",
     "text": [
      "*Exactitud*: 0.83\n",
      "*Matriz de confusión*: \n",
      "[[6681  338]\n",
      " [1231  750]]\n",
      "*Precisión*: 0.69\n",
      "*Sensibilidad*: 0.38\n",
      "*F1-Score*: 0.49\n"
     ]
    }
   ],
   "source": [
    "# Análisis Exploratorio de Datos (EDA) para el banco Omega\n",
    "import pandas as pd\n",
    "import numpy as np\n",
    "from sklearn.impute import SimpleImputer\n",
    "from sklearn.preprocessing import LabelEncoder\n",
    "from sklearn.ensemble import RandomForestClassifier\n",
    "from sklearn.metrics import confusion_matrix, accuracy_score, precision_score, recall_score, f1_score\n",
    "from sklearn.model_selection import train_test_split\n",
    "\n",
    "# Cargamos los datos desde la ruta proporcionada\n",
    "file_path = 'CSV/mora_cdto.csv'\n",
    "data = pd.read_csv(file_path)\n",
    "\n",
    "# Convertimos las variables categóricas a numéricas\n",
    "label_encoder = LabelEncoder()\n",
    "data['G'] = label_encoder.fit_transform(data['G'])\n",
    "data['ED'] = label_encoder.fit_transform(data['ED'])\n",
    "data['EC'] = label_encoder.fit_transform(data['EC'])\n",
    "data['M1'] = label_encoder.fit_transform(data['M1'])\n",
    "data['M2'] = label_encoder.fit_transform(data['M2'])\n",
    "data['M3'] = label_encoder.fit_transform(data['M3'])\n",
    "data['M4'] = label_encoder.fit_transform(data['M4'])\n",
    "data['M5'] = label_encoder.fit_transform(data['M5'])\n",
    "data['M6'] = label_encoder.fit_transform(data['M6'])\n",
    "\n",
    "# Imputación de valores cero donde no deberían ser cero\n",
    "col_zero = [\"D1\", \"D2\", \"D3\", \"D4\", \"D5\", \"D6\", \"P1\", \"P2\", \"P3\", \"P4\", \"P5\", \"P6\"]\n",
    "imputador = SimpleImputer(missing_values=np.nan, strategy='median')\n",
    "data[col_zero] = imputador.fit_transform(data[col_zero])\n",
    "\n",
    "# Convertimos 'SP' a una variable binaria para el modelo\n",
    "data['SP'] = data['SP'].replace({'Si': 1, 'No': 0})\n",
    "\n",
    "# Preparamos los datos para el modelo de clasificación\n",
    "X = data.drop(\"SP\", axis=1)\n",
    "y = data[\"SP\"]\n",
    "\n",
    "# Dividimos los datos en conjuntos de entrenamiento y prueba\n",
    "X_train, X_test, y_train, y_test = train_test_split(X, y, test_size=0.3, random_state=40)\n",
    "\n",
    "# Creamos y entrenamos el modelo de clasificación\n",
    "modelo_rf = RandomForestClassifier(n_estimators=100, max_depth=10, random_state=42)\n",
    "modelo_rf.fit(X_train, y_train)\n",
    "\n",
    "# Validamos el modelo con el conjunto de prueba\n",
    "y_pred = modelo_rf.predict(X_test)\n",
    "\n",
    "# Evaluamos el modelo\n",
    "exactitud = accuracy_score(y_test, y_pred)\n",
    "con_mat = confusion_matrix(y_test, y_pred)\n",
    "precision = precision_score(y_test, y_pred)\n",
    "recall = recall_score(y_test, y_pred)\n",
    "f1 = f1_score(y_test, y_pred)\n",
    "\n",
    "# Imprimimos las métricas de evaluación\n",
    "print(f\"*Exactitud*: {exactitud:.2f}\")\n",
    "print(f\"*Matriz de confusión*: \\n{con_mat}\")\n",
    "print(f\"*Precisión*: {precision:.2f}\")\n",
    "print(f\"*Sensibilidad*: {recall:.2f}\")\n",
    "print(f\"*F1-Score*: {f1:.2f}\")"
   ]
  },
  {
   "cell_type": "code",
   "execution_count": 2,
   "metadata": {},
   "outputs": [],
   "source": [
    "import pickle\n",
    "\n",
    "filename = 'Proyecto2.sav'\n",
    "pickle.dump(modelo_rf, open(filename, 'wb'))"
   ]
  }
 ],
 "metadata": {
  "kernelspec": {
   "display_name": "DATASCIENCE",
   "language": "python",
   "name": "python3"
  },
  "language_info": {
   "codemirror_mode": {
    "name": "ipython",
    "version": 3
   },
   "file_extension": ".py",
   "mimetype": "text/x-python",
   "name": "python",
   "nbconvert_exporter": "python",
   "pygments_lexer": "ipython3",
   "version": "3.9.19"
  }
 },
 "nbformat": 4,
 "nbformat_minor": 2
}
