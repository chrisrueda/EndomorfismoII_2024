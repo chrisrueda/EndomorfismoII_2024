{
  "cells": [
    {
      "cell_type": "markdown",
      "id": "rJJRDHh_Akym",
      "metadata": {
        "id": "rJJRDHh_Akym"
      },
      "source": [
        "# PROYECTO 2 EVALUACIÓN FORMATIVA"
      ]
    },
    {
      "cell_type": "markdown",
      "id": "s7jwFN3nBN-J",
      "metadata": {
        "id": "s7jwFN3nBN-J"
      },
      "source": [
        "## Esteban Osejo y Carlos Paredes"
      ]
    },
    {
      "cell_type": "markdown",
      "id": "0JgRVfy_BV4a",
      "metadata": {
        "id": "0JgRVfy_BV4a"
      },
      "source": [
        "## Importación de librerías"
      ]
    },
    {
      "cell_type": "code",
      "execution_count": 3,
      "id": "41635120-503a-4e99-8113-9a457be1c741",
      "metadata": {
        "id": "41635120-503a-4e99-8113-9a457be1c741"
      },
      "outputs": [],
      "source": [
        "import pandas as pd\n",
        "import numpy as np\n",
        "from sklearn.model_selection import train_test_split\n",
        "\n",
        "from xgboost import XGBClassifier\n",
        "from sklearn.ensemble import RandomForestClassifier\n",
        "from sklearn.tree import DecisionTreeClassifier\n",
        "\n",
        "from sklearn.metrics import accuracy_score\n",
        "from sklearn.impute import SimpleImputer\n",
        "from sklearn.metrics import confusion_matrix\n",
        "\n",
        "import seaborn as sns\n",
        "import matplotlib.pyplot as plt\n",
        "\n",
        "from sklearn.preprocessing import LabelEncoder"
      ]
    },
    {
      "cell_type": "markdown",
      "id": "C-AOsjLcBokH",
      "metadata": {
        "id": "C-AOsjLcBokH"
      },
      "source": [
        "## Importación de datos"
      ]
    },
    {
      "cell_type": "code",
      "execution_count": 4,
      "id": "38d10917-7846-4c58-a6c0-7eb9fba12bc6",
      "metadata": {
        "id": "38d10917-7846-4c58-a6c0-7eb9fba12bc6"
      },
      "outputs": [],
      "source": [
        "df = pd.read_csv('https://raw.githubusercontent.com/chrisrueda/EndomorfismoII_2024/main/PROYECTOS/SEGUNDO%20PARCIAL/mora_cdto.csv')\n"
      ]
    },
    {
      "cell_type": "markdown",
      "id": "bb651bdd-2514-4e61-888e-4ab14bca2b49",
      "metadata": {
        "id": "bb651bdd-2514-4e61-888e-4ab14bca2b49"
      },
      "source": [
        "# PREPARACIÓN DE DATOS"
      ]
    },
    {
      "cell_type": "markdown",
      "id": "n10ISwIWvM90",
      "metadata": {
        "id": "n10ISwIWvM90"
      },
      "source": [
        "##Comprobar los valores y la cantidad"
      ]
    },
    {
      "cell_type": "markdown",
      "id": "5H2VTMaGCuju",
      "metadata": {
        "id": "5H2VTMaGCuju"
      },
      "source": [
        "## Es importante verificar los datos del data set. ¿Cantidad total de valores?, ¿tipo de valores que contiene?, ¿le hace faltan valores o no?, ¿existen valores adicionales que son irrelevantes?\n"
      ]
    },
    {
      "cell_type": "code",
      "execution_count": 5,
      "id": "pb_AUcytqIjj",
      "metadata": {
        "colab": {
          "base_uri": "https://localhost:8080/"
        },
        "id": "pb_AUcytqIjj",
        "outputId": "91ca53fc-1b89-4faf-9c63-b57156ae2371"
      },
      "outputs": [
        {
          "name": "stdout",
          "output_type": "stream",
          "text": [
            "ID:\n",
            "Valores únicos: [    1     2     3 ... 29998 29999 30000]\n",
            "Cantidad total de valores: 30000\n",
            "\n",
            "CU:\n",
            "Valores únicos: [  2000  12000   9000   5000  50000  10000  14000  20000  26000  63000\n",
            "   7000  25000  32000  36000  18000  13000  45000   6000  23000  16000\n",
            "  28000   1000   4000  21000  15000  38000  31000  40000   8000  29000\n",
            "  34000  30000   3000  24000  47000  48000  35000  33000  11000  42000\n",
            "  17000  37000  27000  22000  19000  51000  46000  44000  41000  49000\n",
            "  39000  58000  60000  62000  61000  70000  67000  68000  43000  55000\n",
            "  54000 100000  53000  71000  56000  52000  75000  64000   1600  57000\n",
            "  59000  66000  72000  32768  74000  80000  76000  69000  65000  78000\n",
            "  73000]\n",
            "Cantidad total de valores: 30000\n",
            "\n",
            "G:\n",
            "Valores únicos: ['F' 'M' 'O' nan]\n",
            "Cantidad total de valores: 29997\n",
            "\n",
            "ED:\n",
            "Valores únicos: [2 1 3 5 4 6 0]\n",
            "Cantidad total de valores: 30000\n",
            "\n",
            "EC:\n",
            "Valores únicos: ['Casado' 'Soltero' 'Otros' nan '0']\n",
            "Cantidad total de valores: 29999\n",
            "\n",
            "E:\n",
            "Valores únicos: [24 26 34 37 57 29 23 28 35 51 41 30 49 39 40 27 47 33 32 54 58 22 25 31\n",
            " 46 42 43 45 56 44 53 38 63 36 52 48 55 60 50 75 61 73 59 21 67 66 62 70\n",
            " 72 64 65 71 69 68 79 74]\n",
            "Cantidad total de valores: 30000\n",
            "\n",
            "M1:\n",
            "Valores únicos: [ 2 -1  0 -2  1  3  4  8  7  5  6]\n",
            "Cantidad total de valores: 30000\n",
            "\n",
            "M2:\n",
            "Valores únicos: [ 2  0 -1 -2  3  5  7  4  1  6  8]\n",
            "Cantidad total de valores: 30000\n",
            "\n",
            "M3:\n",
            "Valores únicos: [-1  0  2 -2  3  4  6  7  1  5  8]\n",
            "Cantidad total de valores: 30000\n",
            "\n",
            "M4:\n",
            "Valores únicos: [-1  0 -2  2  3  4  5  7  6  1  8]\n",
            "Cantidad total de valores: 30000\n",
            "\n",
            "M5:\n",
            "Valores únicos: [-2  0 -1  2  3  5  4  7  8  6]\n",
            "Cantidad total de valores: 30000\n",
            "\n",
            "M6:\n",
            "Valores únicos: [-2  2  0 -1  3  6  4  7  8  5]\n",
            "Cantidad total de valores: 30000\n",
            "\n",
            "D1:\n",
            "Valores únicos: [ 391.3  268.2 2923.9 ...  168.3 -164.5 4792.9]\n",
            "Cantidad total de valores: 30000\n",
            "\n",
            "D2:\n",
            "Valores únicos: [ 310.2  172.5 1402.7 ...  335.6 7837.9 4890.5]\n",
            "Cantidad total de valores: 30000\n",
            "\n",
            "D3:\n",
            "Valores únicos: [  68.9  268.2 1355.9 ...  275.8 7630.4 4976.4]\n",
            "Cantidad total de valores: 30000\n",
            "\n",
            "D4:\n",
            "Valores únicos: [   0.   327.2 1433.1 ... 2087.8 5277.4 3653.5]\n",
            "Cantidad total de valores: 30000\n",
            "\n",
            "D5:\n",
            "Valores únicos: [   0.   345.5 1494.8 ... 3123.7  519.  3242.8]\n",
            "Cantidad total de valores: 30000\n",
            "\n",
            "D6:\n",
            "Valores únicos: [   0.   326.1 1554.9 ... 1935.7 4894.4 1531.3]\n",
            "Cantidad total de valores: 30000\n",
            "\n",
            "P1:\n",
            "Valores únicos: [   0.   151.8  200.  ... 1002.9  905.4 8590. ]\n",
            "Cantidad total de valores: 30000\n",
            "\n",
            "P2:\n",
            "Valores únicos: [   68.9   100.    150.  ...   297.7 11178.4   352.6]\n",
            "Cantidad total de valores: 30000\n",
            "\n",
            "P3:\n",
            "Valores únicos: [    0.    100.    120.  ... 34939.5   890.7  2512.8]\n",
            "Cantidad total de valores: 30000\n",
            "\n",
            "P4:\n",
            "Valores únicos: [   0.   100.   110.  ...  255.6 1011.5  804.9]\n",
            "Cantidad total de valores: 30000\n",
            "\n",
            "P5:\n",
            "Valores únicos: [   0.   100.   106.9 ...  804.   331.9 5296.4]\n",
            "Cantidad total de valores: 30000\n",
            "\n",
            "P6:\n",
            "Valores únicos: [    0.    200.    500.  ...  7005.2 22007.6  1608. ]\n",
            "Cantidad total de valores: 30000\n",
            "\n",
            "SP:\n",
            "Valores únicos: ['Si' 'No']\n",
            "Cantidad total de valores: 30000\n",
            "\n"
          ]
        }
      ],
      "source": [
        "columnas = df.columns\n",
        "for columna in columnas:\n",
        "    print(columna + \":\")\n",
        "    val_ca = df[columna].unique()\n",
        "    print(\"Valores únicos:\", val_ca)\n",
        "    print(\"Cantidad total de valores:\", df[columna].count())\n",
        "    print()"
      ]
    },
    {
      "cell_type": "markdown",
      "id": "OjTS1L_4wXFU",
      "metadata": {
        "id": "OjTS1L_4wXFU"
      },
      "source": [
        "## Reemplazar los valores que son inadecuados en las características\n",
        "\n"
      ]
    },
    {
      "cell_type": "code",
      "execution_count": 6,
      "id": "V9tC1TAvwMov",
      "metadata": {
        "id": "V9tC1TAvwMov"
      },
      "outputs": [],
      "source": [
        "# Eliminar la columna \"ID\"\n",
        "df.drop(\"ID\", axis=1, inplace=True)\n",
        "\n",
        "# ED sólo puede tener valores entre 1 y 4 pero tiene valores únicos: [2 1 3 5 4 6 0] entonces se eliminan los 0, 5 y 6\n",
        "df[\"ED\"] = df[\"ED\"].replace({'0': np.nan, '5': np.nan, '6': np.nan})\n",
        "\n",
        "# Estado Civil solo puede tener 3 valores pero tiene  valores únicos: Valores únicos: ['Casado' 'Soltero' 'Otros' nan '0'] el 0 no se incluye\n",
        "df[\"EC\"] = df[\"EC\"].replace(\"0\", np.nan)\n",
        "\n",
        "# M1-M6 => datos normales son -1, 1 a 9 se aplica el siguiente filtro para eliminar los datos fuera de este rango permitido\n",
        "# Definir el rango permitido\n",
        "rango_permitido = list(range(1, 9)) + [-1]\n",
        "\n",
        "# Iterar sobre las columnas M1 a M6\n",
        "for columna in ['M1', 'M2', 'M3', 'M4', 'M5', 'M6']:\n",
        "    # Seleccionar las filas que están dentro del rango permitido\n",
        "    # Se genera un vector con índices permitidos que se crea con la función isin\n",
        "    # Indica los índices permitidos\n",
        "    indices_permitidos = df[columna].isin(rango_permitido)\n",
        "\n",
        "    # Reemplazar los valores que están fuera del rango por NaN\n",
        "    # Con la función loc se eliminan todos los índices que no son permitidos\n",
        "    # Todos los índices que no son permitidos (índices negados) se los convierte en tipo NaN para todas las columnas\n",
        "    df.loc[~indices_permitidos, columna] = np.nan"
      ]
    },
    {
      "cell_type": "markdown",
      "id": "AjxLC4CcvX_o",
      "metadata": {
        "id": "AjxLC4CcvX_o"
      },
      "source": [
        "##Codificar los valores tipo etiquetas\n"
      ]
    },
    {
      "cell_type": "markdown",
      "id": "0O0PcsS4H7kc",
      "metadata": {
        "id": "0O0PcsS4H7kc"
      },
      "source": [
        "## Convertir todas las columnas categóricas de un DataFrame de pandas en formatos numéricos adecuados y considerar cuidadosamente los valores NaN durante el proceso"
      ]
    },
    {
      "cell_type": "code",
      "execution_count": 7,
      "id": "0kIXy6tKuN6h",
      "metadata": {
        "colab": {
          "base_uri": "https://localhost:8080/"
        },
        "id": "0kIXy6tKuN6h",
        "outputId": "ec21a81d-0870-4c73-9af4-bd3c2c1e619b"
      },
      "outputs": [
        {
          "name": "stdout",
          "output_type": "stream",
          "text": [
            "G:\n",
            "Valores únicos codificados: [ 0.  1.  2. nan]\n",
            "\n",
            "EC:\n",
            "Valores únicos codificados: [ 0.  2.  1. nan]\n",
            "\n",
            "SP:\n",
            "Valores únicos codificados: [1 0]\n",
            "\n"
          ]
        }
      ],
      "source": [
        "# Crear una instancia de LabelEncoder\n",
        "label_encoder = LabelEncoder()\n",
        "\n",
        "# Iterar sobre todas las columnas del DataFrame\n",
        "for columna in df.columns:\n",
        "    # Verificar si la columna contiene datos no numéricos\n",
        "    if df[columna].dtype == 'object':\n",
        "        # Guardar los índices de los valores NaN\n",
        "        indices_nan = df[columna].isnull()\n",
        "\n",
        "        # Ajustar y transformar la columna usando LabelEncoder\n",
        "        df[columna] = label_encoder.fit_transform(df[columna].astype(str))\n",
        "\n",
        "        # Reemplazar los valores NaN que fueron codificados por NaN nuevamente\n",
        "        df[columna] = df[columna].where(~indices_nan, np.nan)\n",
        "\n",
        "        # Imprimir los valores únicos codificados después de la codificación\n",
        "        print(columna + \":\")\n",
        "        print(\"Valores únicos codificados:\", df[columna].unique())\n",
        "        print()"
      ]
    },
    {
      "cell_type": "markdown",
      "id": "cqGTdIfezSkW",
      "metadata": {
        "id": "cqGTdIfezSkW"
      },
      "source": [
        "## Comprobar los valores y la cantidad, luego de eliminar los valores fuera de rango y codificar las etiquetas"
      ]
    },
    {
      "cell_type": "code",
      "execution_count": 8,
      "id": "Ax7Hl69NzRny",
      "metadata": {
        "colab": {
          "base_uri": "https://localhost:8080/"
        },
        "id": "Ax7Hl69NzRny",
        "outputId": "97d6d303-2e9f-4921-f21b-0f144a74e114"
      },
      "outputs": [
        {
          "name": "stdout",
          "output_type": "stream",
          "text": [
            "CU:\n",
            "Valores únicos: [  2000  12000   9000   5000  50000  10000  14000  20000  26000  63000\n",
            "   7000  25000  32000  36000  18000  13000  45000   6000  23000  16000\n",
            "  28000   1000   4000  21000  15000  38000  31000  40000   8000  29000\n",
            "  34000  30000   3000  24000  47000  48000  35000  33000  11000  42000\n",
            "  17000  37000  27000  22000  19000  51000  46000  44000  41000  49000\n",
            "  39000  58000  60000  62000  61000  70000  67000  68000  43000  55000\n",
            "  54000 100000  53000  71000  56000  52000  75000  64000   1600  57000\n",
            "  59000  66000  72000  32768  74000  80000  76000  69000  65000  78000\n",
            "  73000]\n",
            "Cantidad total de valores: 30000\n",
            "\n",
            "G:\n",
            "Valores únicos: [ 0.  1.  2. nan]\n",
            "Cantidad total de valores: 29997\n",
            "\n",
            "ED:\n",
            "Valores únicos: [2 1 3 5 4 6 0]\n",
            "Cantidad total de valores: 30000\n",
            "\n",
            "EC:\n",
            "Valores únicos: [ 0.  2.  1. nan]\n",
            "Cantidad total de valores: 29946\n",
            "\n",
            "E:\n",
            "Valores únicos: [24 26 34 37 57 29 23 28 35 51 41 30 49 39 40 27 47 33 32 54 58 22 25 31\n",
            " 46 42 43 45 56 44 53 38 63 36 52 48 55 60 50 75 61 73 59 21 67 66 62 70\n",
            " 72 64 65 71 69 68 79 74]\n",
            "Cantidad total de valores: 30000\n",
            "\n",
            "M1:\n",
            "Valores únicos: [ 2. -1. nan  1.  3.  4.  8.  7.  5.  6.]\n",
            "Cantidad total de valores: 12504\n",
            "\n",
            "M2:\n",
            "Valores únicos: [ 2. nan -1.  3.  5.  7.  4.  1.  6.  8.]\n",
            "Cantidad total de valores: 10488\n",
            "\n",
            "M3:\n",
            "Valores únicos: [-1. nan  2.  3.  4.  6.  7.  1.  5.  8.]\n",
            "Cantidad total de valores: 10151\n",
            "\n",
            "M4:\n",
            "Valores únicos: [-1. nan  2.  3.  4.  5.  7.  6.  1.  8.]\n",
            "Cantidad total de valores: 9197\n",
            "\n",
            "M5:\n",
            "Valores únicos: [nan -1.  2.  3.  5.  4.  7.  8.  6.]\n",
            "Cantidad total de valores: 8507\n",
            "\n",
            "M6:\n",
            "Valores únicos: [nan  2. -1.  3.  6.  4.  7.  8.  5.]\n",
            "Cantidad total de valores: 8819\n",
            "\n",
            "D1:\n",
            "Valores únicos: [ 391.3  268.2 2923.9 ...  168.3 -164.5 4792.9]\n",
            "Cantidad total de valores: 30000\n",
            "\n",
            "D2:\n",
            "Valores únicos: [ 310.2  172.5 1402.7 ...  335.6 7837.9 4890.5]\n",
            "Cantidad total de valores: 30000\n",
            "\n",
            "D3:\n",
            "Valores únicos: [  68.9  268.2 1355.9 ...  275.8 7630.4 4976.4]\n",
            "Cantidad total de valores: 30000\n",
            "\n",
            "D4:\n",
            "Valores únicos: [   0.   327.2 1433.1 ... 2087.8 5277.4 3653.5]\n",
            "Cantidad total de valores: 30000\n",
            "\n",
            "D5:\n",
            "Valores únicos: [   0.   345.5 1494.8 ... 3123.7  519.  3242.8]\n",
            "Cantidad total de valores: 30000\n",
            "\n",
            "D6:\n",
            "Valores únicos: [   0.   326.1 1554.9 ... 1935.7 4894.4 1531.3]\n",
            "Cantidad total de valores: 30000\n",
            "\n",
            "P1:\n",
            "Valores únicos: [   0.   151.8  200.  ... 1002.9  905.4 8590. ]\n",
            "Cantidad total de valores: 30000\n",
            "\n",
            "P2:\n",
            "Valores únicos: [   68.9   100.    150.  ...   297.7 11178.4   352.6]\n",
            "Cantidad total de valores: 30000\n",
            "\n",
            "P3:\n",
            "Valores únicos: [    0.    100.    120.  ... 34939.5   890.7  2512.8]\n",
            "Cantidad total de valores: 30000\n",
            "\n",
            "P4:\n",
            "Valores únicos: [   0.   100.   110.  ...  255.6 1011.5  804.9]\n",
            "Cantidad total de valores: 30000\n",
            "\n",
            "P5:\n",
            "Valores únicos: [   0.   100.   106.9 ...  804.   331.9 5296.4]\n",
            "Cantidad total de valores: 30000\n",
            "\n",
            "P6:\n",
            "Valores únicos: [    0.    200.    500.  ...  7005.2 22007.6  1608. ]\n",
            "Cantidad total de valores: 30000\n",
            "\n",
            "SP:\n",
            "Valores únicos: [1 0]\n",
            "Cantidad total de valores: 30000\n",
            "\n"
          ]
        }
      ],
      "source": [
        "columnas = df.columns\n",
        "\n",
        "for columna in columnas:\n",
        "    print(columna + \":\")\n",
        "    val_ca = df[columna].unique()\n",
        "    print(\"Valores únicos:\", val_ca)\n",
        "    print(\"Cantidad total de valores:\", df[columna].count())\n",
        "    print()"
      ]
    },
    {
      "cell_type": "markdown",
      "id": "cf12f21e-0144-4da9-89bf-e6774f32c76d",
      "metadata": {
        "id": "cf12f21e-0144-4da9-89bf-e6774f32c76d"
      },
      "source": [
        "# Existen datos NaN por lo que se aplica una imputación"
      ]
    },
    {
      "cell_type": "code",
      "execution_count": 9,
      "id": "f9ee89df-dffb-4dbd-927f-f5cb37d2b79a",
      "metadata": {
        "id": "f9ee89df-dffb-4dbd-927f-f5cb37d2b79a"
      },
      "outputs": [],
      "source": [
        "from sklearn.impute import KNNImputer\n",
        "imputer = KNNImputer()\n",
        "df= imputer.fit_transform(df)"
      ]
    },
    {
      "cell_type": "markdown",
      "id": "5qXCGHro7hG5",
      "metadata": {
        "id": "5qXCGHro7hG5"
      },
      "source": [
        "##Función para calcular las métricas"
      ]
    },
    {
      "cell_type": "code",
      "execution_count": 10,
      "id": "q3VCqHu77f-9",
      "metadata": {
        "id": "q3VCqHu77f-9"
      },
      "outputs": [],
      "source": [
        "import seaborn as sns\n",
        "import matplotlib.pyplot as plt\n",
        "from sklearn.metrics import confusion_matrix, f1_score\n",
        "\n",
        "def evalua_modelo(model, X_test, y_test):\n",
        "    # Realizar predicciones con el modelo\n",
        "    y_pred = model.predict(X_test)\n",
        "\n",
        "    # Calcular la matriz de confusión\n",
        "    mc = confusion_matrix(y_test, y_pred)\n",
        "\n",
        "    # Calcular métricas de evaluación\n",
        "    vn, fp, fn, vp = mc.ravel()\n",
        "    exact = (vp+vn)/(vp+vn+fp+fn)\n",
        "    precision = vp / (vp + fp)\n",
        "    sensitivity = vp / (vp + fn)\n",
        "    specificity = vn / (vn + fp)\n",
        "    f1 = f1_score(y_test, y_pred)\n",
        "\n",
        "    # Imprimir métricas\n",
        "    print(f\"Exactitud (Accuracy): {exact:.2f}\")\n",
        "    print(f\"Precisión (Precision): {precision:.2f}\")\n",
        "    print(f\"Sensibilidad (Sensitivity): {sensitivity:.2f}\")\n",
        "    print(f\"Especificidad (Specificity): {specificity:.2f}\")\n",
        "    print(f\"f1 (f1-score): {f1:.2f}\")\n",
        "\n",
        "    # Mostrar la matriz de confusión\n",
        "    plt.figure(figsize=(8,6))\n",
        "    sns.heatmap(mc, annot=True, fmt=\"d\", cmap=\"Blues\", square=True, cbar=False)\n",
        "    plt.xlabel(\"Variables predichas\")\n",
        "    plt.ylabel(\"Verdad Terreno\")\n",
        "    plt.show()\n",
        "    return [exact, precision, sensitivity, specificity, f1]\n"
      ]
    },
    {
      "cell_type": "markdown",
      "id": "ue_oCyjYL5_z",
      "metadata": {
        "id": "ue_oCyjYL5_z"
      },
      "source": [
        "## Con datos tipo Numpy se trabaja con matrices normales"
      ]
    },
    {
      "cell_type": "code",
      "execution_count": 11,
      "id": "qeyWS2BJ6IgG",
      "metadata": {
        "id": "qeyWS2BJ6IgG"
      },
      "outputs": [],
      "source": [
        "# Matriz de entrada\n",
        "X = df[:,0:-1]\n",
        "# Vector y de salida\n",
        "y = df[:,-1]\n",
        "\n",
        "# Generar nuestro conjunto de entrenamiento y validación\n",
        "X_train, X_test, y_train, y_test = train_test_split(X, y, test_size=0.3, random_state=40)"
      ]
    },
    {
      "cell_type": "code",
      "execution_count": 12,
      "id": "W3L8Iz1U5yuI",
      "metadata": {
        "colab": {
          "base_uri": "https://localhost:8080/",
          "height": 646
        },
        "id": "W3L8Iz1U5yuI",
        "outputId": "36b55508-c029-4129-af1b-150e09f56963"
      },
      "outputs": [
        {
          "name": "stdout",
          "output_type": "stream",
          "text": [
            "Exactitud (Accuracy): 0.81\n",
            "Precisión (Precision): 0.64\n",
            "Sensibilidad (Sensitivity): 0.30\n",
            "Especificidad (Specificity): 0.95\n",
            "f1 (f1-score): 0.41\n"
          ]
        },
        {
          "data": {
            "image/png": "[encoded data removed]",
            "text/plain": [
              "<Figure size 800x600 with 1 Axes>"
            ]
          },
          "metadata": {},
          "output_type": "display_data"
        },
        {
          "name": "stdout",
          "output_type": "stream",
          "text": [
            "[0.8086666666666666, 0.639697950377562, 0.29934376577486116, 0.9524148739136629, 0.4078404401650619]\n"
          ]
        }
      ],
      "source": [
        "# Crear el modelo\n",
        "modelo_rf = RandomForestClassifier()\n",
        "# Entrenar el modelo\n",
        "modelo_rf.fit(X_train, y_train)\n",
        "# Utiliza la función con tu modelo y datos de prueba\n",
        "metrics_RandomForest = evalua_modelo(modelo_rf, X_test, y_test)\n",
        "print(metrics_RandomForest)"
      ]
    },
    {
      "cell_type": "code",
      "execution_count": 13,
      "id": "TR0lB4zR8EPF",
      "metadata": {
        "colab": {
          "base_uri": "https://localhost:8080/",
          "height": 681
        },
        "id": "TR0lB4zR8EPF",
        "outputId": "335694b1-9f48-4651-9127-2c6903730088"
      },
      "outputs": [
        {
          "name": "stdout",
          "output_type": "stream",
          "text": [
            "16 2 2 0\n",
            "El mejor modelo tuvo las siguientes métricas 81.26666666666667%\n",
            "Exactitud (Accuracy): 0.81\n",
            "Precisión (Precision): 0.67\n",
            "Sensibilidad (Sensitivity): 0.29\n",
            "Especificidad (Specificity): 0.96\n",
            "f1 (f1-score): 0.40\n"
          ]
        },
        {
          "data": {
            "image/png": "[encoded data removed]",
            "text/plain": [
              "<Figure size 800x600 with 1 Axes>"
            ]
          },
          "metadata": {},
          "output_type": "display_data"
        },
        {
          "name": "stdout",
          "output_type": "stream",
          "text": [
            "[0.8126666666666666, 0.673733804475854, 0.2887430590610803, 0.9605356888445648, 0.4042402826855124]\n"
          ]
        }
      ],
      "source": [
        "max_depths = [13,14,15,16,17]\n",
        "min_samples_splits = [2,3]\n",
        "min_samples_leafs = [1, 2,3,4]\n",
        "alphas = [ 0, 0.01]\n",
        "\n",
        "resultado = []  # Lista para almacenar los resultados\n",
        "\n",
        "for max_dep in max_depths:\n",
        "    for min_samples_split in min_samples_splits:\n",
        "        for min_leaf in min_samples_leafs:\n",
        "            for alpha in alphas:\n",
        "                modelo = RandomForestClassifier(max_depth=max_dep,\n",
        "                                                min_samples_split=min_samples_split,\n",
        "                                                min_samples_leaf=min_leaf,\n",
        "                                                n_estimators=100,\n",
        "                                                random_state=42)\n",
        "                modelo.fit(X_train, y_train)\n",
        "                y_pred = modelo.predict(X_test)\n",
        "                exactitud = accuracy_score(y_test, y_pred)\n",
        "                resultado.append((max_dep, min_samples_split, min_leaf, alpha, exactitud))\n",
        "\n",
        "mejores_param = max(resultado, key=lambda item: item[-1])\n",
        "\n",
        "print(mejores_param[0], mejores_param[1], mejores_param[2], mejores_param[3])\n",
        "# Entrenar nuestro mejor modelo\n",
        "mejor_modelo_random_forest = RandomForestClassifier(max_depth=mejores_param[0],\n",
        "                                       min_samples_split=mejores_param[1],\n",
        "                                       min_samples_leaf=mejores_param[2],\n",
        "                                       n_estimators=100,\n",
        "                                       random_state=42)\n",
        "\n",
        "mejor_modelo_random_forest.fit(X_train, y_train)\n",
        "# Validar nuestro mejor modelo\n",
        "y_hat = mejor_modelo_random_forest.predict(X_test)\n",
        "# Para validar los mejores parámetros obtenidos se evalúa de nuevo el modelo con los mismos valores de prueba\n",
        "# y se imprime el porcentaje de exactitud.\n",
        "m_exactitud = accuracy_score(y_test, y_hat)\n",
        "print(f'El mejor modelo tuvo las siguientes métricas {100*m_exactitud}%')\n",
        "metrics_RandomForest_SINTONIZADO = evalua_modelo(mejor_modelo_random_forest, X_test, y_test)\n",
        "print(metrics_RandomForest_SINTONIZADO)"
      ]
    },
    {
      "cell_type": "code",
      "execution_count": 17,
      "id": "Oh4yvmweOlnn",
      "metadata": {
        "colab": {
          "base_uri": "https://localhost:8080/"
        },
        "id": "Oh4yvmweOlnn",
        "outputId": "4d053aa3-c93e-4e93-950c-ad64dc2ca0ac"
      },
      "outputs": [
        {
          "name": "stdout",
          "output_type": "stream",
          "text": [
            "0.8126666666666666\n"
          ]
        }
      ],
      "source": [
        "import pickle\n",
        "# save the model to disk\n",
        "filename = 'model_val.sav'\n",
        "pickle.dump(mejor_modelo_random_forest, open(filename, 'wb'))\n",
        "\n",
        "loaded_model = pickle.load(open(filename, 'rb'))\n",
        "result = loaded_model.score(X_test, y_test)\n",
        "print(result)"
      ]
    },
    {
      "cell_type": "code",
      "execution_count": 19,
      "id": "d60a3bad",
      "metadata": {},
      "outputs": [
        {
          "name": "stdout",
          "output_type": "stream",
          "text": [
            "La exactitud del modelo entrenado es: 0.77\n"
          ]
        },
        {
          "name": "stderr",
          "output_type": "stream",
          "text": [
            "/home/christianr/anaconda3/envs/dias/lib/python3.9/site-packages/sklearn/base.py:457: UserWarning: X has feature names, but RandomForestClassifier was fitted without feature names\n",
            "  warnings.warn(\n"
          ]
        }
      ],
      "source": [
        "# Ver archivo de validación\n",
        "data = pd.read_csv('/mnt/c/Documents and Settings/christianr/Documents/GitHub/EndomorfismoII_2024/PROYECTOS/SEGUNDO PARCIAL/submissions/data_validation.csv')\n",
        "\n",
        "data.head()\n",
        "# Definición de conjunto de datos X e y\n",
        "\n",
        "# Matriz de entrada\n",
        "X = data.drop('SP', axis=1)\n",
        "X = X.drop('G', axis=1)\n",
        "# Vector de salida\n",
        "y = data['SP']\n",
        "\n",
        "# Predecir con el modelo\n",
        "y_pred = mejor_modelo_random_forest.predict(X) \n",
        "\n",
        "from sklearn.metrics import accuracy_score\n",
        "exactitud = accuracy_score(y, y_pred)\n",
        "\n",
        "print(f'La exactitud del modelo entrenado es: {exactitud:.2f}')\n"
      ]
    },
    {
      "cell_type": "code",
      "execution_count": 15,
      "id": "ptt6UOJk8bN6",
      "metadata": {
        "colab": {
          "base_uri": "https://localhost:8080/",
          "height": 646
        },
        "id": "ptt6UOJk8bN6",
        "outputId": "7c708a19-d090-4b2e-93c3-3c02a5061097"
      },
      "outputs": [
        {
          "name": "stdout",
          "output_type": "stream",
          "text": [
            "Exactitud (Accuracy): 0.81\n",
            "Precisión (Precision): 0.61\n",
            "Sensibilidad (Sensitivity): 0.33\n",
            "Especificidad (Specificity): 0.94\n",
            "f1 (f1-score): 0.43\n"
          ]
        },
        {
          "data": {
            "image/png": "[encoded data removed]",
            "text/plain": [
              "<Figure size 800x600 with 1 Axes>"
            ]
          },
          "metadata": {},
          "output_type": "display_data"
        },
        {
          "name": "stdout",
          "output_type": "stream",
          "text": [
            "[0.8051111111111111, 0.6055813953488373, 0.3286219081272085, 0.9395925345490811, 0.4260471204188482]\n"
          ]
        }
      ],
      "source": [
        "from xgboost import XGBClassifier\n",
        "# Entrenar el modelo XGBoost\n",
        "model = XGBClassifier()\n",
        "model.fit(X_train, y_train)\n",
        "\n",
        "# Predecir en el conjunto de prueba\n",
        "y_pred = model.predict(X_test)\n",
        "\n",
        "# Calcular METRICAS\n",
        "metrics_XGB = evalua_modelo(model, X_test, y_test)\n",
        "print(metrics_XGB)"
      ]
    },
    {
      "cell_type": "code",
      "execution_count": 16,
      "id": "Agxqrupj8c4O",
      "metadata": {
        "colab": {
          "base_uri": "https://localhost:8080/",
          "height": 663
        },
        "id": "Agxqrupj8c4O",
        "outputId": "2287102e-c376-482d-f9ec-8e92fbfb0b8c"
      },
      "outputs": [
        {
          "ename": "KeyboardInterrupt",
          "evalue": "",
          "output_type": "error",
          "traceback": [
            "\u001b[0;31m---------------------------------------------------------------------------\u001b[0m",
            "\u001b[0;31mKeyboardInterrupt\u001b[0m                         Traceback (most recent call last)",
            "Cell \u001b[0;32mIn[16], line 17\u001b[0m\n\u001b[1;32m     11\u001b[0m \u001b[38;5;28;01mfor\u001b[39;00m alpha \u001b[38;5;129;01min\u001b[39;00m alphas:\n\u001b[1;32m     12\u001b[0m     modelo \u001b[38;5;241m=\u001b[39m XGBClassifier(max_depth\u001b[38;5;241m=\u001b[39mmax_dep,\n\u001b[1;32m     13\u001b[0m                            min_child_weight\u001b[38;5;241m=\u001b[39mmin_samples_split,\n\u001b[1;32m     14\u001b[0m                            min_split_loss\u001b[38;5;241m=\u001b[39mmin_leaf,\n\u001b[1;32m     15\u001b[0m                            reg_alpha\u001b[38;5;241m=\u001b[39malpha,\n\u001b[1;32m     16\u001b[0m                            random_state\u001b[38;5;241m=\u001b[39m\u001b[38;5;241m42\u001b[39m)\n\u001b[0;32m---> 17\u001b[0m     \u001b[43mmodelo\u001b[49m\u001b[38;5;241;43m.\u001b[39;49m\u001b[43mfit\u001b[49m\u001b[43m(\u001b[49m\u001b[43mX_train\u001b[49m\u001b[43m,\u001b[49m\u001b[43m \u001b[49m\u001b[43my_train\u001b[49m\u001b[43m)\u001b[49m\n\u001b[1;32m     18\u001b[0m     y_pred \u001b[38;5;241m=\u001b[39m modelo\u001b[38;5;241m.\u001b[39mpredict(X_test)\n\u001b[1;32m     19\u001b[0m     exactitud \u001b[38;5;241m=\u001b[39m accuracy_score(y_test, y_pred)\n",
            "File \u001b[0;32m~/anaconda3/envs/dias/lib/python3.9/site-packages/xgboost/core.py:730\u001b[0m, in \u001b[0;36mrequire_keyword_args.<locals>.throw_if.<locals>.inner_f\u001b[0;34m(*args, **kwargs)\u001b[0m\n\u001b[1;32m    728\u001b[0m \u001b[38;5;28;01mfor\u001b[39;00m k, arg \u001b[38;5;129;01min\u001b[39;00m \u001b[38;5;28mzip\u001b[39m(sig\u001b[38;5;241m.\u001b[39mparameters, args):\n\u001b[1;32m    729\u001b[0m     kwargs[k] \u001b[38;5;241m=\u001b[39m arg\n\u001b[0;32m--> 730\u001b[0m \u001b[38;5;28;01mreturn\u001b[39;00m \u001b[43mfunc\u001b[49m\u001b[43m(\u001b[49m\u001b[38;5;241;43m*\u001b[39;49m\u001b[38;5;241;43m*\u001b[39;49m\u001b[43mkwargs\u001b[49m\u001b[43m)\u001b[49m\n",
            "File \u001b[0;32m~/anaconda3/envs/dias/lib/python3.9/site-packages/xgboost/sklearn.py:1519\u001b[0m, in \u001b[0;36mXGBClassifier.fit\u001b[0;34m(self, X, y, sample_weight, base_margin, eval_set, eval_metric, early_stopping_rounds, verbose, xgb_model, sample_weight_eval_set, base_margin_eval_set, feature_weights, callbacks)\u001b[0m\n\u001b[1;32m   1491\u001b[0m (\n\u001b[1;32m   1492\u001b[0m     model,\n\u001b[1;32m   1493\u001b[0m     metric,\n\u001b[0;32m   (...)\u001b[0m\n\u001b[1;32m   1498\u001b[0m     xgb_model, eval_metric, params, early_stopping_rounds, callbacks\n\u001b[1;32m   1499\u001b[0m )\n\u001b[1;32m   1500\u001b[0m train_dmatrix, evals \u001b[38;5;241m=\u001b[39m _wrap_evaluation_matrices(\n\u001b[1;32m   1501\u001b[0m     missing\u001b[38;5;241m=\u001b[39m\u001b[38;5;28mself\u001b[39m\u001b[38;5;241m.\u001b[39mmissing,\n\u001b[1;32m   1502\u001b[0m     X\u001b[38;5;241m=\u001b[39mX,\n\u001b[0;32m   (...)\u001b[0m\n\u001b[1;32m   1516\u001b[0m     feature_types\u001b[38;5;241m=\u001b[39m\u001b[38;5;28mself\u001b[39m\u001b[38;5;241m.\u001b[39mfeature_types,\n\u001b[1;32m   1517\u001b[0m )\n\u001b[0;32m-> 1519\u001b[0m \u001b[38;5;28mself\u001b[39m\u001b[38;5;241m.\u001b[39m_Booster \u001b[38;5;241m=\u001b[39m \u001b[43mtrain\u001b[49m\u001b[43m(\u001b[49m\n\u001b[1;32m   1520\u001b[0m \u001b[43m    \u001b[49m\u001b[43mparams\u001b[49m\u001b[43m,\u001b[49m\n\u001b[1;32m   1521\u001b[0m \u001b[43m    \u001b[49m\u001b[43mtrain_dmatrix\u001b[49m\u001b[43m,\u001b[49m\n\u001b[1;32m   1522\u001b[0m \u001b[43m    \u001b[49m\u001b[38;5;28;43mself\u001b[39;49m\u001b[38;5;241;43m.\u001b[39;49m\u001b[43mget_num_boosting_rounds\u001b[49m\u001b[43m(\u001b[49m\u001b[43m)\u001b[49m\u001b[43m,\u001b[49m\n\u001b[1;32m   1523\u001b[0m \u001b[43m    \u001b[49m\u001b[43mevals\u001b[49m\u001b[38;5;241;43m=\u001b[39;49m\u001b[43mevals\u001b[49m\u001b[43m,\u001b[49m\n\u001b[1;32m   1524\u001b[0m \u001b[43m    \u001b[49m\u001b[43mearly_stopping_rounds\u001b[49m\u001b[38;5;241;43m=\u001b[39;49m\u001b[43mearly_stopping_rounds\u001b[49m\u001b[43m,\u001b[49m\n\u001b[1;32m   1525\u001b[0m \u001b[43m    \u001b[49m\u001b[43mevals_result\u001b[49m\u001b[38;5;241;43m=\u001b[39;49m\u001b[43mevals_result\u001b[49m\u001b[43m,\u001b[49m\n\u001b[1;32m   1526\u001b[0m \u001b[43m    \u001b[49m\u001b[43mobj\u001b[49m\u001b[38;5;241;43m=\u001b[39;49m\u001b[43mobj\u001b[49m\u001b[43m,\u001b[49m\n\u001b[1;32m   1527\u001b[0m \u001b[43m    \u001b[49m\u001b[43mcustom_metric\u001b[49m\u001b[38;5;241;43m=\u001b[39;49m\u001b[43mmetric\u001b[49m\u001b[43m,\u001b[49m\n\u001b[1;32m   1528\u001b[0m \u001b[43m    \u001b[49m\u001b[43mverbose_eval\u001b[49m\u001b[38;5;241;43m=\u001b[39;49m\u001b[43mverbose\u001b[49m\u001b[43m,\u001b[49m\n\u001b[1;32m   1529\u001b[0m \u001b[43m    \u001b[49m\u001b[43mxgb_model\u001b[49m\u001b[38;5;241;43m=\u001b[39;49m\u001b[43mmodel\u001b[49m\u001b[43m,\u001b[49m\n\u001b[1;32m   1530\u001b[0m \u001b[43m    \u001b[49m\u001b[43mcallbacks\u001b[49m\u001b[38;5;241;43m=\u001b[39;49m\u001b[43mcallbacks\u001b[49m\u001b[43m,\u001b[49m\n\u001b[1;32m   1531\u001b[0m \u001b[43m\u001b[49m\u001b[43m)\u001b[49m\n\u001b[1;32m   1533\u001b[0m \u001b[38;5;28;01mif\u001b[39;00m \u001b[38;5;129;01mnot\u001b[39;00m \u001b[38;5;28mcallable\u001b[39m(\u001b[38;5;28mself\u001b[39m\u001b[38;5;241m.\u001b[39mobjective):\n\u001b[1;32m   1534\u001b[0m     \u001b[38;5;28mself\u001b[39m\u001b[38;5;241m.\u001b[39mobjective \u001b[38;5;241m=\u001b[39m params[\u001b[38;5;124m\"\u001b[39m\u001b[38;5;124mobjective\u001b[39m\u001b[38;5;124m\"\u001b[39m]\n",
            "File \u001b[0;32m~/anaconda3/envs/dias/lib/python3.9/site-packages/xgboost/core.py:730\u001b[0m, in \u001b[0;36mrequire_keyword_args.<locals>.throw_if.<locals>.inner_f\u001b[0;34m(*args, **kwargs)\u001b[0m\n\u001b[1;32m    728\u001b[0m \u001b[38;5;28;01mfor\u001b[39;00m k, arg \u001b[38;5;129;01min\u001b[39;00m \u001b[38;5;28mzip\u001b[39m(sig\u001b[38;5;241m.\u001b[39mparameters, args):\n\u001b[1;32m    729\u001b[0m     kwargs[k] \u001b[38;5;241m=\u001b[39m arg\n\u001b[0;32m--> 730\u001b[0m \u001b[38;5;28;01mreturn\u001b[39;00m \u001b[43mfunc\u001b[49m\u001b[43m(\u001b[49m\u001b[38;5;241;43m*\u001b[39;49m\u001b[38;5;241;43m*\u001b[39;49m\u001b[43mkwargs\u001b[49m\u001b[43m)\u001b[49m\n",
            "File \u001b[0;32m~/anaconda3/envs/dias/lib/python3.9/site-packages/xgboost/training.py:181\u001b[0m, in \u001b[0;36mtrain\u001b[0;34m(params, dtrain, num_boost_round, evals, obj, feval, maximize, early_stopping_rounds, evals_result, verbose_eval, xgb_model, callbacks, custom_metric)\u001b[0m\n\u001b[1;32m    179\u001b[0m \u001b[38;5;28;01mif\u001b[39;00m cb_container\u001b[38;5;241m.\u001b[39mbefore_iteration(bst, i, dtrain, evals):\n\u001b[1;32m    180\u001b[0m     \u001b[38;5;28;01mbreak\u001b[39;00m\n\u001b[0;32m--> 181\u001b[0m \u001b[43mbst\u001b[49m\u001b[38;5;241;43m.\u001b[39;49m\u001b[43mupdate\u001b[49m\u001b[43m(\u001b[49m\u001b[43mdtrain\u001b[49m\u001b[43m,\u001b[49m\u001b[43m \u001b[49m\u001b[43mi\u001b[49m\u001b[43m,\u001b[49m\u001b[43m \u001b[49m\u001b[43mobj\u001b[49m\u001b[43m)\u001b[49m\n\u001b[1;32m    182\u001b[0m \u001b[38;5;28;01mif\u001b[39;00m cb_container\u001b[38;5;241m.\u001b[39mafter_iteration(bst, i, dtrain, evals):\n\u001b[1;32m    183\u001b[0m     \u001b[38;5;28;01mbreak\u001b[39;00m\n",
            "File \u001b[0;32m~/anaconda3/envs/dias/lib/python3.9/site-packages/xgboost/core.py:2051\u001b[0m, in \u001b[0;36mBooster.update\u001b[0;34m(self, dtrain, iteration, fobj)\u001b[0m\n\u001b[1;32m   2047\u001b[0m \u001b[38;5;28mself\u001b[39m\u001b[38;5;241m.\u001b[39m_assign_dmatrix_features(dtrain)\n\u001b[1;32m   2049\u001b[0m \u001b[38;5;28;01mif\u001b[39;00m fobj \u001b[38;5;129;01mis\u001b[39;00m \u001b[38;5;28;01mNone\u001b[39;00m:\n\u001b[1;32m   2050\u001b[0m     _check_call(\n\u001b[0;32m-> 2051\u001b[0m         \u001b[43m_LIB\u001b[49m\u001b[38;5;241;43m.\u001b[39;49m\u001b[43mXGBoosterUpdateOneIter\u001b[49m\u001b[43m(\u001b[49m\n\u001b[1;32m   2052\u001b[0m \u001b[43m            \u001b[49m\u001b[38;5;28;43mself\u001b[39;49m\u001b[38;5;241;43m.\u001b[39;49m\u001b[43mhandle\u001b[49m\u001b[43m,\u001b[49m\u001b[43m \u001b[49m\u001b[43mctypes\u001b[49m\u001b[38;5;241;43m.\u001b[39;49m\u001b[43mc_int\u001b[49m\u001b[43m(\u001b[49m\u001b[43miteration\u001b[49m\u001b[43m)\u001b[49m\u001b[43m,\u001b[49m\u001b[43m \u001b[49m\u001b[43mdtrain\u001b[49m\u001b[38;5;241;43m.\u001b[39;49m\u001b[43mhandle\u001b[49m\n\u001b[1;32m   2053\u001b[0m \u001b[43m        \u001b[49m\u001b[43m)\u001b[49m\n\u001b[1;32m   2054\u001b[0m     )\n\u001b[1;32m   2055\u001b[0m \u001b[38;5;28;01melse\u001b[39;00m:\n\u001b[1;32m   2056\u001b[0m     pred \u001b[38;5;241m=\u001b[39m \u001b[38;5;28mself\u001b[39m\u001b[38;5;241m.\u001b[39mpredict(dtrain, output_margin\u001b[38;5;241m=\u001b[39m\u001b[38;5;28;01mTrue\u001b[39;00m, training\u001b[38;5;241m=\u001b[39m\u001b[38;5;28;01mTrue\u001b[39;00m)\n",
            "\u001b[0;31mKeyboardInterrupt\u001b[0m: "
          ]
        }
      ],
      "source": [
        "max_depths = [None,1,3]\n",
        "min_samples_splits = [2, 3, 4]\n",
        "min_samples_leafs = [ 4, 5, 6]\n",
        "alphas = [ 0, 0.02, 0.01]\n",
        "\n",
        "resultado = []  # Lista para almacenar los resultados\n",
        "\n",
        "for max_dep in max_depths:\n",
        "    for min_samples_split in min_samples_splits:\n",
        "        for min_leaf in min_samples_leafs:\n",
        "            for alpha in alphas:\n",
        "                modelo = XGBClassifier(max_depth=max_dep,\n",
        "                                       min_child_weight=min_samples_split,\n",
        "                                       min_split_loss=min_leaf,\n",
        "                                       reg_alpha=alpha,\n",
        "                                       random_state=42)\n",
        "                modelo.fit(X_train, y_train)\n",
        "                y_pred = modelo.predict(X_test)\n",
        "                exactitud = accuracy_score(y_test, y_pred)\n",
        "                resultado.append((max_dep, min_samples_split, min_leaf, alpha, exactitud))\n",
        "\n",
        "mejores_param = max(resultado, key=lambda item: item[-1])\n",
        "\n",
        "print(mejores_param[0], mejores_param[1], mejores_param[2], mejores_param[3])\n",
        "# Entrenar nuestro mejor modelo\n",
        "mejor_modelo = XGBClassifier(max_depth=mejores_param[0],\n",
        "                              min_child_weight=mejores_param[1],\n",
        "                              min_split_loss=mejores_param[2],\n",
        "                              reg_alpha=mejores_param[3],\n",
        "                              random_state=42)\n",
        "\n",
        "mejor_modelo.fit(X_train, y_train)\n",
        "# Validar nuestro mejor modelo\n",
        "y_hat = mejor_modelo.predict(X_test)\n",
        "# Para validar los mejores parámetros obtenidos se evalúa de nuevo el modelo con los mismos valores de prueba\n",
        "# y se imprime el porcentaje de exactitud.\n",
        "m_exactitud = accuracy_score(y_test, y_hat)\n",
        "# Calcular METRICAS\n",
        "metrics_XGB_SINTONIZADO = evalua_modelo(mejor_modelo, X_test, y_test)\n",
        "print(metrics_XGB_SINTONIZADO )"
      ]
    },
    {
      "cell_type": "code",
      "execution_count": null,
      "id": "uWeexhjk7zGw",
      "metadata": {
        "colab": {
          "base_uri": "https://localhost:8080/"
        },
        "id": "uWeexhjk7zGw",
        "outputId": "b3d04998-3b47-4869-c25a-563ee85e2cf8"
      },
      "outputs": [
        {
          "name": "stdout",
          "output_type": "stream",
          "text": [
            "                       Model  Accuracy  Precision  Sensitivity  Specificity  \\\n",
            "0                    XGBoost  0.805111   0.605581     0.328622     0.939593   \n",
            "1              Random Forest  0.806889   0.625907     0.304897     0.948568   \n",
            "2        XGBoost SINTONIZADO  0.812444   0.672963     0.287733     0.960536   \n",
            "3  Random Forest SINTONIZADO  0.812667   0.673734     0.288743     0.960536   \n",
            "\n",
            "         F1  \n",
            "0  0.426047  \n",
            "1  0.410048  \n",
            "2  0.403112  \n",
            "3  0.404240  \n"
          ]
        }
      ],
      "source": [
        "# Crear una lista con los nombres de los modelos\n",
        "model_names = ['XGBoost', 'Random Forest', 'XGBoost SINTONIZADO', 'Random Forest SINTONIZADO'  ]\n",
        "\n",
        "# Crear un diccionario con las métricas de cada modelo\n",
        "metrics_dict = {\n",
        "    'Model': model_names,\n",
        "    'Accuracy': [metrics_XGB[0], metrics_RandomForest[0], metrics_XGB_SINTONIZADO[0], metrics_RandomForest_SINTONIZADO[0]],\n",
        "    'Precision': [metrics_XGB[1], metrics_RandomForest[1], metrics_XGB_SINTONIZADO[1], metrics_RandomForest_SINTONIZADO[1]],\n",
        "    'Sensitivity': [metrics_XGB[2], metrics_RandomForest[2], metrics_XGB_SINTONIZADO[2], metrics_RandomForest_SINTONIZADO[2]],\n",
        "    'Specificity': [metrics_XGB[3], metrics_RandomForest[3], metrics_XGB_SINTONIZADO[3], metrics_RandomForest_SINTONIZADO[3]],\n",
        "    'F1':[metrics_XGB[4], metrics_RandomForest[4],metrics_XGB_SINTONIZADO[4], metrics_RandomForest_SINTONIZADO[4]],\n",
        "}\n",
        "\n",
        "# Crear el DataFrame y mostrar la tabla\n",
        "metrics_table = pd.DataFrame(metrics_dict)\n",
        "print(metrics_table)"
      ]
    }
  ],
  "metadata": {
    "accelerator": "GPU",
    "colab": {
      "gpuType": "T4",
      "provenance": []
    },
    "kernelspec": {
      "display_name": "Python 3 (ipykernel)",
      "language": "python",
      "name": "python3"
    },
    "language_info": {
      "codemirror_mode": {
        "name": "ipython",
        "version": 3
      },
      "file_extension": ".py",
      "mimetype": "text/x-python",
      "name": "python",
      "nbconvert_exporter": "python",
      "pygments_lexer": "ipython3",
      "version": "3.9.18"
    }
  },
  "nbformat": 4,
  "nbformat_minor": 5
}
