{
 "cells": [
  {
   "cell_type": "code",
   "execution_count": 1030,
   "metadata": {},
   "outputs": [],
   "source": [
    "#Importar librerias\n",
    "import pandas as pd\n",
    "import numpy as np\n",
    "from sklearn.model_selection import train_test_split\n",
    "from sklearn.metrics import accuracy_score"
   ]
  },
  {
   "cell_type": "markdown",
   "metadata": {},
   "source": [
    "Cargamos nuestro CSV"
   ]
  },
  {
   "cell_type": "code",
   "execution_count": 1031,
   "metadata": {},
   "outputs": [
    {
     "data": {
      "text/html": [
       "<div>\n",
       "<style scoped>\n",
       "    .dataframe tbody tr th:only-of-type {\n",
       "        vertical-align: middle;\n",
       "    }\n",
       "\n",
       "    .dataframe tbody tr th {\n",
       "        vertical-align: top;\n",
       "    }\n",
       "\n",
       "    .dataframe thead th {\n",
       "        text-align: right;\n",
       "    }\n",
       "</style>\n",
       "<table border=\"1\" class=\"dataframe\">\n",
       "  <thead>\n",
       "    <tr style=\"text-align: right;\">\n",
       "      <th></th>\n",
       "      <th>ID</th>\n",
       "      <th>CU</th>\n",
       "      <th>G</th>\n",
       "      <th>ED</th>\n",
       "      <th>EC</th>\n",
       "      <th>E</th>\n",
       "      <th>M1</th>\n",
       "      <th>M2</th>\n",
       "      <th>M3</th>\n",
       "      <th>M4</th>\n",
       "      <th>...</th>\n",
       "      <th>D4</th>\n",
       "      <th>D5</th>\n",
       "      <th>D6</th>\n",
       "      <th>P1</th>\n",
       "      <th>P2</th>\n",
       "      <th>P3</th>\n",
       "      <th>P4</th>\n",
       "      <th>P5</th>\n",
       "      <th>P6</th>\n",
       "      <th>SP</th>\n",
       "    </tr>\n",
       "  </thead>\n",
       "  <tbody>\n",
       "    <tr>\n",
       "      <th>0</th>\n",
       "      <td>1</td>\n",
       "      <td>2000</td>\n",
       "      <td>F</td>\n",
       "      <td>2</td>\n",
       "      <td>Casado</td>\n",
       "      <td>24</td>\n",
       "      <td>2</td>\n",
       "      <td>2</td>\n",
       "      <td>-1</td>\n",
       "      <td>-1</td>\n",
       "      <td>...</td>\n",
       "      <td>0.0</td>\n",
       "      <td>0.0</td>\n",
       "      <td>0.0</td>\n",
       "      <td>0.0</td>\n",
       "      <td>68.9</td>\n",
       "      <td>0.0</td>\n",
       "      <td>0.0</td>\n",
       "      <td>0.0</td>\n",
       "      <td>0.0</td>\n",
       "      <td>Si</td>\n",
       "    </tr>\n",
       "    <tr>\n",
       "      <th>1</th>\n",
       "      <td>2</td>\n",
       "      <td>12000</td>\n",
       "      <td>F</td>\n",
       "      <td>2</td>\n",
       "      <td>Soltero</td>\n",
       "      <td>26</td>\n",
       "      <td>-1</td>\n",
       "      <td>2</td>\n",
       "      <td>0</td>\n",
       "      <td>0</td>\n",
       "      <td>...</td>\n",
       "      <td>327.2</td>\n",
       "      <td>345.5</td>\n",
       "      <td>326.1</td>\n",
       "      <td>0.0</td>\n",
       "      <td>100.0</td>\n",
       "      <td>100.0</td>\n",
       "      <td>100.0</td>\n",
       "      <td>0.0</td>\n",
       "      <td>200.0</td>\n",
       "      <td>Si</td>\n",
       "    </tr>\n",
       "    <tr>\n",
       "      <th>2</th>\n",
       "      <td>3</td>\n",
       "      <td>9000</td>\n",
       "      <td>F</td>\n",
       "      <td>2</td>\n",
       "      <td>Soltero</td>\n",
       "      <td>34</td>\n",
       "      <td>0</td>\n",
       "      <td>0</td>\n",
       "      <td>0</td>\n",
       "      <td>0</td>\n",
       "      <td>...</td>\n",
       "      <td>1433.1</td>\n",
       "      <td>1494.8</td>\n",
       "      <td>1554.9</td>\n",
       "      <td>151.8</td>\n",
       "      <td>150.0</td>\n",
       "      <td>100.0</td>\n",
       "      <td>100.0</td>\n",
       "      <td>100.0</td>\n",
       "      <td>500.0</td>\n",
       "      <td>No</td>\n",
       "    </tr>\n",
       "    <tr>\n",
       "      <th>3</th>\n",
       "      <td>4</td>\n",
       "      <td>5000</td>\n",
       "      <td>F</td>\n",
       "      <td>2</td>\n",
       "      <td>Casado</td>\n",
       "      <td>37</td>\n",
       "      <td>0</td>\n",
       "      <td>0</td>\n",
       "      <td>0</td>\n",
       "      <td>0</td>\n",
       "      <td>...</td>\n",
       "      <td>2831.4</td>\n",
       "      <td>2895.9</td>\n",
       "      <td>2954.7</td>\n",
       "      <td>200.0</td>\n",
       "      <td>201.9</td>\n",
       "      <td>120.0</td>\n",
       "      <td>110.0</td>\n",
       "      <td>106.9</td>\n",
       "      <td>100.0</td>\n",
       "      <td>No</td>\n",
       "    </tr>\n",
       "    <tr>\n",
       "      <th>4</th>\n",
       "      <td>5</td>\n",
       "      <td>5000</td>\n",
       "      <td>M</td>\n",
       "      <td>2</td>\n",
       "      <td>Casado</td>\n",
       "      <td>57</td>\n",
       "      <td>-1</td>\n",
       "      <td>0</td>\n",
       "      <td>-1</td>\n",
       "      <td>0</td>\n",
       "      <td>...</td>\n",
       "      <td>2094.0</td>\n",
       "      <td>1914.6</td>\n",
       "      <td>1913.1</td>\n",
       "      <td>200.0</td>\n",
       "      <td>3668.1</td>\n",
       "      <td>1000.0</td>\n",
       "      <td>900.0</td>\n",
       "      <td>68.9</td>\n",
       "      <td>67.9</td>\n",
       "      <td>No</td>\n",
       "    </tr>\n",
       "    <tr>\n",
       "      <th>5</th>\n",
       "      <td>6</td>\n",
       "      <td>5000</td>\n",
       "      <td>M</td>\n",
       "      <td>1</td>\n",
       "      <td>Soltero</td>\n",
       "      <td>37</td>\n",
       "      <td>0</td>\n",
       "      <td>0</td>\n",
       "      <td>0</td>\n",
       "      <td>0</td>\n",
       "      <td>...</td>\n",
       "      <td>1939.4</td>\n",
       "      <td>1961.9</td>\n",
       "      <td>2002.4</td>\n",
       "      <td>250.0</td>\n",
       "      <td>181.5</td>\n",
       "      <td>65.7</td>\n",
       "      <td>100.0</td>\n",
       "      <td>100.0</td>\n",
       "      <td>80.0</td>\n",
       "      <td>No</td>\n",
       "    </tr>\n",
       "    <tr>\n",
       "      <th>6</th>\n",
       "      <td>7</td>\n",
       "      <td>50000</td>\n",
       "      <td>M</td>\n",
       "      <td>1</td>\n",
       "      <td>Soltero</td>\n",
       "      <td>29</td>\n",
       "      <td>0</td>\n",
       "      <td>0</td>\n",
       "      <td>0</td>\n",
       "      <td>0</td>\n",
       "      <td>...</td>\n",
       "      <td>54265.3</td>\n",
       "      <td>48300.3</td>\n",
       "      <td>47394.4</td>\n",
       "      <td>5500.0</td>\n",
       "      <td>4000.0</td>\n",
       "      <td>3800.0</td>\n",
       "      <td>2023.9</td>\n",
       "      <td>1375.0</td>\n",
       "      <td>1377.0</td>\n",
       "      <td>No</td>\n",
       "    </tr>\n",
       "    <tr>\n",
       "      <th>7</th>\n",
       "      <td>8</td>\n",
       "      <td>10000</td>\n",
       "      <td>F</td>\n",
       "      <td>2</td>\n",
       "      <td>Soltero</td>\n",
       "      <td>23</td>\n",
       "      <td>0</td>\n",
       "      <td>-1</td>\n",
       "      <td>-1</td>\n",
       "      <td>0</td>\n",
       "      <td>...</td>\n",
       "      <td>22.1</td>\n",
       "      <td>-15.9</td>\n",
       "      <td>56.7</td>\n",
       "      <td>38.0</td>\n",
       "      <td>60.1</td>\n",
       "      <td>0.0</td>\n",
       "      <td>58.1</td>\n",
       "      <td>168.7</td>\n",
       "      <td>154.2</td>\n",
       "      <td>No</td>\n",
       "    </tr>\n",
       "    <tr>\n",
       "      <th>8</th>\n",
       "      <td>9</td>\n",
       "      <td>14000</td>\n",
       "      <td>F</td>\n",
       "      <td>3</td>\n",
       "      <td>Casado</td>\n",
       "      <td>28</td>\n",
       "      <td>0</td>\n",
       "      <td>0</td>\n",
       "      <td>2</td>\n",
       "      <td>0</td>\n",
       "      <td>...</td>\n",
       "      <td>1221.1</td>\n",
       "      <td>1179.3</td>\n",
       "      <td>371.9</td>\n",
       "      <td>332.9</td>\n",
       "      <td>0.0</td>\n",
       "      <td>43.2</td>\n",
       "      <td>100.0</td>\n",
       "      <td>100.0</td>\n",
       "      <td>100.0</td>\n",
       "      <td>No</td>\n",
       "    </tr>\n",
       "    <tr>\n",
       "      <th>9</th>\n",
       "      <td>10</td>\n",
       "      <td>2000</td>\n",
       "      <td>M</td>\n",
       "      <td>3</td>\n",
       "      <td>Soltero</td>\n",
       "      <td>35</td>\n",
       "      <td>-2</td>\n",
       "      <td>-2</td>\n",
       "      <td>-2</td>\n",
       "      <td>-2</td>\n",
       "      <td>...</td>\n",
       "      <td>0.0</td>\n",
       "      <td>1300.7</td>\n",
       "      <td>1391.2</td>\n",
       "      <td>0.0</td>\n",
       "      <td>0.0</td>\n",
       "      <td>0.0</td>\n",
       "      <td>1300.7</td>\n",
       "      <td>112.2</td>\n",
       "      <td>0.0</td>\n",
       "      <td>No</td>\n",
       "    </tr>\n",
       "  </tbody>\n",
       "</table>\n",
       "<p>10 rows × 25 columns</p>\n",
       "</div>"
      ],
      "text/plain": [
       "   ID     CU  G  ED       EC   E  M1  M2  M3  M4  ...       D4       D5  \\\n",
       "0   1   2000  F   2   Casado  24   2   2  -1  -1  ...      0.0      0.0   \n",
       "1   2  12000  F   2  Soltero  26  -1   2   0   0  ...    327.2    345.5   \n",
       "2   3   9000  F   2  Soltero  34   0   0   0   0  ...   1433.1   1494.8   \n",
       "3   4   5000  F   2   Casado  37   0   0   0   0  ...   2831.4   2895.9   \n",
       "4   5   5000  M   2   Casado  57  -1   0  -1   0  ...   2094.0   1914.6   \n",
       "5   6   5000  M   1  Soltero  37   0   0   0   0  ...   1939.4   1961.9   \n",
       "6   7  50000  M   1  Soltero  29   0   0   0   0  ...  54265.3  48300.3   \n",
       "7   8  10000  F   2  Soltero  23   0  -1  -1   0  ...     22.1    -15.9   \n",
       "8   9  14000  F   3   Casado  28   0   0   2   0  ...   1221.1   1179.3   \n",
       "9  10   2000  M   3  Soltero  35  -2  -2  -2  -2  ...      0.0   1300.7   \n",
       "\n",
       "        D6      P1      P2      P3      P4      P5      P6  SP  \n",
       "0      0.0     0.0    68.9     0.0     0.0     0.0     0.0  Si  \n",
       "1    326.1     0.0   100.0   100.0   100.0     0.0   200.0  Si  \n",
       "2   1554.9   151.8   150.0   100.0   100.0   100.0   500.0  No  \n",
       "3   2954.7   200.0   201.9   120.0   110.0   106.9   100.0  No  \n",
       "4   1913.1   200.0  3668.1  1000.0   900.0    68.9    67.9  No  \n",
       "5   2002.4   250.0   181.5    65.7   100.0   100.0    80.0  No  \n",
       "6  47394.4  5500.0  4000.0  3800.0  2023.9  1375.0  1377.0  No  \n",
       "7     56.7    38.0    60.1     0.0    58.1   168.7   154.2  No  \n",
       "8    371.9   332.9     0.0    43.2   100.0   100.0   100.0  No  \n",
       "9   1391.2     0.0     0.0     0.0  1300.7   112.2     0.0  No  \n",
       "\n",
       "[10 rows x 25 columns]"
      ]
     },
     "execution_count": 1031,
     "metadata": {},
     "output_type": "execute_result"
    }
   ],
   "source": [
    "url = \"https://raw.githubusercontent.com/chrisrueda/EndomorfismoII_2024/main/PROYECTOS/SEGUNDO%20PARCIAL/mora_cdto.csv\"\n",
    "\n",
    "\n",
    "data= pd.read_csv(url)\n",
    "\n",
    "data.head(10)"
   ]
  },
  {
   "cell_type": "markdown",
   "metadata": {},
   "source": [
    "Análisis de los datos"
   ]
  },
  {
   "cell_type": "code",
   "execution_count": 1032,
   "metadata": {},
   "outputs": [
    {
     "name": "stdout",
     "output_type": "stream",
     "text": [
      "<class 'pandas.core.frame.DataFrame'>\n",
      "RangeIndex: 30000 entries, 0 to 29999\n",
      "Data columns (total 25 columns):\n",
      " #   Column  Non-Null Count  Dtype  \n",
      "---  ------  --------------  -----  \n",
      " 0   ID      30000 non-null  int64  \n",
      " 1   CU      30000 non-null  int64  \n",
      " 2   G       29997 non-null  object \n",
      " 3   ED      30000 non-null  int64  \n",
      " 4   EC      29999 non-null  object \n",
      " 5   E       30000 non-null  int64  \n",
      " 6   M1      30000 non-null  int64  \n",
      " 7   M2      30000 non-null  int64  \n",
      " 8   M3      30000 non-null  int64  \n",
      " 9   M4      30000 non-null  int64  \n",
      " 10  M5      30000 non-null  int64  \n",
      " 11  M6      30000 non-null  int64  \n",
      " 12  D1      30000 non-null  float64\n",
      " 13  D2      30000 non-null  float64\n",
      " 14  D3      30000 non-null  float64\n",
      " 15  D4      30000 non-null  float64\n",
      " 16  D5      30000 non-null  float64\n",
      " 17  D6      30000 non-null  float64\n",
      " 18  P1      30000 non-null  float64\n",
      " 19  P2      30000 non-null  float64\n",
      " 20  P3      30000 non-null  float64\n",
      " 21  P4      30000 non-null  float64\n",
      " 22  P5      30000 non-null  float64\n",
      " 23  P6      30000 non-null  float64\n",
      " 24  SP      30000 non-null  object \n",
      "dtypes: float64(12), int64(10), object(3)\n",
      "memory usage: 5.7+ MB\n"
     ]
    }
   ],
   "source": [
    "data.info()"
   ]
  },
  {
   "cell_type": "code",
   "execution_count": 1033,
   "metadata": {},
   "outputs": [
    {
     "data": {
      "text/html": [
       "<div>\n",
       "<style scoped>\n",
       "    .dataframe tbody tr th:only-of-type {\n",
       "        vertical-align: middle;\n",
       "    }\n",
       "\n",
       "    .dataframe tbody tr th {\n",
       "        vertical-align: top;\n",
       "    }\n",
       "\n",
       "    .dataframe thead th {\n",
       "        text-align: right;\n",
       "    }\n",
       "</style>\n",
       "<table border=\"1\" class=\"dataframe\">\n",
       "  <thead>\n",
       "    <tr style=\"text-align: right;\">\n",
       "      <th></th>\n",
       "      <th>ID</th>\n",
       "      <th>CU</th>\n",
       "      <th>ED</th>\n",
       "      <th>E</th>\n",
       "      <th>M1</th>\n",
       "      <th>M2</th>\n",
       "      <th>M3</th>\n",
       "      <th>M4</th>\n",
       "      <th>M5</th>\n",
       "      <th>M6</th>\n",
       "      <th>...</th>\n",
       "      <th>D3</th>\n",
       "      <th>D4</th>\n",
       "      <th>D5</th>\n",
       "      <th>D6</th>\n",
       "      <th>P1</th>\n",
       "      <th>P2</th>\n",
       "      <th>P3</th>\n",
       "      <th>P4</th>\n",
       "      <th>P5</th>\n",
       "      <th>P6</th>\n",
       "    </tr>\n",
       "  </thead>\n",
       "  <tbody>\n",
       "    <tr>\n",
       "      <th>count</th>\n",
       "      <td>30000.000000</td>\n",
       "      <td>30000.000000</td>\n",
       "      <td>30000.000000</td>\n",
       "      <td>30000.000000</td>\n",
       "      <td>30000.000000</td>\n",
       "      <td>30000.000000</td>\n",
       "      <td>30000.000000</td>\n",
       "      <td>30000.000000</td>\n",
       "      <td>30000.000000</td>\n",
       "      <td>30000.000000</td>\n",
       "      <td>...</td>\n",
       "      <td>30000.000000</td>\n",
       "      <td>30000.000000</td>\n",
       "      <td>30000.000000</td>\n",
       "      <td>30000.000000</td>\n",
       "      <td>30000.000000</td>\n",
       "      <td>30000.00000</td>\n",
       "      <td>30000.000000</td>\n",
       "      <td>30000.000000</td>\n",
       "      <td>30000.000000</td>\n",
       "      <td>30000.000000</td>\n",
       "    </tr>\n",
       "    <tr>\n",
       "      <th>mean</th>\n",
       "      <td>15000.500000</td>\n",
       "      <td>16748.432267</td>\n",
       "      <td>1.853133</td>\n",
       "      <td>35.485500</td>\n",
       "      <td>-0.016700</td>\n",
       "      <td>-0.133767</td>\n",
       "      <td>-0.166200</td>\n",
       "      <td>-0.220667</td>\n",
       "      <td>-0.266200</td>\n",
       "      <td>-0.291100</td>\n",
       "      <td>...</td>\n",
       "      <td>4701.315480</td>\n",
       "      <td>4326.294897</td>\n",
       "      <td>4031.140097</td>\n",
       "      <td>3887.176040</td>\n",
       "      <td>566.358050</td>\n",
       "      <td>592.11635</td>\n",
       "      <td>522.568150</td>\n",
       "      <td>482.607687</td>\n",
       "      <td>479.938763</td>\n",
       "      <td>521.550257</td>\n",
       "    </tr>\n",
       "    <tr>\n",
       "      <th>std</th>\n",
       "      <td>8660.398374</td>\n",
       "      <td>12974.766157</td>\n",
       "      <td>0.790349</td>\n",
       "      <td>9.217904</td>\n",
       "      <td>1.123802</td>\n",
       "      <td>1.197186</td>\n",
       "      <td>1.196868</td>\n",
       "      <td>1.169139</td>\n",
       "      <td>1.133187</td>\n",
       "      <td>1.149988</td>\n",
       "      <td>...</td>\n",
       "      <td>6934.938743</td>\n",
       "      <td>6433.285613</td>\n",
       "      <td>6079.715577</td>\n",
       "      <td>5955.410754</td>\n",
       "      <td>1656.328035</td>\n",
       "      <td>2304.08704</td>\n",
       "      <td>1760.696147</td>\n",
       "      <td>1566.615974</td>\n",
       "      <td>1527.830568</td>\n",
       "      <td>1777.746578</td>\n",
       "    </tr>\n",
       "    <tr>\n",
       "      <th>min</th>\n",
       "      <td>1.000000</td>\n",
       "      <td>1000.000000</td>\n",
       "      <td>0.000000</td>\n",
       "      <td>21.000000</td>\n",
       "      <td>-2.000000</td>\n",
       "      <td>-2.000000</td>\n",
       "      <td>-2.000000</td>\n",
       "      <td>-2.000000</td>\n",
       "      <td>-2.000000</td>\n",
       "      <td>-2.000000</td>\n",
       "      <td>...</td>\n",
       "      <td>-15726.400000</td>\n",
       "      <td>-17000.000000</td>\n",
       "      <td>-8133.400000</td>\n",
       "      <td>-33960.300000</td>\n",
       "      <td>0.000000</td>\n",
       "      <td>0.00000</td>\n",
       "      <td>0.000000</td>\n",
       "      <td>0.000000</td>\n",
       "      <td>0.000000</td>\n",
       "      <td>0.000000</td>\n",
       "    </tr>\n",
       "    <tr>\n",
       "      <th>25%</th>\n",
       "      <td>7500.750000</td>\n",
       "      <td>5000.000000</td>\n",
       "      <td>1.000000</td>\n",
       "      <td>28.000000</td>\n",
       "      <td>-1.000000</td>\n",
       "      <td>-1.000000</td>\n",
       "      <td>-1.000000</td>\n",
       "      <td>-1.000000</td>\n",
       "      <td>-1.000000</td>\n",
       "      <td>-1.000000</td>\n",
       "      <td>...</td>\n",
       "      <td>266.625000</td>\n",
       "      <td>232.675000</td>\n",
       "      <td>176.300000</td>\n",
       "      <td>125.600000</td>\n",
       "      <td>100.000000</td>\n",
       "      <td>83.30000</td>\n",
       "      <td>39.000000</td>\n",
       "      <td>29.600000</td>\n",
       "      <td>25.250000</td>\n",
       "      <td>11.775000</td>\n",
       "    </tr>\n",
       "    <tr>\n",
       "      <th>50%</th>\n",
       "      <td>15000.500000</td>\n",
       "      <td>14000.000000</td>\n",
       "      <td>2.000000</td>\n",
       "      <td>34.000000</td>\n",
       "      <td>0.000000</td>\n",
       "      <td>0.000000</td>\n",
       "      <td>0.000000</td>\n",
       "      <td>0.000000</td>\n",
       "      <td>0.000000</td>\n",
       "      <td>0.000000</td>\n",
       "      <td>...</td>\n",
       "      <td>2008.850000</td>\n",
       "      <td>1905.200000</td>\n",
       "      <td>1810.450000</td>\n",
       "      <td>1707.100000</td>\n",
       "      <td>210.000000</td>\n",
       "      <td>200.90000</td>\n",
       "      <td>180.000000</td>\n",
       "      <td>150.000000</td>\n",
       "      <td>150.000000</td>\n",
       "      <td>150.000000</td>\n",
       "    </tr>\n",
       "    <tr>\n",
       "      <th>75%</th>\n",
       "      <td>22500.250000</td>\n",
       "      <td>24000.000000</td>\n",
       "      <td>2.000000</td>\n",
       "      <td>41.000000</td>\n",
       "      <td>0.000000</td>\n",
       "      <td>0.000000</td>\n",
       "      <td>0.000000</td>\n",
       "      <td>0.000000</td>\n",
       "      <td>0.000000</td>\n",
       "      <td>0.000000</td>\n",
       "      <td>...</td>\n",
       "      <td>6016.475000</td>\n",
       "      <td>5450.600000</td>\n",
       "      <td>5019.050000</td>\n",
       "      <td>4919.825000</td>\n",
       "      <td>500.600000</td>\n",
       "      <td>500.00000</td>\n",
       "      <td>450.500000</td>\n",
       "      <td>401.325000</td>\n",
       "      <td>403.150000</td>\n",
       "      <td>400.000000</td>\n",
       "    </tr>\n",
       "    <tr>\n",
       "      <th>max</th>\n",
       "      <td>30000.000000</td>\n",
       "      <td>100000.000000</td>\n",
       "      <td>6.000000</td>\n",
       "      <td>79.000000</td>\n",
       "      <td>8.000000</td>\n",
       "      <td>8.000000</td>\n",
       "      <td>8.000000</td>\n",
       "      <td>8.000000</td>\n",
       "      <td>8.000000</td>\n",
       "      <td>8.000000</td>\n",
       "      <td>...</td>\n",
       "      <td>166408.900000</td>\n",
       "      <td>89158.600000</td>\n",
       "      <td>92717.100000</td>\n",
       "      <td>96166.400000</td>\n",
       "      <td>87355.200000</td>\n",
       "      <td>168425.90000</td>\n",
       "      <td>89604.000000</td>\n",
       "      <td>62100.000000</td>\n",
       "      <td>42652.900000</td>\n",
       "      <td>52866.600000</td>\n",
       "    </tr>\n",
       "  </tbody>\n",
       "</table>\n",
       "<p>8 rows × 22 columns</p>\n",
       "</div>"
      ],
      "text/plain": [
       "                 ID             CU            ED             E            M1  \\\n",
       "count  30000.000000   30000.000000  30000.000000  30000.000000  30000.000000   \n",
       "mean   15000.500000   16748.432267      1.853133     35.485500     -0.016700   \n",
       "std     8660.398374   12974.766157      0.790349      9.217904      1.123802   \n",
       "min        1.000000    1000.000000      0.000000     21.000000     -2.000000   \n",
       "25%     7500.750000    5000.000000      1.000000     28.000000     -1.000000   \n",
       "50%    15000.500000   14000.000000      2.000000     34.000000      0.000000   \n",
       "75%    22500.250000   24000.000000      2.000000     41.000000      0.000000   \n",
       "max    30000.000000  100000.000000      6.000000     79.000000      8.000000   \n",
       "\n",
       "                 M2            M3            M4            M5            M6  \\\n",
       "count  30000.000000  30000.000000  30000.000000  30000.000000  30000.000000   \n",
       "mean      -0.133767     -0.166200     -0.220667     -0.266200     -0.291100   \n",
       "std        1.197186      1.196868      1.169139      1.133187      1.149988   \n",
       "min       -2.000000     -2.000000     -2.000000     -2.000000     -2.000000   \n",
       "25%       -1.000000     -1.000000     -1.000000     -1.000000     -1.000000   \n",
       "50%        0.000000      0.000000      0.000000      0.000000      0.000000   \n",
       "75%        0.000000      0.000000      0.000000      0.000000      0.000000   \n",
       "max        8.000000      8.000000      8.000000      8.000000      8.000000   \n",
       "\n",
       "       ...             D3            D4            D5            D6  \\\n",
       "count  ...   30000.000000  30000.000000  30000.000000  30000.000000   \n",
       "mean   ...    4701.315480   4326.294897   4031.140097   3887.176040   \n",
       "std    ...    6934.938743   6433.285613   6079.715577   5955.410754   \n",
       "min    ...  -15726.400000 -17000.000000  -8133.400000 -33960.300000   \n",
       "25%    ...     266.625000    232.675000    176.300000    125.600000   \n",
       "50%    ...    2008.850000   1905.200000   1810.450000   1707.100000   \n",
       "75%    ...    6016.475000   5450.600000   5019.050000   4919.825000   \n",
       "max    ...  166408.900000  89158.600000  92717.100000  96166.400000   \n",
       "\n",
       "                 P1            P2            P3            P4            P5  \\\n",
       "count  30000.000000   30000.00000  30000.000000  30000.000000  30000.000000   \n",
       "mean     566.358050     592.11635    522.568150    482.607687    479.938763   \n",
       "std     1656.328035    2304.08704   1760.696147   1566.615974   1527.830568   \n",
       "min        0.000000       0.00000      0.000000      0.000000      0.000000   \n",
       "25%      100.000000      83.30000     39.000000     29.600000     25.250000   \n",
       "50%      210.000000     200.90000    180.000000    150.000000    150.000000   \n",
       "75%      500.600000     500.00000    450.500000    401.325000    403.150000   \n",
       "max    87355.200000  168425.90000  89604.000000  62100.000000  42652.900000   \n",
       "\n",
       "                 P6  \n",
       "count  30000.000000  \n",
       "mean     521.550257  \n",
       "std     1777.746578  \n",
       "min        0.000000  \n",
       "25%       11.775000  \n",
       "50%      150.000000  \n",
       "75%      400.000000  \n",
       "max    52866.600000  \n",
       "\n",
       "[8 rows x 22 columns]"
      ]
     },
     "execution_count": 1033,
     "metadata": {},
     "output_type": "execute_result"
    }
   ],
   "source": [
    "data.describe()"
   ]
  },
  {
   "cell_type": "markdown",
   "metadata": {},
   "source": [
    "Queremos saber cuales datos faltantes tenemos"
   ]
  },
  {
   "cell_type": "code",
   "execution_count": 1034,
   "metadata": {},
   "outputs": [
    {
     "name": "stdout",
     "output_type": "stream",
     "text": [
      "ID\n",
      "False    30000\n",
      "Name: count, dtype: int64\n",
      "CU\n",
      "False    30000\n",
      "Name: count, dtype: int64\n",
      "G\n",
      "False    29997\n",
      "True         3\n",
      "Name: count, dtype: int64\n",
      "ED\n",
      "False    30000\n",
      "Name: count, dtype: int64\n",
      "EC\n",
      "False    29999\n",
      "True         1\n",
      "Name: count, dtype: int64\n",
      "E\n",
      "False    30000\n",
      "Name: count, dtype: int64\n",
      "M1\n",
      "False    30000\n",
      "Name: count, dtype: int64\n",
      "M2\n",
      "False    30000\n",
      "Name: count, dtype: int64\n",
      "M3\n",
      "False    30000\n",
      "Name: count, dtype: int64\n",
      "M4\n",
      "False    30000\n",
      "Name: count, dtype: int64\n",
      "M5\n",
      "False    30000\n",
      "Name: count, dtype: int64\n",
      "M6\n",
      "False    30000\n",
      "Name: count, dtype: int64\n",
      "D1\n",
      "False    30000\n",
      "Name: count, dtype: int64\n",
      "D2\n",
      "False    30000\n",
      "Name: count, dtype: int64\n",
      "D3\n",
      "False    30000\n",
      "Name: count, dtype: int64\n",
      "D4\n",
      "False    30000\n",
      "Name: count, dtype: int64\n",
      "D5\n",
      "False    30000\n",
      "Name: count, dtype: int64\n",
      "D6\n",
      "False    30000\n",
      "Name: count, dtype: int64\n",
      "P1\n",
      "False    30000\n",
      "Name: count, dtype: int64\n",
      "P2\n",
      "False    30000\n",
      "Name: count, dtype: int64\n",
      "P3\n",
      "False    30000\n",
      "Name: count, dtype: int64\n",
      "P4\n",
      "False    30000\n",
      "Name: count, dtype: int64\n",
      "P5\n",
      "False    30000\n",
      "Name: count, dtype: int64\n",
      "P6\n",
      "False    30000\n",
      "Name: count, dtype: int64\n",
      "SP\n",
      "False    30000\n",
      "Name: count, dtype: int64\n"
     ]
    }
   ],
   "source": [
    "datos_faltantes = data.isnull()\n",
    "\n",
    "for i in datos_faltantes.columns.values.tolist():\n",
    "    print(datos_faltantes[i].value_counts())"
   ]
  },
  {
   "cell_type": "code",
   "execution_count": 1035,
   "metadata": {},
   "outputs": [
    {
     "data": {
      "text/plain": [
       "ID    30000\n",
       "CU    30000\n",
       "G     29997\n",
       "ED    30000\n",
       "EC    29999\n",
       "E     30000\n",
       "M1    30000\n",
       "M2    30000\n",
       "M3    30000\n",
       "M4    30000\n",
       "M5    30000\n",
       "M6    30000\n",
       "D1    30000\n",
       "D2    30000\n",
       "D3    30000\n",
       "D4    30000\n",
       "D5    30000\n",
       "D6    30000\n",
       "P1    30000\n",
       "P2    30000\n",
       "P3    30000\n",
       "P4    30000\n",
       "P5    30000\n",
       "P6    30000\n",
       "SP    30000\n",
       "dtype: int64"
      ]
     },
     "execution_count": 1035,
     "metadata": {},
     "output_type": "execute_result"
    }
   ],
   "source": [
    "data.count()"
   ]
  },
  {
   "cell_type": "code",
   "execution_count": 1036,
   "metadata": {},
   "outputs": [
    {
     "data": {
      "text/plain": [
       "ID      int64\n",
       "CU      int64\n",
       "G      object\n",
       "ED      int64\n",
       "EC     object\n",
       "E       int64\n",
       "M1      int64\n",
       "M2      int64\n",
       "M3      int64\n",
       "M4      int64\n",
       "M5      int64\n",
       "M6      int64\n",
       "D1    float64\n",
       "D2    float64\n",
       "D3    float64\n",
       "D4    float64\n",
       "D5    float64\n",
       "D6    float64\n",
       "P1    float64\n",
       "P2    float64\n",
       "P3    float64\n",
       "P4    float64\n",
       "P5    float64\n",
       "P6    float64\n",
       "SP     object\n",
       "dtype: object"
      ]
     },
     "execution_count": 1036,
     "metadata": {},
     "output_type": "execute_result"
    }
   ],
   "source": [
    "data.dtypes"
   ]
  },
  {
   "cell_type": "markdown",
   "metadata": {},
   "source": [
    "Procedemos a llenar los datos faltantes"
   ]
  },
  {
   "cell_type": "code",
   "execution_count": 1037,
   "metadata": {},
   "outputs": [
    {
     "name": "stdout",
     "output_type": "stream",
     "text": [
      "   ID     CU    G  ED       EC   E  M1  M2  M3  M4  ...      D4      D5  \\\n",
      "0   1   2000  0.0   2   Casado  24   2   2  -1  -1  ...     0.0     0.0   \n",
      "1   2  12000  0.0   2  Soltero  26  -1   2   0   0  ...   327.2   345.5   \n",
      "2   3   9000  0.0   2  Soltero  34   0   0   0   0  ...  1433.1  1494.8   \n",
      "3   4   5000  0.0   2   Casado  37   0   0   0   0  ...  2831.4  2895.9   \n",
      "4   5   5000  1.0   2   Casado  57  -1   0  -1   0  ...  2094.0  1914.6   \n",
      "\n",
      "       D6     P1      P2      P3     P4     P5     P6  SP  \n",
      "0     0.0    0.0    68.9     0.0    0.0    0.0    0.0  Si  \n",
      "1   326.1    0.0   100.0   100.0  100.0    0.0  200.0  Si  \n",
      "2  1554.9  151.8   150.0   100.0  100.0  100.0  500.0  No  \n",
      "3  2954.7  200.0   201.9   120.0  110.0  106.9  100.0  No  \n",
      "4  1913.1  200.0  3668.1  1000.0  900.0   68.9   67.9  No  \n",
      "\n",
      "[5 rows x 25 columns]\n"
     ]
    }
   ],
   "source": [
    "# Convertir \"M\" a 1 y \"F\" a 0 en la columna \"X\"\n",
    "data[\"G\"] = data[\"G\"].map({\"M\": 1, \"F\": 0})\n",
    "\n",
    "# Verificar los cambios\n",
    "print(data.head())"
   ]
  },
  {
   "cell_type": "code",
   "execution_count": 1038,
   "metadata": {},
   "outputs": [
    {
     "name": "stdout",
     "output_type": "stream",
     "text": [
      "   ID     CU    G  ED   EC   E  M1  M2  M3  M4  ...      D4      D5      D6  \\\n",
      "0   1   2000  0.0   2  1.0  24   2   2  -1  -1  ...     0.0     0.0     0.0   \n",
      "1   2  12000  0.0   2  0.0  26  -1   2   0   0  ...   327.2   345.5   326.1   \n",
      "2   3   9000  0.0   2  0.0  34   0   0   0   0  ...  1433.1  1494.8  1554.9   \n",
      "3   4   5000  0.0   2  1.0  37   0   0   0   0  ...  2831.4  2895.9  2954.7   \n",
      "4   5   5000  1.0   2  1.0  57  -1   0  -1   0  ...  2094.0  1914.6  1913.1   \n",
      "\n",
      "      P1      P2      P3     P4     P5     P6  SP  \n",
      "0    0.0    68.9     0.0    0.0    0.0    0.0  Si  \n",
      "1    0.0   100.0   100.0  100.0    0.0  200.0  Si  \n",
      "2  151.8   150.0   100.0  100.0  100.0  500.0  No  \n",
      "3  200.0   201.9   120.0  110.0  106.9  100.0  No  \n",
      "4  200.0  3668.1  1000.0  900.0   68.9   67.9  No  \n",
      "\n",
      "[5 rows x 25 columns]\n"
     ]
    }
   ],
   "source": [
    "# Convertir \"M\" a 1 y \"F\" a 0 en la columna \"X\"\n",
    "data[\"EC\"] = data[\"EC\"].map({\"Casado\": 1, \"Soltero\": 0})\n",
    "\n",
    "# Verificar los cambios\n",
    "print(data.head())"
   ]
  },
  {
   "cell_type": "code",
   "execution_count": 1039,
   "metadata": {},
   "outputs": [
    {
     "name": "stdout",
     "output_type": "stream",
     "text": [
      "   ID     CU    G  ED   EC   E  M1  M2  M3  M4  ...      D4      D5      D6  \\\n",
      "0   1   2000  0.0   2  1.0  24   2   2  -1  -1  ...     0.0     0.0     0.0   \n",
      "1   2  12000  0.0   2  0.0  26  -1   2   0   0  ...   327.2   345.5   326.1   \n",
      "2   3   9000  0.0   2  0.0  34   0   0   0   0  ...  1433.1  1494.8  1554.9   \n",
      "3   4   5000  0.0   2  1.0  37   0   0   0   0  ...  2831.4  2895.9  2954.7   \n",
      "4   5   5000  1.0   2  1.0  57  -1   0  -1   0  ...  2094.0  1914.6  1913.1   \n",
      "\n",
      "      P1      P2      P3     P4     P5     P6  SP  \n",
      "0    0.0    68.9     0.0    0.0    0.0    0.0   1  \n",
      "1    0.0   100.0   100.0  100.0    0.0  200.0   1  \n",
      "2  151.8   150.0   100.0  100.0  100.0  500.0   0  \n",
      "3  200.0   201.9   120.0  110.0  106.9  100.0   0  \n",
      "4  200.0  3668.1  1000.0  900.0   68.9   67.9   0  \n",
      "\n",
      "[5 rows x 25 columns]\n"
     ]
    }
   ],
   "source": [
    "# Convertir \"M\" a 1 y \"F\" a 0 en la columna \"X\"\n",
    "data[\"SP\"] = data[\"SP\"].map({\"Si\": 1, \"No\": 0})\n",
    "\n",
    "# Verificar los cambios\n",
    "print(data.head())"
   ]
  },
  {
   "cell_type": "code",
   "execution_count": 1040,
   "metadata": {},
   "outputs": [
    {
     "data": {
      "text/plain": [
       "ID      int64\n",
       "CU      int64\n",
       "G     float64\n",
       "ED      int64\n",
       "EC    float64\n",
       "E       int64\n",
       "M1      int64\n",
       "M2      int64\n",
       "M3      int64\n",
       "M4      int64\n",
       "M5      int64\n",
       "M6      int64\n",
       "D1    float64\n",
       "D2    float64\n",
       "D3    float64\n",
       "D4    float64\n",
       "D5    float64\n",
       "D6    float64\n",
       "P1    float64\n",
       "P2    float64\n",
       "P3    float64\n",
       "P4    float64\n",
       "P5    float64\n",
       "P6    float64\n",
       "SP      int64\n",
       "dtype: object"
      ]
     },
     "execution_count": 1040,
     "metadata": {},
     "output_type": "execute_result"
    }
   ],
   "source": [
    "data.dtypes"
   ]
  },
  {
   "cell_type": "code",
   "execution_count": 1041,
   "metadata": {},
   "outputs": [
    {
     "name": "stdout",
     "output_type": "stream",
     "text": [
      "La variable más frecuente para G es: 0.0\n"
     ]
    },
    {
     "name": "stderr",
     "output_type": "stream",
     "text": [
      "C:\\Users\\Francisco\\AppData\\Local\\Temp\\ipykernel_14316\\2788611521.py:6: FutureWarning: A value is trying to be set on a copy of a DataFrame or Series through chained assignment using an inplace method.\n",
      "The behavior will change in pandas 3.0. This inplace method will never work because the intermediate object on which we are setting values always behaves as a copy.\n",
      "\n",
      "For example, when doing 'df[col].method(value, inplace=True)', try using 'df.method({col: value}, inplace=True)' or df[col] = df[col].method(value) instead, to perform the operation inplace on the original object.\n",
      "\n",
      "\n",
      "  data[\"G\"].replace(np.nan, mas_freq,inplace=True) #opción 2\n"
     ]
    },
    {
     "data": {
      "text/plain": [
       "30000"
      ]
     },
     "execution_count": 1041,
     "metadata": {},
     "output_type": "execute_result"
    }
   ],
   "source": [
    "#Categórico\n",
    "mas_freq = data[\"G\"].value_counts().idxmax()\n",
    "print(f\"La variable más frecuente para G es: {mas_freq}\")\n",
    "#Imputar la variable\n",
    "data[\"G\"] = data[\"G\"].replace(np.nan, mas_freq) #opción 1\n",
    "data[\"G\"].replace(np.nan, mas_freq,inplace=True) #opción 2\n",
    "#Comprobar faltantes \n",
    "data[\"G\"].count()"
   ]
  },
  {
   "cell_type": "markdown",
   "metadata": {},
   "source": [
    "Queremos saber si en uan columna tenemos datos en NaN"
   ]
  },
  {
   "cell_type": "code",
   "execution_count": 1042,
   "metadata": {},
   "outputs": [
    {
     "name": "stdout",
     "output_type": "stream",
     "text": [
      "Columns with NaN values:\n",
      "EC\n"
     ]
    }
   ],
   "source": [
    "columns_with_nan = data.columns[data.isna().any()]\n",
    "\n",
    "# Print the columns with NaN values\n",
    "print(\"Columns with NaN values:\")\n",
    "for col in columns_with_nan:\n",
    "    print(col)"
   ]
  },
  {
   "cell_type": "code",
   "execution_count": 1043,
   "metadata": {},
   "outputs": [
    {
     "name": "stdout",
     "output_type": "stream",
     "text": [
      "La variable más frecuente para EC es: 0.0\n"
     ]
    },
    {
     "name": "stderr",
     "output_type": "stream",
     "text": [
      "C:\\Users\\Francisco\\AppData\\Local\\Temp\\ipykernel_14316\\1837702239.py:6: FutureWarning: A value is trying to be set on a copy of a DataFrame or Series through chained assignment using an inplace method.\n",
      "The behavior will change in pandas 3.0. This inplace method will never work because the intermediate object on which we are setting values always behaves as a copy.\n",
      "\n",
      "For example, when doing 'df[col].method(value, inplace=True)', try using 'df.method({col: value}, inplace=True)' or df[col] = df[col].method(value) instead, to perform the operation inplace on the original object.\n",
      "\n",
      "\n",
      "  data[\"EC\"].replace(np.nan, mas_freq,inplace=True) #opción 2\n"
     ]
    },
    {
     "data": {
      "text/plain": [
       "30000"
      ]
     },
     "execution_count": 1043,
     "metadata": {},
     "output_type": "execute_result"
    }
   ],
   "source": [
    "#Categórico\n",
    "mas_freq = data[\"EC\"].value_counts().idxmax()\n",
    "print(f\"La variable más frecuente para EC es: {mas_freq}\")\n",
    "#Imputar la variable\n",
    "data[\"EC\"] = data[\"EC\"].replace(np.nan, mas_freq) #opción 1\n",
    "data[\"EC\"].replace(np.nan, mas_freq,inplace=True) #opción 2\n",
    "#Comprobar faltantes \n",
    "data[\"EC\"].count()"
   ]
  },
  {
   "cell_type": "code",
   "execution_count": 1044,
   "metadata": {},
   "outputs": [],
   "source": [
    "from sklearn.ensemble import RandomForestClassifier\n",
    "from sklearn.metrics import confusion_matrix, accuracy_score, precision_score, recall_score, f1_score\n",
    "from sklearn.model_selection import train_test_split\n",
    "\n",
    "# Matriz de entrada para el modelo 1\n",
    "X = data.drop('SP', axis=1)\n",
    "# Target - Vector de salida\n",
    "y = data['SP']\n",
    "\n",
    "# Generar nuestro conjunto de entrenamiento y validación\n",
    "X_train, X_test, y_train, y_test = train_test_split(X, y, test_size=0.3, random_state=40)\n",
    "\n"
   ]
  },
  {
   "cell_type": "code",
   "execution_count": 1045,
   "metadata": {},
   "outputs": [],
   "source": [
    "# Matriz de entrada para el modelo 2\n",
    "X2 = data.drop('SP', axis=1)\n",
    "# Target - Vector de salida\n",
    "y2 = data['SP']\n",
    "\n",
    "# Generar nuestro conjunto de entrenamiento y validación\n",
    "X_train2, X_test2, y_train2, y_test2 = train_test_split(X2, y2, test_size=0.3, random_state=40)"
   ]
  },
  {
   "cell_type": "markdown",
   "metadata": {},
   "source": [
    "Importamos nuestro primer modelo (Random Forest)"
   ]
  },
  {
   "cell_type": "code",
   "execution_count": 1046,
   "metadata": {},
   "outputs": [],
   "source": [
    "from sklearn.ensemble import RandomForestClassifier\n",
    "\n",
    "rf = RandomForestClassifier(n_estimators=100,\n",
    "                            max_depth=None,\n",
    "                            min_samples_split=3,\n",
    "                            min_samples_leaf=4,\n",
    "                            random_state=30,\n",
    "                            bootstrap=True,\n",
    "                            oob_score=True,\n",
    "                            class_weight=None,\n",
    "                            n_jobs=-2)\n"
   ]
  },
  {
   "cell_type": "code",
   "execution_count": 1047,
   "metadata": {},
   "outputs": [
    {
     "data": {
      "text/html": [
       "<style>#sk-container-id-70 {color: black;}#sk-container-id-70 pre{padding: 0;}#sk-container-id-70 div.sk-toggleable {background-color: white;}#sk-container-id-70 label.sk-toggleable__label {cursor: pointer;display: block;width: 100%;margin-bottom: 0;padding: 0.3em;box-sizing: border-box;text-align: center;}#sk-container-id-70 label.sk-toggleable__label-arrow:before {content: \"▸\";float: left;margin-right: 0.25em;color: #696969;}#sk-container-id-70 label.sk-toggleable__label-arrow:hover:before {color: black;}#sk-container-id-70 div.sk-estimator:hover label.sk-toggleable__label-arrow:before {color: black;}#sk-container-id-70 div.sk-toggleable__content {max-height: 0;max-width: 0;overflow: hidden;text-align: left;background-color: #f0f8ff;}#sk-container-id-70 div.sk-toggleable__content pre {margin: 0.2em;color: black;border-radius: 0.25em;background-color: #f0f8ff;}#sk-container-id-70 input.sk-toggleable__control:checked~div.sk-toggleable__content {max-height: 200px;max-width: 100%;overflow: auto;}#sk-container-id-70 input.sk-toggleable__control:checked~label.sk-toggleable__label-arrow:before {content: \"▾\";}#sk-container-id-70 div.sk-estimator input.sk-toggleable__control:checked~label.sk-toggleable__label {background-color: #d4ebff;}#sk-container-id-70 div.sk-label input.sk-toggleable__control:checked~label.sk-toggleable__label {background-color: #d4ebff;}#sk-container-id-70 input.sk-hidden--visually {border: 0;clip: rect(1px 1px 1px 1px);clip: rect(1px, 1px, 1px, 1px);height: 1px;margin: -1px;overflow: hidden;padding: 0;position: absolute;width: 1px;}#sk-container-id-70 div.sk-estimator {font-family: monospace;background-color: #f0f8ff;border: 1px dotted black;border-radius: 0.25em;box-sizing: border-box;margin-bottom: 0.5em;}#sk-container-id-70 div.sk-estimator:hover {background-color: #d4ebff;}#sk-container-id-70 div.sk-parallel-item::after {content: \"\";width: 100%;border-bottom: 1px solid gray;flex-grow: 1;}#sk-container-id-70 div.sk-label:hover label.sk-toggleable__label {background-color: #d4ebff;}#sk-container-id-70 div.sk-serial::before {content: \"\";position: absolute;border-left: 1px solid gray;box-sizing: border-box;top: 0;bottom: 0;left: 50%;z-index: 0;}#sk-container-id-70 div.sk-serial {display: flex;flex-direction: column;align-items: center;background-color: white;padding-right: 0.2em;padding-left: 0.2em;position: relative;}#sk-container-id-70 div.sk-item {position: relative;z-index: 1;}#sk-container-id-70 div.sk-parallel {display: flex;align-items: stretch;justify-content: center;background-color: white;position: relative;}#sk-container-id-70 div.sk-item::before, #sk-container-id-70 div.sk-parallel-item::before {content: \"\";position: absolute;border-left: 1px solid gray;box-sizing: border-box;top: 0;bottom: 0;left: 50%;z-index: -1;}#sk-container-id-70 div.sk-parallel-item {display: flex;flex-direction: column;z-index: 1;position: relative;background-color: white;}#sk-container-id-70 div.sk-parallel-item:first-child::after {align-self: flex-end;width: 50%;}#sk-container-id-70 div.sk-parallel-item:last-child::after {align-self: flex-start;width: 50%;}#sk-container-id-70 div.sk-parallel-item:only-child::after {width: 0;}#sk-container-id-70 div.sk-dashed-wrapped {border: 1px dashed gray;margin: 0 0.4em 0.5em 0.4em;box-sizing: border-box;padding-bottom: 0.4em;background-color: white;}#sk-container-id-70 div.sk-label label {font-family: monospace;font-weight: bold;display: inline-block;line-height: 1.2em;}#sk-container-id-70 div.sk-label-container {text-align: center;}#sk-container-id-70 div.sk-container {/* jupyter's `normalize.less` sets `[hidden] { display: none; }` but bootstrap.min.css set `[hidden] { display: none !important; }` so we also need the `!important` here to be able to override the default hidden behavior on the sphinx rendered scikit-learn.org. See: https://github.com/scikit-learn/scikit-learn/issues/21755 */display: inline-block !important;position: relative;}#sk-container-id-70 div.sk-text-repr-fallback {display: none;}</style><div id=\"sk-container-id-70\" class=\"sk-top-container\"><div class=\"sk-text-repr-fallback\"><pre>RandomForestClassifier(min_samples_leaf=4, min_samples_split=3, n_jobs=-2,\n",
       "                       oob_score=True, random_state=30)</pre><b>In a Jupyter environment, please rerun this cell to show the HTML representation or trust the notebook. <br />On GitHub, the HTML representation is unable to render, please try loading this page with nbviewer.org.</b></div><div class=\"sk-container\" hidden><div class=\"sk-item\"><div class=\"sk-estimator sk-toggleable\"><input class=\"sk-toggleable__control sk-hidden--visually\" id=\"sk-estimator-id-70\" type=\"checkbox\" checked><label for=\"sk-estimator-id-70\" class=\"sk-toggleable__label sk-toggleable__label-arrow\">RandomForestClassifier</label><div class=\"sk-toggleable__content\"><pre>RandomForestClassifier(min_samples_leaf=4, min_samples_split=3, n_jobs=-2,\n",
       "                       oob_score=True, random_state=30)</pre></div></div></div></div></div>"
      ],
      "text/plain": [
       "RandomForestClassifier(min_samples_leaf=4, min_samples_split=3, n_jobs=-2,\n",
       "                       oob_score=True, random_state=30)"
      ]
     },
     "execution_count": 1047,
     "metadata": {},
     "output_type": "execute_result"
    }
   ],
   "source": [
    "rf.fit(X_train, y_train)"
   ]
  },
  {
   "cell_type": "code",
   "execution_count": 1048,
   "metadata": {},
   "outputs": [],
   "source": [
    "# Validar el modelo\n",
    "y_pred = rf.predict(X_test)"
   ]
  },
  {
   "cell_type": "markdown",
   "metadata": {},
   "source": [
    "La metrica para nuestro primer modelo"
   ]
  },
  {
   "cell_type": "code",
   "execution_count": 1049,
   "metadata": {},
   "outputs": [
    {
     "name": "stdout",
     "output_type": "stream",
     "text": [
      "Matriz de confusión:\n",
      " [[6659  360]\n",
      " [1213  768]]\n",
      "Exactitud: 0.83\n",
      "Precision: 0.68\n",
      "Sensibilidad: 0.39\n",
      "Especificidad: 0.95\n",
      "f1-Score: 0.49\n"
     ]
    }
   ],
   "source": [
    "# Matriz de confusión\n",
    "con_mat = confusion_matrix(y_test, y_pred)\n",
    "print(f\"Matriz de confusión:\\n {con_mat}\")\n",
    "# Exactitud\n",
    "exactitud = accuracy_score(y_test, y_pred)\n",
    "# Precision\n",
    "precision = precision_score(y_test, y_pred)\n",
    "# Sensibilidad\n",
    "recall = recall_score(y_test, y_pred)\n",
    "# Especificidad\n",
    "vn, fp, fn, vp = con_mat.ravel()\n",
    "especificidad = vn / (vn + fp)\n",
    "#f1-score\n",
    "f1 = f1_score(y_test, y_pred)\n",
    "\n",
    "print(f\"Exactitud: {exactitud:.2f}\\nPrecision: {precision:.2f}\\nSensibilidad: {recall:.2f}\\nEspecificidad: {especificidad:.2f}\\nf1-Score: {f1:.2f}\")"
   ]
  },
  {
   "cell_type": "markdown",
   "metadata": {},
   "source": [
    "Importamos nuestro segundo modelo (XBG)"
   ]
  },
  {
   "cell_type": "code",
   "execution_count": 1050,
   "metadata": {},
   "outputs": [],
   "source": [
    "from xgboost import XGBClassifier\n",
    "from sklearn.metrics import classification_report\n",
    "\n",
    "xgb = XGBClassifier(n_estimators=70,\n",
    "                    max_depth=6,\n",
    "                    learning_rate=0.1,\n",
    "                    gamma=0,\n",
    "                    reg_lambda=3,\n",
    "                    colsample_bytree=1,\n",
    "                    colsample_bylevel=1,\n",
    "                    min_child_weight=1,\n",
    "                    max_delta_step=0,\n",
    "                    seed=42)\n",
    "\n"
   ]
  },
  {
   "cell_type": "code",
   "execution_count": 1051,
   "metadata": {},
   "outputs": [],
   "source": [
    "#Entrenamiento\n",
    "xgb.fit(X_train2, y_train2)\n",
    "#Predicción\n",
    "y_pred2 = xgb.predict(X_test2)"
   ]
  },
  {
   "cell_type": "code",
   "execution_count": 1052,
   "metadata": {},
   "outputs": [
    {
     "data": {
      "text/html": [
       "<style>#sk-container-id-71 {color: black;}#sk-container-id-71 pre{padding: 0;}#sk-container-id-71 div.sk-toggleable {background-color: white;}#sk-container-id-71 label.sk-toggleable__label {cursor: pointer;display: block;width: 100%;margin-bottom: 0;padding: 0.3em;box-sizing: border-box;text-align: center;}#sk-container-id-71 label.sk-toggleable__label-arrow:before {content: \"▸\";float: left;margin-right: 0.25em;color: #696969;}#sk-container-id-71 label.sk-toggleable__label-arrow:hover:before {color: black;}#sk-container-id-71 div.sk-estimator:hover label.sk-toggleable__label-arrow:before {color: black;}#sk-container-id-71 div.sk-toggleable__content {max-height: 0;max-width: 0;overflow: hidden;text-align: left;background-color: #f0f8ff;}#sk-container-id-71 div.sk-toggleable__content pre {margin: 0.2em;color: black;border-radius: 0.25em;background-color: #f0f8ff;}#sk-container-id-71 input.sk-toggleable__control:checked~div.sk-toggleable__content {max-height: 200px;max-width: 100%;overflow: auto;}#sk-container-id-71 input.sk-toggleable__control:checked~label.sk-toggleable__label-arrow:before {content: \"▾\";}#sk-container-id-71 div.sk-estimator input.sk-toggleable__control:checked~label.sk-toggleable__label {background-color: #d4ebff;}#sk-container-id-71 div.sk-label input.sk-toggleable__control:checked~label.sk-toggleable__label {background-color: #d4ebff;}#sk-container-id-71 input.sk-hidden--visually {border: 0;clip: rect(1px 1px 1px 1px);clip: rect(1px, 1px, 1px, 1px);height: 1px;margin: -1px;overflow: hidden;padding: 0;position: absolute;width: 1px;}#sk-container-id-71 div.sk-estimator {font-family: monospace;background-color: #f0f8ff;border: 1px dotted black;border-radius: 0.25em;box-sizing: border-box;margin-bottom: 0.5em;}#sk-container-id-71 div.sk-estimator:hover {background-color: #d4ebff;}#sk-container-id-71 div.sk-parallel-item::after {content: \"\";width: 100%;border-bottom: 1px solid gray;flex-grow: 1;}#sk-container-id-71 div.sk-label:hover label.sk-toggleable__label {background-color: #d4ebff;}#sk-container-id-71 div.sk-serial::before {content: \"\";position: absolute;border-left: 1px solid gray;box-sizing: border-box;top: 0;bottom: 0;left: 50%;z-index: 0;}#sk-container-id-71 div.sk-serial {display: flex;flex-direction: column;align-items: center;background-color: white;padding-right: 0.2em;padding-left: 0.2em;position: relative;}#sk-container-id-71 div.sk-item {position: relative;z-index: 1;}#sk-container-id-71 div.sk-parallel {display: flex;align-items: stretch;justify-content: center;background-color: white;position: relative;}#sk-container-id-71 div.sk-item::before, #sk-container-id-71 div.sk-parallel-item::before {content: \"\";position: absolute;border-left: 1px solid gray;box-sizing: border-box;top: 0;bottom: 0;left: 50%;z-index: -1;}#sk-container-id-71 div.sk-parallel-item {display: flex;flex-direction: column;z-index: 1;position: relative;background-color: white;}#sk-container-id-71 div.sk-parallel-item:first-child::after {align-self: flex-end;width: 50%;}#sk-container-id-71 div.sk-parallel-item:last-child::after {align-self: flex-start;width: 50%;}#sk-container-id-71 div.sk-parallel-item:only-child::after {width: 0;}#sk-container-id-71 div.sk-dashed-wrapped {border: 1px dashed gray;margin: 0 0.4em 0.5em 0.4em;box-sizing: border-box;padding-bottom: 0.4em;background-color: white;}#sk-container-id-71 div.sk-label label {font-family: monospace;font-weight: bold;display: inline-block;line-height: 1.2em;}#sk-container-id-71 div.sk-label-container {text-align: center;}#sk-container-id-71 div.sk-container {/* jupyter's `normalize.less` sets `[hidden] { display: none; }` but bootstrap.min.css set `[hidden] { display: none !important; }` so we also need the `!important` here to be able to override the default hidden behavior on the sphinx rendered scikit-learn.org. See: https://github.com/scikit-learn/scikit-learn/issues/21755 */display: inline-block !important;position: relative;}#sk-container-id-71 div.sk-text-repr-fallback {display: none;}</style><div id=\"sk-container-id-71\" class=\"sk-top-container\"><div class=\"sk-text-repr-fallback\"><pre>XGBClassifier(base_score=None, booster=None, callbacks=None,\n",
       "              colsample_bylevel=1, colsample_bynode=None, colsample_bytree=1,\n",
       "              early_stopping_rounds=None, enable_categorical=False,\n",
       "              eval_metric=None, feature_types=None, gamma=0, gpu_id=None,\n",
       "              grow_policy=None, importance_type=None,\n",
       "              interaction_constraints=None, learning_rate=0.1, max_bin=None,\n",
       "              max_cat_threshold=None, max_cat_to_onehot=None, max_delta_step=0,\n",
       "              max_depth=6, max_leaves=None, min_child_weight=1, missing=nan,\n",
       "              monotone_constraints=None, n_estimators=70, n_jobs=None,\n",
       "              num_parallel_tree=None, predictor=None, random_state=None, ...)</pre><b>In a Jupyter environment, please rerun this cell to show the HTML representation or trust the notebook. <br />On GitHub, the HTML representation is unable to render, please try loading this page with nbviewer.org.</b></div><div class=\"sk-container\" hidden><div class=\"sk-item\"><div class=\"sk-estimator sk-toggleable\"><input class=\"sk-toggleable__control sk-hidden--visually\" id=\"sk-estimator-id-71\" type=\"checkbox\" checked><label for=\"sk-estimator-id-71\" class=\"sk-toggleable__label sk-toggleable__label-arrow\">XGBClassifier</label><div class=\"sk-toggleable__content\"><pre>XGBClassifier(base_score=None, booster=None, callbacks=None,\n",
       "              colsample_bylevel=1, colsample_bynode=None, colsample_bytree=1,\n",
       "              early_stopping_rounds=None, enable_categorical=False,\n",
       "              eval_metric=None, feature_types=None, gamma=0, gpu_id=None,\n",
       "              grow_policy=None, importance_type=None,\n",
       "              interaction_constraints=None, learning_rate=0.1, max_bin=None,\n",
       "              max_cat_threshold=None, max_cat_to_onehot=None, max_delta_step=0,\n",
       "              max_depth=6, max_leaves=None, min_child_weight=1, missing=nan,\n",
       "              monotone_constraints=None, n_estimators=70, n_jobs=None,\n",
       "              num_parallel_tree=None, predictor=None, random_state=None, ...)</pre></div></div></div></div></div>"
      ],
      "text/plain": [
       "XGBClassifier(base_score=None, booster=None, callbacks=None,\n",
       "              colsample_bylevel=1, colsample_bynode=None, colsample_bytree=1,\n",
       "              early_stopping_rounds=None, enable_categorical=False,\n",
       "              eval_metric=None, feature_types=None, gamma=0, gpu_id=None,\n",
       "              grow_policy=None, importance_type=None,\n",
       "              interaction_constraints=None, learning_rate=0.1, max_bin=None,\n",
       "              max_cat_threshold=None, max_cat_to_onehot=None, max_delta_step=0,\n",
       "              max_depth=6, max_leaves=None, min_child_weight=1, missing=nan,\n",
       "              monotone_constraints=None, n_estimators=70, n_jobs=None,\n",
       "              num_parallel_tree=None, predictor=None, random_state=None, ...)"
      ]
     },
     "execution_count": 1052,
     "metadata": {},
     "output_type": "execute_result"
    }
   ],
   "source": [
    "xgb.fit(X_train2, y_train2)"
   ]
  },
  {
   "cell_type": "code",
   "execution_count": 1053,
   "metadata": {},
   "outputs": [],
   "source": [
    "# Validar el modelo\n",
    "y_pred2 = xgb.predict(X_test2)"
   ]
  },
  {
   "cell_type": "markdown",
   "metadata": {},
   "source": [
    "Metrica de nuestro segundo modelo"
   ]
  },
  {
   "cell_type": "code",
   "execution_count": 1054,
   "metadata": {},
   "outputs": [
    {
     "name": "stdout",
     "output_type": "stream",
     "text": [
      "Matriz de confusión:\n",
      " [[6674  345]\n",
      " [1227  754]]\n",
      "Exactitud: 0.83\n",
      "Precision: 0.69\n",
      "Sensibilidad: 0.38\n",
      "Especificidad: 0.95\n",
      "f1-Score: 0.49\n"
     ]
    }
   ],
   "source": [
    "# Matriz de confusión\n",
    "con_mat2 = confusion_matrix(y_test2, y_pred2)\n",
    "print(f\"Matriz de confusión:\\n {con_mat2}\")\n",
    "# Exactitud\n",
    "exactitud2 = accuracy_score(y_test2, y_pred2)\n",
    "# Precision\n",
    "precision2 = precision_score(y_test2, y_pred2)\n",
    "# Sensibilidad\n",
    "recall2 = recall_score(y_test2, y_pred2)\n",
    "# Especificidad\n",
    "vn2, fp2, fn2, vp2 = con_mat2.ravel()\n",
    "especificidad2 = vn2 / (vn2 + fp2)\n",
    "#f1-score\n",
    "f12 = f1_score(y_test2, y_pred2)\n",
    "\n",
    "print(f\"Exactitud: {exactitud2:.2f}\\nPrecision: {precision2:.2f}\\nSensibilidad: {recall2:.2f}\\nEspecificidad: {especificidad2:.2f}\\nf1-Score: {f12:.2f}\")"
   ]
  },
  {
   "cell_type": "markdown",
   "metadata": {},
   "source": [
    "Guardamos el primer modelo"
   ]
  },
  {
   "cell_type": "code",
   "execution_count": 1055,
   "metadata": {},
   "outputs": [
    {
     "data": {
      "text/plain": [
       "['Modelo_rf.pkl']"
      ]
     },
     "execution_count": 1055,
     "metadata": {},
     "output_type": "execute_result"
    }
   ],
   "source": [
    "# Save Model Using joblib\n",
    "import pandas\n",
    "from sklearn import model_selection\n",
    "from sklearn.linear_model import LogisticRegression\n",
    "import joblib\n",
    "joblib.dump(rf, \"Modelo_rf.pkl\")"
   ]
  }
 ],
 "metadata": {
  "kernelspec": {
   "display_name": "Para_Endo",
   "language": "python",
   "name": "python3"
  },
  "language_info": {
   "codemirror_mode": {
    "name": "ipython",
    "version": 3
   },
   "file_extension": ".py",
   "mimetype": "text/x-python",
   "name": "python",
   "nbconvert_exporter": "python",
   "pygments_lexer": "ipython3",
   "version": "3.9.18"
  }
 },
 "nbformat": 4,
 "nbformat_minor": 2
}
