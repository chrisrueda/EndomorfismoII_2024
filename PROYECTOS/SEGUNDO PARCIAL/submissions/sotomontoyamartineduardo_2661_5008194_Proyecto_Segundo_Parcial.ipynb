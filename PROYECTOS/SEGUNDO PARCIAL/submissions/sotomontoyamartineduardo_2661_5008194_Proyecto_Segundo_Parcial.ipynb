{
 "cells": [
  {
   "cell_type": "markdown",
   "metadata": {},
   "source": [
    "### Integrantes: Josué Deley, Martin Soto"
   ]
  },
  {
   "cell_type": "markdown",
   "metadata": {},
   "source": [
    "# Banco Omega Dataset"
   ]
  },
  {
   "cell_type": "markdown",
   "metadata": {},
   "source": [
    "El banco Omega ha observado un aumento en el número de clientes que entran en mora en sus pagos de tarjeta de crédito, lo que ha llevado a una disminución de sus ganancias. La entidad financiera desea entender las razones detrás de la mora de sus clientes y detectar los factores que influyen para determinar si una deuda será pagada o no. Para lograr este objetivo, el banco decide utilizar técnicas de análisis de datos y aprendizaje automático para procesar una gran cantidad de datos de clientes, incluyendo información personal, historial crediticio, patrones de gasto y pagos, entre otros. A partir de este análisis, el banco busca identificar los factores que podrían estar influyendo en la mora de sus clientes y construir un modelo de clasificación que permita determinar si un cliente en particular pagará su deuda a tiempo o no.\n",
    "\n",
    "### Características del data set   \n",
    "• ID: ID del cliente • CU: Cupo máximo de la tarjeta de crédito • G: Género del cliente. (M = Masculino, F = Femenino, O = Otros). • ED: Nivel de instrucción educativa (1 = primaria, 2 = universidad, 3 = secundaria, 4 = otros). • EC: Estado civil del cliente. (Soltero, Casado, Otros) • E: Edad del cliente. • M1 – M6: Historial de pago previo. M1 = historial de pago (marzo 2024), M2 = historial de pago (febrero 2024), …, M6 = historial de pago (octubre 2023). El historial de pago se define: -1 = paga debidamente, 1 = retraso en el pago por un mes, 2 = retraso en el pago por dos meses, ..., 8 = retraso en el pago por ocho meses, 9 = retraso en el pago por nueve meses o más. • D1 – D6: Monto del estado de cuenta. D1 = monto del estado de cuenta (marzo 2023), D2 = monto del estado de cuenta (febrero 2024), …, D6 = monto del estado de cuenta (octubre 2023). El monto del estado de cuenta se encuentra descrito en dólares americanos. • P1 – P6: Monto del pago previo. P1 = monto pagado (marzo 2024), P2 = monto pagado (febrero 2024), …, P6 = monto pagado (octubre 2023). • SP: Próximo pago en mora. (Si, No)"
   ]
  },
  {
   "cell_type": "markdown",
   "metadata": {},
   "source": [
    "## 1.EDA"
   ]
  },
  {
   "cell_type": "code",
   "execution_count": 1,
   "metadata": {},
   "outputs": [
    {
     "data": {
      "text/html": [
       "<div>\n",
       "<style scoped>\n",
       "    .dataframe tbody tr th:only-of-type {\n",
       "        vertical-align: middle;\n",
       "    }\n",
       "\n",
       "    .dataframe tbody tr th {\n",
       "        vertical-align: top;\n",
       "    }\n",
       "\n",
       "    .dataframe thead th {\n",
       "        text-align: right;\n",
       "    }\n",
       "</style>\n",
       "<table border=\"1\" class=\"dataframe\">\n",
       "  <thead>\n",
       "    <tr style=\"text-align: right;\">\n",
       "      <th></th>\n",
       "      <th>ID</th>\n",
       "      <th>CU</th>\n",
       "      <th>G</th>\n",
       "      <th>ED</th>\n",
       "      <th>EC</th>\n",
       "      <th>E</th>\n",
       "      <th>M1</th>\n",
       "      <th>M2</th>\n",
       "      <th>M3</th>\n",
       "      <th>M4</th>\n",
       "      <th>...</th>\n",
       "      <th>D4</th>\n",
       "      <th>D5</th>\n",
       "      <th>D6</th>\n",
       "      <th>P1</th>\n",
       "      <th>P2</th>\n",
       "      <th>P3</th>\n",
       "      <th>P4</th>\n",
       "      <th>P5</th>\n",
       "      <th>P6</th>\n",
       "      <th>SP</th>\n",
       "    </tr>\n",
       "  </thead>\n",
       "  <tbody>\n",
       "    <tr>\n",
       "      <th>0</th>\n",
       "      <td>1</td>\n",
       "      <td>2000</td>\n",
       "      <td>F</td>\n",
       "      <td>2</td>\n",
       "      <td>Casado</td>\n",
       "      <td>24</td>\n",
       "      <td>2</td>\n",
       "      <td>2</td>\n",
       "      <td>-1</td>\n",
       "      <td>-1</td>\n",
       "      <td>...</td>\n",
       "      <td>0.0</td>\n",
       "      <td>0.0</td>\n",
       "      <td>0.0</td>\n",
       "      <td>0.0</td>\n",
       "      <td>68.9</td>\n",
       "      <td>0.0</td>\n",
       "      <td>0.0</td>\n",
       "      <td>0.0</td>\n",
       "      <td>0.0</td>\n",
       "      <td>Si</td>\n",
       "    </tr>\n",
       "    <tr>\n",
       "      <th>1</th>\n",
       "      <td>2</td>\n",
       "      <td>12000</td>\n",
       "      <td>F</td>\n",
       "      <td>2</td>\n",
       "      <td>Soltero</td>\n",
       "      <td>26</td>\n",
       "      <td>-1</td>\n",
       "      <td>2</td>\n",
       "      <td>0</td>\n",
       "      <td>0</td>\n",
       "      <td>...</td>\n",
       "      <td>327.2</td>\n",
       "      <td>345.5</td>\n",
       "      <td>326.1</td>\n",
       "      <td>0.0</td>\n",
       "      <td>100.0</td>\n",
       "      <td>100.0</td>\n",
       "      <td>100.0</td>\n",
       "      <td>0.0</td>\n",
       "      <td>200.0</td>\n",
       "      <td>Si</td>\n",
       "    </tr>\n",
       "    <tr>\n",
       "      <th>2</th>\n",
       "      <td>3</td>\n",
       "      <td>9000</td>\n",
       "      <td>F</td>\n",
       "      <td>2</td>\n",
       "      <td>Soltero</td>\n",
       "      <td>34</td>\n",
       "      <td>0</td>\n",
       "      <td>0</td>\n",
       "      <td>0</td>\n",
       "      <td>0</td>\n",
       "      <td>...</td>\n",
       "      <td>1433.1</td>\n",
       "      <td>1494.8</td>\n",
       "      <td>1554.9</td>\n",
       "      <td>151.8</td>\n",
       "      <td>150.0</td>\n",
       "      <td>100.0</td>\n",
       "      <td>100.0</td>\n",
       "      <td>100.0</td>\n",
       "      <td>500.0</td>\n",
       "      <td>No</td>\n",
       "    </tr>\n",
       "    <tr>\n",
       "      <th>3</th>\n",
       "      <td>4</td>\n",
       "      <td>5000</td>\n",
       "      <td>F</td>\n",
       "      <td>2</td>\n",
       "      <td>Casado</td>\n",
       "      <td>37</td>\n",
       "      <td>0</td>\n",
       "      <td>0</td>\n",
       "      <td>0</td>\n",
       "      <td>0</td>\n",
       "      <td>...</td>\n",
       "      <td>2831.4</td>\n",
       "      <td>2895.9</td>\n",
       "      <td>2954.7</td>\n",
       "      <td>200.0</td>\n",
       "      <td>201.9</td>\n",
       "      <td>120.0</td>\n",
       "      <td>110.0</td>\n",
       "      <td>106.9</td>\n",
       "      <td>100.0</td>\n",
       "      <td>No</td>\n",
       "    </tr>\n",
       "    <tr>\n",
       "      <th>4</th>\n",
       "      <td>5</td>\n",
       "      <td>5000</td>\n",
       "      <td>M</td>\n",
       "      <td>2</td>\n",
       "      <td>Casado</td>\n",
       "      <td>57</td>\n",
       "      <td>-1</td>\n",
       "      <td>0</td>\n",
       "      <td>-1</td>\n",
       "      <td>0</td>\n",
       "      <td>...</td>\n",
       "      <td>2094.0</td>\n",
       "      <td>1914.6</td>\n",
       "      <td>1913.1</td>\n",
       "      <td>200.0</td>\n",
       "      <td>3668.1</td>\n",
       "      <td>1000.0</td>\n",
       "      <td>900.0</td>\n",
       "      <td>68.9</td>\n",
       "      <td>67.9</td>\n",
       "      <td>No</td>\n",
       "    </tr>\n",
       "    <tr>\n",
       "      <th>5</th>\n",
       "      <td>6</td>\n",
       "      <td>5000</td>\n",
       "      <td>M</td>\n",
       "      <td>1</td>\n",
       "      <td>Soltero</td>\n",
       "      <td>37</td>\n",
       "      <td>0</td>\n",
       "      <td>0</td>\n",
       "      <td>0</td>\n",
       "      <td>0</td>\n",
       "      <td>...</td>\n",
       "      <td>1939.4</td>\n",
       "      <td>1961.9</td>\n",
       "      <td>2002.4</td>\n",
       "      <td>250.0</td>\n",
       "      <td>181.5</td>\n",
       "      <td>65.7</td>\n",
       "      <td>100.0</td>\n",
       "      <td>100.0</td>\n",
       "      <td>80.0</td>\n",
       "      <td>No</td>\n",
       "    </tr>\n",
       "    <tr>\n",
       "      <th>6</th>\n",
       "      <td>7</td>\n",
       "      <td>50000</td>\n",
       "      <td>M</td>\n",
       "      <td>1</td>\n",
       "      <td>Soltero</td>\n",
       "      <td>29</td>\n",
       "      <td>0</td>\n",
       "      <td>0</td>\n",
       "      <td>0</td>\n",
       "      <td>0</td>\n",
       "      <td>...</td>\n",
       "      <td>54265.3</td>\n",
       "      <td>48300.3</td>\n",
       "      <td>47394.4</td>\n",
       "      <td>5500.0</td>\n",
       "      <td>4000.0</td>\n",
       "      <td>3800.0</td>\n",
       "      <td>2023.9</td>\n",
       "      <td>1375.0</td>\n",
       "      <td>1377.0</td>\n",
       "      <td>No</td>\n",
       "    </tr>\n",
       "    <tr>\n",
       "      <th>7</th>\n",
       "      <td>8</td>\n",
       "      <td>10000</td>\n",
       "      <td>F</td>\n",
       "      <td>2</td>\n",
       "      <td>Soltero</td>\n",
       "      <td>23</td>\n",
       "      <td>0</td>\n",
       "      <td>-1</td>\n",
       "      <td>-1</td>\n",
       "      <td>0</td>\n",
       "      <td>...</td>\n",
       "      <td>22.1</td>\n",
       "      <td>-15.9</td>\n",
       "      <td>56.7</td>\n",
       "      <td>38.0</td>\n",
       "      <td>60.1</td>\n",
       "      <td>0.0</td>\n",
       "      <td>58.1</td>\n",
       "      <td>168.7</td>\n",
       "      <td>154.2</td>\n",
       "      <td>No</td>\n",
       "    </tr>\n",
       "    <tr>\n",
       "      <th>8</th>\n",
       "      <td>9</td>\n",
       "      <td>14000</td>\n",
       "      <td>F</td>\n",
       "      <td>3</td>\n",
       "      <td>Casado</td>\n",
       "      <td>28</td>\n",
       "      <td>0</td>\n",
       "      <td>0</td>\n",
       "      <td>2</td>\n",
       "      <td>0</td>\n",
       "      <td>...</td>\n",
       "      <td>1221.1</td>\n",
       "      <td>1179.3</td>\n",
       "      <td>371.9</td>\n",
       "      <td>332.9</td>\n",
       "      <td>0.0</td>\n",
       "      <td>43.2</td>\n",
       "      <td>100.0</td>\n",
       "      <td>100.0</td>\n",
       "      <td>100.0</td>\n",
       "      <td>No</td>\n",
       "    </tr>\n",
       "    <tr>\n",
       "      <th>9</th>\n",
       "      <td>10</td>\n",
       "      <td>2000</td>\n",
       "      <td>M</td>\n",
       "      <td>3</td>\n",
       "      <td>Soltero</td>\n",
       "      <td>35</td>\n",
       "      <td>-2</td>\n",
       "      <td>-2</td>\n",
       "      <td>-2</td>\n",
       "      <td>-2</td>\n",
       "      <td>...</td>\n",
       "      <td>0.0</td>\n",
       "      <td>1300.7</td>\n",
       "      <td>1391.2</td>\n",
       "      <td>0.0</td>\n",
       "      <td>0.0</td>\n",
       "      <td>0.0</td>\n",
       "      <td>1300.7</td>\n",
       "      <td>112.2</td>\n",
       "      <td>0.0</td>\n",
       "      <td>No</td>\n",
       "    </tr>\n",
       "  </tbody>\n",
       "</table>\n",
       "<p>10 rows × 25 columns</p>\n",
       "</div>"
      ],
      "text/plain": [
       "   ID     CU  G  ED       EC   E  M1  M2  M3  M4  ...       D4       D5  \\\n",
       "0   1   2000  F   2   Casado  24   2   2  -1  -1  ...      0.0      0.0   \n",
       "1   2  12000  F   2  Soltero  26  -1   2   0   0  ...    327.2    345.5   \n",
       "2   3   9000  F   2  Soltero  34   0   0   0   0  ...   1433.1   1494.8   \n",
       "3   4   5000  F   2   Casado  37   0   0   0   0  ...   2831.4   2895.9   \n",
       "4   5   5000  M   2   Casado  57  -1   0  -1   0  ...   2094.0   1914.6   \n",
       "5   6   5000  M   1  Soltero  37   0   0   0   0  ...   1939.4   1961.9   \n",
       "6   7  50000  M   1  Soltero  29   0   0   0   0  ...  54265.3  48300.3   \n",
       "7   8  10000  F   2  Soltero  23   0  -1  -1   0  ...     22.1    -15.9   \n",
       "8   9  14000  F   3   Casado  28   0   0   2   0  ...   1221.1   1179.3   \n",
       "9  10   2000  M   3  Soltero  35  -2  -2  -2  -2  ...      0.0   1300.7   \n",
       "\n",
       "        D6      P1      P2      P3      P4      P5      P6  SP  \n",
       "0      0.0     0.0    68.9     0.0     0.0     0.0     0.0  Si  \n",
       "1    326.1     0.0   100.0   100.0   100.0     0.0   200.0  Si  \n",
       "2   1554.9   151.8   150.0   100.0   100.0   100.0   500.0  No  \n",
       "3   2954.7   200.0   201.9   120.0   110.0   106.9   100.0  No  \n",
       "4   1913.1   200.0  3668.1  1000.0   900.0    68.9    67.9  No  \n",
       "5   2002.4   250.0   181.5    65.7   100.0   100.0    80.0  No  \n",
       "6  47394.4  5500.0  4000.0  3800.0  2023.9  1375.0  1377.0  No  \n",
       "7     56.7    38.0    60.1     0.0    58.1   168.7   154.2  No  \n",
       "8    371.9   332.9     0.0    43.2   100.0   100.0   100.0  No  \n",
       "9   1391.2     0.0     0.0     0.0  1300.7   112.2     0.0  No  \n",
       "\n",
       "[10 rows x 25 columns]"
      ]
     },
     "execution_count": 1,
     "metadata": {},
     "output_type": "execute_result"
    }
   ],
   "source": [
    "import pandas as pd\n",
    "import numpy as np\n",
    "from sklearn.model_selection import train_test_split, GridSearchCV\n",
    "from sklearn.ensemble import RandomForestClassifier\n",
    "from xgboost import XGBClassifier\n",
    "from sklearn.metrics import confusion_matrix, accuracy_score, precision_score, recall_score, f1_score\n",
    "\n",
    "url = \"https://raw.githubusercontent.com/chrisrueda/EndomorfismoII_2024/main/PROYECTOS/SEGUNDO%20PARCIAL/mora_cdto.csv\"\n",
    "\n",
    "data = pd.read_csv(url)\n",
    "\n",
    "data.head(10)"
   ]
  },
  {
   "cell_type": "markdown",
   "metadata": {},
   "source": [
    "## 2. Análisis estadístico simple"
   ]
  },
  {
   "cell_type": "code",
   "execution_count": 2,
   "metadata": {},
   "outputs": [
    {
     "name": "stdout",
     "output_type": "stream",
     "text": [
      "<class 'pandas.core.frame.DataFrame'>\n",
      "RangeIndex: 30000 entries, 0 to 29999\n",
      "Data columns (total 25 columns):\n",
      " #   Column  Non-Null Count  Dtype  \n",
      "---  ------  --------------  -----  \n",
      " 0   ID      30000 non-null  int64  \n",
      " 1   CU      30000 non-null  int64  \n",
      " 2   G       29997 non-null  object \n",
      " 3   ED      30000 non-null  int64  \n",
      " 4   EC      29999 non-null  object \n",
      " 5   E       30000 non-null  int64  \n",
      " 6   M1      30000 non-null  int64  \n",
      " 7   M2      30000 non-null  int64  \n",
      " 8   M3      30000 non-null  int64  \n",
      " 9   M4      30000 non-null  int64  \n",
      " 10  M5      30000 non-null  int64  \n",
      " 11  M6      30000 non-null  int64  \n",
      " 12  D1      30000 non-null  float64\n",
      " 13  D2      30000 non-null  float64\n",
      " 14  D3      30000 non-null  float64\n",
      " 15  D4      30000 non-null  float64\n",
      " 16  D5      30000 non-null  float64\n",
      " 17  D6      30000 non-null  float64\n",
      " 18  P1      30000 non-null  float64\n",
      " 19  P2      30000 non-null  float64\n",
      " 20  P3      30000 non-null  float64\n",
      " 21  P4      30000 non-null  float64\n",
      " 22  P5      30000 non-null  float64\n",
      " 23  P6      30000 non-null  float64\n",
      " 24  SP      30000 non-null  object \n",
      "dtypes: float64(12), int64(10), object(3)\n",
      "memory usage: 5.7+ MB\n"
     ]
    }
   ],
   "source": [
    "data.info()"
   ]
  },
  {
   "cell_type": "code",
   "execution_count": 16,
   "metadata": {},
   "outputs": [
    {
     "name": "stdout",
     "output_type": "stream",
     "text": [
      "ID\n",
      "[    1     2     3 ... 29998 29999 30000] \n",
      "\n",
      "CU\n",
      "[  2000  12000   9000   5000  50000  10000  14000  20000  26000  63000\n",
      "   7000  25000  32000  36000  18000  13000  45000   6000  23000  16000\n",
      "  28000   1000   4000  21000  15000  38000  31000  40000   8000  29000\n",
      "  34000  30000   3000  24000  47000  48000  35000  33000  11000  42000\n",
      "  17000  37000  27000  22000  19000  51000  46000  44000  41000  49000\n",
      "  39000  58000  60000  62000  61000  70000  67000  68000  43000  55000\n",
      "  54000 100000  53000  71000  56000  52000  75000  64000   1600  57000\n",
      "  59000  66000  72000  32768  74000  80000  76000  69000  65000  78000\n",
      "  73000] \n",
      "\n",
      "G\n",
      "['F' 'M' 'O' nan] \n",
      "\n",
      "ED\n",
      "[2 1 3 5 4 6 0] \n",
      "\n",
      "EC\n",
      "['Casado' 'Soltero' 'Otros' nan '0'] \n",
      "\n",
      "E\n",
      "[24 26 34 37 57 29 23 28 35 51 41 30 49 39 40 27 47 33 32 54 58 22 25 31\n",
      " 46 42 43 45 56 44 53 38 63 36 52 48 55 60 50 75 61 73 59 21 67 66 62 70\n",
      " 72 64 65 71 69 68 79 74] \n",
      "\n",
      "M1\n",
      "[ 2 -1  0 -2  1  3  4  8  7  5  6] \n",
      "\n",
      "M2\n",
      "[ 2  0 -1 -2  3  5  7  4  1  6  8] \n",
      "\n",
      "M3\n",
      "[-1  0  2 -2  3  4  6  7  1  5  8] \n",
      "\n",
      "M4\n",
      "[-1  0 -2  2  3  4  5  7  6  1  8] \n",
      "\n",
      "M5\n",
      "[-2  0 -1  2  3  5  4  7  8  6] \n",
      "\n",
      "M6\n",
      "[-2  2  0 -1  3  6  4  7  8  5] \n",
      "\n",
      "D1\n",
      "[ 391.3  268.2 2923.9 ...  168.3 -164.5 4792.9] \n",
      "\n",
      "D2\n",
      "[ 310.2  172.5 1402.7 ...  335.6 7837.9 4890.5] \n",
      "\n",
      "D3\n",
      "[  68.9  268.2 1355.9 ...  275.8 7630.4 4976.4] \n",
      "\n",
      "D4\n",
      "[   0.   327.2 1433.1 ... 2087.8 5277.4 3653.5] \n",
      "\n",
      "D5\n",
      "[   0.   345.5 1494.8 ... 3123.7  519.  3242.8] \n",
      "\n",
      "D6\n",
      "[   0.   326.1 1554.9 ... 1935.7 4894.4 1531.3] \n",
      "\n",
      "P1\n",
      "[   0.   151.8  200.  ... 1002.9  905.4 8590. ] \n",
      "\n",
      "P2\n",
      "[   68.9   100.    150.  ...   297.7 11178.4   352.6] \n",
      "\n",
      "P3\n",
      "[    0.    100.    120.  ... 34939.5   890.7  2512.8] \n",
      "\n",
      "P4\n",
      "[   0.   100.   110.  ...  255.6 1011.5  804.9] \n",
      "\n",
      "P5\n",
      "[   0.   100.   106.9 ...  804.   331.9 5296.4] \n",
      "\n",
      "P6\n",
      "[    0.    200.    500.  ...  7005.2 22007.6  1608. ] \n",
      "\n",
      "SP\n",
      "['Si' 'No'] \n",
      "\n"
     ]
    }
   ],
   "source": [
    "# Verificar rango de datos\n",
    "for x in data.columns:\n",
    "    print(x)\n",
    "    print(data[x].unique(), \"\\n\")"
   ]
  },
  {
   "cell_type": "markdown",
   "metadata": {},
   "source": [
    "#### Características a modificar: ['G', 'ED', 'EC', 'M1-M6', 'D1-D6', 'P1-P6', 'SP']\n",
    "\n",
    "G: Posee datos NaN y cambiar tipo de dato.\n",
    "\n",
    "ED: Posee datos fuera del rango [1, 2, 3, 4]    Corregir [0, 5, 6]\n",
    "\n",
    "EC: Posee datos NaN, y datos fuera del rango ['Casado' 'Soltero' 'Otros']   Corregir ['nan' '0'] y cambiar tipo de dato.\n",
    "\n",
    "M1-M6: Datos fuera del rango [-1, 1, 2, ..., 9]     Corregir [-2, 0]\n",
    "\n",
    "D1-D6: corregir tipo de datos y verificar números negativos.\n",
    "\n",
    "P1-P6: Corregir tipo de datos y verificar números negativos.\n",
    "\n",
    "SP: cambiar tipo de dato.\n"
   ]
  },
  {
   "cell_type": "markdown",
   "metadata": {},
   "source": [
    "### Analizar el balance de los datos"
   ]
  },
  {
   "cell_type": "code",
   "execution_count": 21,
   "metadata": {},
   "outputs": [
    {
     "name": "stdout",
     "output_type": "stream",
     "text": [
      "Próximo pago en mora\n"
     ]
    },
    {
     "data": {
      "text/plain": [
       "SP\n",
       "No    23364\n",
       "Si     6636\n",
       "Name: count, dtype: int64"
      ]
     },
     "execution_count": 21,
     "metadata": {},
     "output_type": "execute_result"
    }
   ],
   "source": [
    "# Caso ideal -> 50% (Positivo - 1) - 50% (Negativo - 0)\n",
    "data['SP'].unique()    #Clases existentes\n",
    "print(\"Próximo pago en mora\")\n",
    "data['SP'].value_counts()"
   ]
  },
  {
   "cell_type": "markdown",
   "metadata": {},
   "source": [
    "### Datos NaN o faltantes '?'"
   ]
  },
  {
   "cell_type": "code",
   "execution_count": 20,
   "metadata": {},
   "outputs": [
    {
     "name": "stdout",
     "output_type": "stream",
     "text": [
      "ID\n",
      "False    30000\n",
      "Name: count, dtype: int64\n",
      "CU\n",
      "False    30000\n",
      "Name: count, dtype: int64\n",
      "G\n",
      "False    29997\n",
      "True         3\n",
      "Name: count, dtype: int64\n",
      "ED\n",
      "False    30000\n",
      "Name: count, dtype: int64\n",
      "EC\n",
      "False    29999\n",
      "True         1\n",
      "Name: count, dtype: int64\n",
      "E\n",
      "False    30000\n",
      "Name: count, dtype: int64\n",
      "M1\n",
      "False    30000\n",
      "Name: count, dtype: int64\n",
      "M2\n",
      "False    30000\n",
      "Name: count, dtype: int64\n",
      "M3\n",
      "False    30000\n",
      "Name: count, dtype: int64\n",
      "M4\n",
      "False    30000\n",
      "Name: count, dtype: int64\n",
      "M5\n",
      "False    30000\n",
      "Name: count, dtype: int64\n",
      "M6\n",
      "False    30000\n",
      "Name: count, dtype: int64\n",
      "D1\n",
      "False    30000\n",
      "Name: count, dtype: int64\n",
      "D2\n",
      "False    30000\n",
      "Name: count, dtype: int64\n",
      "D3\n",
      "False    30000\n",
      "Name: count, dtype: int64\n",
      "D4\n",
      "False    30000\n",
      "Name: count, dtype: int64\n",
      "D5\n",
      "False    30000\n",
      "Name: count, dtype: int64\n",
      "D6\n",
      "False    30000\n",
      "Name: count, dtype: int64\n",
      "P1\n",
      "False    30000\n",
      "Name: count, dtype: int64\n",
      "P2\n",
      "False    30000\n",
      "Name: count, dtype: int64\n",
      "P3\n",
      "False    30000\n",
      "Name: count, dtype: int64\n",
      "P4\n",
      "False    30000\n",
      "Name: count, dtype: int64\n",
      "P5\n",
      "False    30000\n",
      "Name: count, dtype: int64\n",
      "P6\n",
      "False    30000\n",
      "Name: count, dtype: int64\n",
      "SP\n",
      "False    30000\n",
      "Name: count, dtype: int64\n"
     ]
    }
   ],
   "source": [
    "datos_faltantes = data.isnull()\n",
    "\n",
    "for i in datos_faltantes.columns.values.tolist():\n",
    "    print(datos_faltantes[i].value_counts())"
   ]
  },
  {
   "cell_type": "markdown",
   "metadata": {},
   "source": [
    "### Datos Anómalos o Cero"
   ]
  },
  {
   "cell_type": "code",
   "execution_count": 48,
   "metadata": {},
   "outputs": [
    {
     "name": "stdout",
     "output_type": "stream",
     "text": [
      "ED   \n",
      "False    29655\n",
      "True       345\n",
      "Name: count, dtype: int64 \n",
      "\n",
      "EC   \n",
      "False    29947\n",
      "True        53\n",
      "Name: count, dtype: int64 \n",
      "\n",
      "M1   \n",
      "True     17496\n",
      "False    12504\n",
      "Name: count, dtype: int64 \n",
      "\n",
      "M2   \n",
      "True     19512\n",
      "False    10488\n",
      "Name: count, dtype: int64 \n",
      "\n",
      "M3   \n",
      "True     19849\n",
      "False    10151\n",
      "Name: count, dtype: int64 \n",
      "\n",
      "M4   \n",
      "True     20803\n",
      "False     9197\n",
      "Name: count, dtype: int64 \n",
      "\n",
      "M5   \n",
      "True     21493\n",
      "False     8507\n",
      "Name: count, dtype: int64 \n",
      "\n",
      "M6   \n",
      "True     21181\n",
      "False     8819\n",
      "Name: count, dtype: int64 \n",
      "\n",
      "D1   \n",
      "False    29410\n",
      "True       590\n",
      "Name: count, dtype: int64 \n",
      "\n",
      "D2   \n",
      "False    29331\n",
      "True       669\n",
      "Name: count, dtype: int64 \n",
      "\n",
      "D3   \n",
      "False    29345\n",
      "True       655\n",
      "Name: count, dtype: int64 \n",
      "\n",
      "D4   \n",
      "False    29325\n",
      "True       675\n",
      "Name: count, dtype: int64 \n",
      "\n",
      "D5   \n",
      "False    29345\n",
      "True       655\n",
      "Name: count, dtype: int64 \n",
      "\n",
      "D6   \n",
      "False    29312\n",
      "True       688\n",
      "Name: count, dtype: int64 \n",
      "\n",
      "P1   \n",
      "False    30000\n",
      "Name: count, dtype: int64 \n",
      "\n",
      "P2   \n",
      "False    30000\n",
      "Name: count, dtype: int64 \n",
      "\n",
      "P3   \n",
      "False    30000\n",
      "Name: count, dtype: int64 \n",
      "\n",
      "P4   \n",
      "False    30000\n",
      "Name: count, dtype: int64 \n",
      "\n",
      "P5   \n",
      "False    30000\n",
      "Name: count, dtype: int64 \n",
      "\n",
      "P6   \n",
      "False    30000\n",
      "Name: count, dtype: int64 \n",
      "\n"
     ]
    }
   ],
   "source": [
    "# Columna 'ED'\n",
    "data_sec1 = data['ED']\n",
    "data_anom1 = pd.DataFrame(data_sec1.isin([0,5,6]))\n",
    "print(data_anom1.value_counts(),\"\\n\")\n",
    "\n",
    "# Columna 'EC'\n",
    "data_sec2 = data['EC']\n",
    "data_anom2 = pd.DataFrame(data_sec2.isin(['0']))\n",
    "print(data_anom2.value_counts(),\"\\n\")\n",
    "\n",
    "# Columna 'M1-M6'\n",
    "col_anom = ['M1', 'M2', 'M3', 'M4', 'M5', 'M6']\n",
    "for i in col_anom:\n",
    "    data_sec3 = data[i]\n",
    "    data_anom3 = pd.DataFrame(data_sec3.isin([-2, 0]))\n",
    "    print(data_anom3.value_counts(),\"\\n\")\n",
    "    \n",
    "\n",
    "# Columna 'D1-D6'\n",
    "col_anom1 = ['D1', 'D2', 'D3', 'D4', 'D5', 'D6']\n",
    "for i in col_anom1:\n",
    "    data_sec4 = data[i]\n",
    "    data_anom4 = pd.DataFrame(data_sec4 <0)\n",
    "    print(data_anom4.value_counts(),\"\\n\")\n",
    "    \n",
    "# Columna 'P1-P6'\n",
    "col_anom2 = ['P1', 'P2', 'P3', 'P4', 'P5', 'P6']\n",
    "for i in col_anom2:\n",
    "    data_sec5 = data[i]\n",
    "    data_anom5 = pd.DataFrame(data_sec5 <0)\n",
    "    print(data_anom5.value_counts(),\"\\n\")"
   ]
  },
  {
   "cell_type": "markdown",
   "metadata": {},
   "source": [
    "## 3. Imputar datos   \n"
   ]
  },
  {
   "cell_type": "code",
   "execution_count": 100,
   "metadata": {},
   "outputs": [
    {
     "name": "stdout",
     "output_type": "stream",
     "text": [
      "Variable más frecuente de G: F\n",
      "Variable más frecuente de EC: Soltero\n",
      "La variable más adecuada de ED es 4\n",
      "En M1 se remplaza 0 y -2 por 1 y -1 respectivamente \n",
      "\n",
      "En M2 se remplaza 0 y -2 por 1 y -1 respectivamente \n",
      "\n",
      "En M3 se remplaza 0 y -2 por 1 y -1 respectivamente \n",
      "\n",
      "En M4 se remplaza 0 y -2 por 1 y -1 respectivamente \n",
      "\n",
      "En M5 se remplaza 0 y -2 por 1 y -1 respectivamente \n",
      "\n",
      "En M6 se remplaza 0 y -2 por 1 y -1 respectivamente \n",
      "\n",
      "En D1 se remplaza los datos negativos por positivos \n",
      "\n",
      "En D2 se remplaza los datos negativos por positivos \n",
      "\n",
      "En D3 se remplaza los datos negativos por positivos \n",
      "\n",
      "En D4 se remplaza los datos negativos por positivos \n",
      "\n",
      "En D5 se remplaza los datos negativos por positivos \n",
      "\n",
      "En D6 se remplaza los datos negativos por positivos \n",
      "\n"
     ]
    },
    {
     "name": "stderr",
     "output_type": "stream",
     "text": [
      "C:\\Users\\marti\\AppData\\Local\\Temp\\ipykernel_9076\\2946275098.py:13: FutureWarning: A value is trying to be set on a copy of a DataFrame or Series through chained assignment using an inplace method.\n",
      "The behavior will change in pandas 3.0. This inplace method will never work because the intermediate object on which we are setting values always behaves as a copy.\n",
      "\n",
      "For example, when doing 'df[col].method(value, inplace=True)', try using 'df.method({col: value}, inplace=True)' or df[col] = df[col].method(value) instead, to perform the operation inplace on the original object.\n",
      "\n",
      "\n",
      "  data_mod[x].replace([np.nan, '0' ], mas_freq, inplace=True)     #Imputar la variable\n",
      "C:\\Users\\marti\\AppData\\Local\\Temp\\ipykernel_9076\\2946275098.py:18: FutureWarning: A value is trying to be set on a copy of a DataFrame or Series through chained assignment using an inplace method.\n",
      "The behavior will change in pandas 3.0. This inplace method will never work because the intermediate object on which we are setting values always behaves as a copy.\n",
      "\n",
      "For example, when doing 'df[col].method(value, inplace=True)', try using 'df.method({col: value}, inplace=True)' or df[col] = df[col].method(value) instead, to perform the operation inplace on the original object.\n",
      "\n",
      "\n",
      "  data_mod[x].replace([0, 5, 6], 4, inplace=True)\n",
      "C:\\Users\\marti\\AppData\\Local\\Temp\\ipykernel_9076\\2946275098.py:26: FutureWarning: A value is trying to be set on a copy of a DataFrame or Series through chained assignment using an inplace method.\n",
      "The behavior will change in pandas 3.0. This inplace method will never work because the intermediate object on which we are setting values always behaves as a copy.\n",
      "\n",
      "For example, when doing 'df[col].method(value, inplace=True)', try using 'df.method({col: value}, inplace=True)' or df[col] = df[col].method(value) instead, to perform the operation inplace on the original object.\n",
      "\n",
      "\n",
      "  data_mod[x].replace([0, -2], [1, -1] , inplace=True)\n"
     ]
    }
   ],
   "source": [
    "# Crear una copia del dataset original\n",
    "data_mod = data.copy()\n",
    "\n",
    "# Categórico 'G'\n",
    "mas_freq = data_mod['G'].value_counts().idxmax()\n",
    "print(f\"Variable más frecuente de G: {mas_freq}\")\n",
    "data_mod.replace({'G': np.nan}, mas_freq, inplace=True)     #Imputar la variable\n",
    "\n",
    "# Categórico 'EC'\n",
    "x = 'EC'\n",
    "mas_freq = data_mod[x].value_counts().idxmax()\n",
    "print(f\"Variable más frecuente de {x}: {mas_freq}\")\n",
    "data_mod[x].replace([np.nan, '0' ], mas_freq, inplace=True)     #Imputar la variable\n",
    "\n",
    "# Numérico 'ED'\n",
    "x = 'ED'\n",
    "print(f\"La variable más adecuada de {x} es 4\")\n",
    "data_mod[x].replace([0, 5, 6], 4, inplace=True)\n",
    "\n",
    "# Numérico 'M1-M6'\n",
    "for i in col_anom:\n",
    "    x = i\n",
    "    #mas_freq = data_mod[x].value_counts().idxmax()\n",
    "    # M_mediana = round(np.mean(data_mod[x]))           Tanto la media como mediana y la moda dan valores de 0 por lo que no se pueden aplicar en este caso\n",
    "    print(f\"En {x} se remplaza 0 y -2 por 1 y -1 respectivamente \\n\")\n",
    "    data_mod[x].replace([0, -2], [1, -1] , inplace=True)\n",
    "    \n",
    "# Numérico 'D1-D6'\n",
    "for i in col_anom1:\n",
    "    x = i\n",
    "    neg = data_mod[x]<0\n",
    "    print(f\"En {x} se remplaza los datos negativos por positivos \\n\")\n",
    "    data_mod[x]=data_mod[x].abs()\n"
   ]
  },
  {
   "cell_type": "code",
   "execution_count": 101,
   "metadata": {},
   "outputs": [
    {
     "name": "stdout",
     "output_type": "stream",
     "text": [
      "<class 'pandas.core.frame.DataFrame'>\n",
      "RangeIndex: 30000 entries, 0 to 29999\n",
      "Data columns (total 25 columns):\n",
      " #   Column  Non-Null Count  Dtype  \n",
      "---  ------  --------------  -----  \n",
      " 0   ID      30000 non-null  int64  \n",
      " 1   CU      30000 non-null  int64  \n",
      " 2   G       30000 non-null  object \n",
      " 3   ED      30000 non-null  int64  \n",
      " 4   EC      30000 non-null  object \n",
      " 5   E       30000 non-null  int64  \n",
      " 6   M1      30000 non-null  int64  \n",
      " 7   M2      30000 non-null  int64  \n",
      " 8   M3      30000 non-null  int64  \n",
      " 9   M4      30000 non-null  int64  \n",
      " 10  M5      30000 non-null  int64  \n",
      " 11  M6      30000 non-null  int64  \n",
      " 12  D1      30000 non-null  float64\n",
      " 13  D2      30000 non-null  float64\n",
      " 14  D3      30000 non-null  float64\n",
      " 15  D4      30000 non-null  float64\n",
      " 16  D5      30000 non-null  float64\n",
      " 17  D6      30000 non-null  float64\n",
      " 18  P1      30000 non-null  float64\n",
      " 19  P2      30000 non-null  float64\n",
      " 20  P3      30000 non-null  float64\n",
      " 21  P4      30000 non-null  float64\n",
      " 22  P5      30000 non-null  float64\n",
      " 23  P6      30000 non-null  float64\n",
      " 24  SP      30000 non-null  object \n",
      "dtypes: float64(12), int64(10), object(3)\n",
      "memory usage: 5.7+ MB\n"
     ]
    }
   ],
   "source": [
    "# Verificar rango de dataset imputado\n",
    "#for x in data_mod.columns:\n",
    "#    print(x)\n",
    "#    print(data_mod[x].unique(), \"\\n\")\n",
    "\n",
    "#Verificar tipo de datos\n",
    "data_mod.info()"
   ]
  },
  {
   "cell_type": "markdown",
   "metadata": {},
   "source": [
    "#### Cambiar los tipos de datos \n",
    "\n"
   ]
  },
  {
   "cell_type": "code",
   "execution_count": 102,
   "metadata": {},
   "outputs": [],
   "source": [
    "#Transformar datos tipo \"object\" a \"numeric\" de columnas 'G' 'EC' 'SP'\n",
    "# Columna 'G'\n",
    "data_num1 = pd.get_dummies(data_mod['G'])\n",
    "data_mod = pd.concat([data_mod, data_num1], axis = 1)\n",
    "data_mod = data_mod.drop(columns=['G'])\n",
    "\n",
    "# Columna 'EC'\n",
    "data_num2 = pd.get_dummies(data_mod['EC'])\n",
    "data_mod = pd.concat([data_mod, data_num2], axis = 1)\n",
    "data_mod = data_mod.drop(columns=['EC'])\n",
    "\n",
    "# Columna 'SP'\n",
    "map = {'No':0, 'Si':1}\n",
    "data_mod['SP'] = data_mod['SP'].map(map)"
   ]
  },
  {
   "cell_type": "code",
   "execution_count": 99,
   "metadata": {},
   "outputs": [
    {
     "name": "stdout",
     "output_type": "stream",
     "text": [
      "<class 'pandas.core.frame.DataFrame'>\n",
      "RangeIndex: 30000 entries, 0 to 29999\n",
      "Data columns (total 29 columns):\n",
      " #   Column   Non-Null Count  Dtype  \n",
      "---  ------   --------------  -----  \n",
      " 0   ID       30000 non-null  int64  \n",
      " 1   CU       30000 non-null  int64  \n",
      " 2   ED       30000 non-null  int64  \n",
      " 3   E        30000 non-null  int64  \n",
      " 4   M1       30000 non-null  int64  \n",
      " 5   M2       30000 non-null  int64  \n",
      " 6   M3       30000 non-null  int64  \n",
      " 7   M4       30000 non-null  int64  \n",
      " 8   M5       30000 non-null  int64  \n",
      " 9   M6       30000 non-null  int64  \n",
      " 10  D1       30000 non-null  float64\n",
      " 11  D2       30000 non-null  float64\n",
      " 12  D3       30000 non-null  float64\n",
      " 13  D4       30000 non-null  float64\n",
      " 14  D5       30000 non-null  float64\n",
      " 15  D6       30000 non-null  float64\n",
      " 16  P1       30000 non-null  float64\n",
      " 17  P2       30000 non-null  float64\n",
      " 18  P3       30000 non-null  float64\n",
      " 19  P4       30000 non-null  float64\n",
      " 20  P5       30000 non-null  float64\n",
      " 21  P6       30000 non-null  float64\n",
      " 22  SP       23364 non-null  float64\n",
      " 23  F        30000 non-null  bool   \n",
      " 24  M        30000 non-null  bool   \n",
      " 25  O        30000 non-null  bool   \n",
      " 26  Casado   30000 non-null  bool   \n",
      " 27  Otros    30000 non-null  bool   \n",
      " 28  Soltero  30000 non-null  bool   \n",
      "dtypes: bool(6), float64(13), int64(10)\n",
      "memory usage: 5.4 MB\n"
     ]
    }
   ],
   "source": [
    "data_mod.info()"
   ]
  },
  {
   "cell_type": "markdown",
   "metadata": {},
   "source": [
    "## 4. Generación de modelos"
   ]
  },
  {
   "cell_type": "markdown",
   "metadata": {},
   "source": [
    "### Conjunto de entrenamiento y validación"
   ]
  },
  {
   "cell_type": "code",
   "execution_count": 103,
   "metadata": {},
   "outputs": [],
   "source": [
    "# Utilizando Dataset con datos imputados: mediana\n",
    "x = data_mod.drop('SP', axis = 1)  #Matriz de entrada\n",
    "y = data_mod['SP'] #Target - Vector de salida\n",
    "\n",
    "x_train, x_test, y_train, y_test = train_test_split(x, y, test_size = 0.3, random_state = 40)   #Generar conjunto de entrenamiento y validación"
   ]
  },
  {
   "cell_type": "markdown",
   "metadata": {},
   "source": [
    "### Modelo Bagging"
   ]
  },
  {
   "cell_type": "code",
   "execution_count": 104,
   "metadata": {},
   "outputs": [
    {
     "data": {
      "text/html": [
       "<style>#sk-container-id-1 {color: black;}#sk-container-id-1 pre{padding: 0;}#sk-container-id-1 div.sk-toggleable {background-color: white;}#sk-container-id-1 label.sk-toggleable__label {cursor: pointer;display: block;width: 100%;margin-bottom: 0;padding: 0.3em;box-sizing: border-box;text-align: center;}#sk-container-id-1 label.sk-toggleable__label-arrow:before {content: \"▸\";float: left;margin-right: 0.25em;color: #696969;}#sk-container-id-1 label.sk-toggleable__label-arrow:hover:before {color: black;}#sk-container-id-1 div.sk-estimator:hover label.sk-toggleable__label-arrow:before {color: black;}#sk-container-id-1 div.sk-toggleable__content {max-height: 0;max-width: 0;overflow: hidden;text-align: left;background-color: #f0f8ff;}#sk-container-id-1 div.sk-toggleable__content pre {margin: 0.2em;color: black;border-radius: 0.25em;background-color: #f0f8ff;}#sk-container-id-1 input.sk-toggleable__control:checked~div.sk-toggleable__content {max-height: 200px;max-width: 100%;overflow: auto;}#sk-container-id-1 input.sk-toggleable__control:checked~label.sk-toggleable__label-arrow:before {content: \"▾\";}#sk-container-id-1 div.sk-estimator input.sk-toggleable__control:checked~label.sk-toggleable__label {background-color: #d4ebff;}#sk-container-id-1 div.sk-label input.sk-toggleable__control:checked~label.sk-toggleable__label {background-color: #d4ebff;}#sk-container-id-1 input.sk-hidden--visually {border: 0;clip: rect(1px 1px 1px 1px);clip: rect(1px, 1px, 1px, 1px);height: 1px;margin: -1px;overflow: hidden;padding: 0;position: absolute;width: 1px;}#sk-container-id-1 div.sk-estimator {font-family: monospace;background-color: #f0f8ff;border: 1px dotted black;border-radius: 0.25em;box-sizing: border-box;margin-bottom: 0.5em;}#sk-container-id-1 div.sk-estimator:hover {background-color: #d4ebff;}#sk-container-id-1 div.sk-parallel-item::after {content: \"\";width: 100%;border-bottom: 1px solid gray;flex-grow: 1;}#sk-container-id-1 div.sk-label:hover label.sk-toggleable__label {background-color: #d4ebff;}#sk-container-id-1 div.sk-serial::before {content: \"\";position: absolute;border-left: 1px solid gray;box-sizing: border-box;top: 0;bottom: 0;left: 50%;z-index: 0;}#sk-container-id-1 div.sk-serial {display: flex;flex-direction: column;align-items: center;background-color: white;padding-right: 0.2em;padding-left: 0.2em;position: relative;}#sk-container-id-1 div.sk-item {position: relative;z-index: 1;}#sk-container-id-1 div.sk-parallel {display: flex;align-items: stretch;justify-content: center;background-color: white;position: relative;}#sk-container-id-1 div.sk-item::before, #sk-container-id-1 div.sk-parallel-item::before {content: \"\";position: absolute;border-left: 1px solid gray;box-sizing: border-box;top: 0;bottom: 0;left: 50%;z-index: -1;}#sk-container-id-1 div.sk-parallel-item {display: flex;flex-direction: column;z-index: 1;position: relative;background-color: white;}#sk-container-id-1 div.sk-parallel-item:first-child::after {align-self: flex-end;width: 50%;}#sk-container-id-1 div.sk-parallel-item:last-child::after {align-self: flex-start;width: 50%;}#sk-container-id-1 div.sk-parallel-item:only-child::after {width: 0;}#sk-container-id-1 div.sk-dashed-wrapped {border: 1px dashed gray;margin: 0 0.4em 0.5em 0.4em;box-sizing: border-box;padding-bottom: 0.4em;background-color: white;}#sk-container-id-1 div.sk-label label {font-family: monospace;font-weight: bold;display: inline-block;line-height: 1.2em;}#sk-container-id-1 div.sk-label-container {text-align: center;}#sk-container-id-1 div.sk-container {/* jupyter's `normalize.less` sets `[hidden] { display: none; }` but bootstrap.min.css set `[hidden] { display: none !important; }` so we also need the `!important` here to be able to override the default hidden behavior on the sphinx rendered scikit-learn.org. See: https://github.com/scikit-learn/scikit-learn/issues/21755 */display: inline-block !important;position: relative;}#sk-container-id-1 div.sk-text-repr-fallback {display: none;}</style><div id=\"sk-container-id-1\" class=\"sk-top-container\"><div class=\"sk-text-repr-fallback\"><pre>RandomForestClassifier(random_state=42)</pre><b>In a Jupyter environment, please rerun this cell to show the HTML representation or trust the notebook. <br />On GitHub, the HTML representation is unable to render, please try loading this page with nbviewer.org.</b></div><div class=\"sk-container\" hidden><div class=\"sk-item\"><div class=\"sk-estimator sk-toggleable\"><input class=\"sk-toggleable__control sk-hidden--visually\" id=\"sk-estimator-id-1\" type=\"checkbox\" checked><label for=\"sk-estimator-id-1\" class=\"sk-toggleable__label sk-toggleable__label-arrow\">RandomForestClassifier</label><div class=\"sk-toggleable__content\"><pre>RandomForestClassifier(random_state=42)</pre></div></div></div></div></div>"
      ],
      "text/plain": [
       "RandomForestClassifier(random_state=42)"
      ]
     },
     "execution_count": 104,
     "metadata": {},
     "output_type": "execute_result"
    }
   ],
   "source": [
    "# Crear el modelo\n",
    "modelo_rf = RandomForestClassifier(random_state = 42)\n",
    "\n",
    "# Entrenar el modelo\n",
    "modelo_rf.fit(x_train, y_train)"
   ]
  },
  {
   "cell_type": "markdown",
   "metadata": {},
   "source": [
    "### Modelo Boosting"
   ]
  },
  {
   "cell_type": "code",
   "execution_count": 105,
   "metadata": {},
   "outputs": [
    {
     "data": {
      "text/html": [
       "<style>#sk-container-id-2 {color: black;}#sk-container-id-2 pre{padding: 0;}#sk-container-id-2 div.sk-toggleable {background-color: white;}#sk-container-id-2 label.sk-toggleable__label {cursor: pointer;display: block;width: 100%;margin-bottom: 0;padding: 0.3em;box-sizing: border-box;text-align: center;}#sk-container-id-2 label.sk-toggleable__label-arrow:before {content: \"▸\";float: left;margin-right: 0.25em;color: #696969;}#sk-container-id-2 label.sk-toggleable__label-arrow:hover:before {color: black;}#sk-container-id-2 div.sk-estimator:hover label.sk-toggleable__label-arrow:before {color: black;}#sk-container-id-2 div.sk-toggleable__content {max-height: 0;max-width: 0;overflow: hidden;text-align: left;background-color: #f0f8ff;}#sk-container-id-2 div.sk-toggleable__content pre {margin: 0.2em;color: black;border-radius: 0.25em;background-color: #f0f8ff;}#sk-container-id-2 input.sk-toggleable__control:checked~div.sk-toggleable__content {max-height: 200px;max-width: 100%;overflow: auto;}#sk-container-id-2 input.sk-toggleable__control:checked~label.sk-toggleable__label-arrow:before {content: \"▾\";}#sk-container-id-2 div.sk-estimator input.sk-toggleable__control:checked~label.sk-toggleable__label {background-color: #d4ebff;}#sk-container-id-2 div.sk-label input.sk-toggleable__control:checked~label.sk-toggleable__label {background-color: #d4ebff;}#sk-container-id-2 input.sk-hidden--visually {border: 0;clip: rect(1px 1px 1px 1px);clip: rect(1px, 1px, 1px, 1px);height: 1px;margin: -1px;overflow: hidden;padding: 0;position: absolute;width: 1px;}#sk-container-id-2 div.sk-estimator {font-family: monospace;background-color: #f0f8ff;border: 1px dotted black;border-radius: 0.25em;box-sizing: border-box;margin-bottom: 0.5em;}#sk-container-id-2 div.sk-estimator:hover {background-color: #d4ebff;}#sk-container-id-2 div.sk-parallel-item::after {content: \"\";width: 100%;border-bottom: 1px solid gray;flex-grow: 1;}#sk-container-id-2 div.sk-label:hover label.sk-toggleable__label {background-color: #d4ebff;}#sk-container-id-2 div.sk-serial::before {content: \"\";position: absolute;border-left: 1px solid gray;box-sizing: border-box;top: 0;bottom: 0;left: 50%;z-index: 0;}#sk-container-id-2 div.sk-serial {display: flex;flex-direction: column;align-items: center;background-color: white;padding-right: 0.2em;padding-left: 0.2em;position: relative;}#sk-container-id-2 div.sk-item {position: relative;z-index: 1;}#sk-container-id-2 div.sk-parallel {display: flex;align-items: stretch;justify-content: center;background-color: white;position: relative;}#sk-container-id-2 div.sk-item::before, #sk-container-id-2 div.sk-parallel-item::before {content: \"\";position: absolute;border-left: 1px solid gray;box-sizing: border-box;top: 0;bottom: 0;left: 50%;z-index: -1;}#sk-container-id-2 div.sk-parallel-item {display: flex;flex-direction: column;z-index: 1;position: relative;background-color: white;}#sk-container-id-2 div.sk-parallel-item:first-child::after {align-self: flex-end;width: 50%;}#sk-container-id-2 div.sk-parallel-item:last-child::after {align-self: flex-start;width: 50%;}#sk-container-id-2 div.sk-parallel-item:only-child::after {width: 0;}#sk-container-id-2 div.sk-dashed-wrapped {border: 1px dashed gray;margin: 0 0.4em 0.5em 0.4em;box-sizing: border-box;padding-bottom: 0.4em;background-color: white;}#sk-container-id-2 div.sk-label label {font-family: monospace;font-weight: bold;display: inline-block;line-height: 1.2em;}#sk-container-id-2 div.sk-label-container {text-align: center;}#sk-container-id-2 div.sk-container {/* jupyter's `normalize.less` sets `[hidden] { display: none; }` but bootstrap.min.css set `[hidden] { display: none !important; }` so we also need the `!important` here to be able to override the default hidden behavior on the sphinx rendered scikit-learn.org. See: https://github.com/scikit-learn/scikit-learn/issues/21755 */display: inline-block !important;position: relative;}#sk-container-id-2 div.sk-text-repr-fallback {display: none;}</style><div id=\"sk-container-id-2\" class=\"sk-top-container\"><div class=\"sk-text-repr-fallback\"><pre>XGBClassifier(base_score=None, booster=None, callbacks=None,\n",
       "              colsample_bylevel=None, colsample_bynode=None,\n",
       "              colsample_bytree=None, device=None, early_stopping_rounds=None,\n",
       "              enable_categorical=False, eval_metric=None, feature_types=None,\n",
       "              gamma=None, grow_policy=None, importance_type=None,\n",
       "              interaction_constraints=None, learning_rate=None, max_bin=None,\n",
       "              max_cat_threshold=None, max_cat_to_onehot=None,\n",
       "              max_delta_step=None, max_depth=None, max_leaves=None,\n",
       "              min_child_weight=None, missing=nan, monotone_constraints=None,\n",
       "              multi_strategy=None, n_estimators=None, n_jobs=None,\n",
       "              num_parallel_tree=None, random_state=42, ...)</pre><b>In a Jupyter environment, please rerun this cell to show the HTML representation or trust the notebook. <br />On GitHub, the HTML representation is unable to render, please try loading this page with nbviewer.org.</b></div><div class=\"sk-container\" hidden><div class=\"sk-item\"><div class=\"sk-estimator sk-toggleable\"><input class=\"sk-toggleable__control sk-hidden--visually\" id=\"sk-estimator-id-2\" type=\"checkbox\" checked><label for=\"sk-estimator-id-2\" class=\"sk-toggleable__label sk-toggleable__label-arrow\">XGBClassifier</label><div class=\"sk-toggleable__content\"><pre>XGBClassifier(base_score=None, booster=None, callbacks=None,\n",
       "              colsample_bylevel=None, colsample_bynode=None,\n",
       "              colsample_bytree=None, device=None, early_stopping_rounds=None,\n",
       "              enable_categorical=False, eval_metric=None, feature_types=None,\n",
       "              gamma=None, grow_policy=None, importance_type=None,\n",
       "              interaction_constraints=None, learning_rate=None, max_bin=None,\n",
       "              max_cat_threshold=None, max_cat_to_onehot=None,\n",
       "              max_delta_step=None, max_depth=None, max_leaves=None,\n",
       "              min_child_weight=None, missing=nan, monotone_constraints=None,\n",
       "              multi_strategy=None, n_estimators=None, n_jobs=None,\n",
       "              num_parallel_tree=None, random_state=42, ...)</pre></div></div></div></div></div>"
      ],
      "text/plain": [
       "XGBClassifier(base_score=None, booster=None, callbacks=None,\n",
       "              colsample_bylevel=None, colsample_bynode=None,\n",
       "              colsample_bytree=None, device=None, early_stopping_rounds=None,\n",
       "              enable_categorical=False, eval_metric=None, feature_types=None,\n",
       "              gamma=None, grow_policy=None, importance_type=None,\n",
       "              interaction_constraints=None, learning_rate=None, max_bin=None,\n",
       "              max_cat_threshold=None, max_cat_to_onehot=None,\n",
       "              max_delta_step=None, max_depth=None, max_leaves=None,\n",
       "              min_child_weight=None, missing=nan, monotone_constraints=None,\n",
       "              multi_strategy=None, n_estimators=None, n_jobs=None,\n",
       "              num_parallel_tree=None, random_state=42, ...)"
      ]
     },
     "execution_count": 105,
     "metadata": {},
     "output_type": "execute_result"
    }
   ],
   "source": [
    "# Crear el modelo\n",
    "modelo_xgb = XGBClassifier(random_state = 42)\n",
    "\n",
    "# Entrenar el modelo\n",
    "modelo_xgb.fit(x_train, y_train)"
   ]
  },
  {
   "cell_type": "markdown",
   "metadata": {},
   "source": [
    "## 5. Métrica"
   ]
  },
  {
   "cell_type": "markdown",
   "metadata": {},
   "source": [
    "### Métrica modelo Bagging"
   ]
  },
  {
   "cell_type": "code",
   "execution_count": 106,
   "metadata": {},
   "outputs": [
    {
     "name": "stdout",
     "output_type": "stream",
     "text": [
      "Matriz de confusión: \n",
      " [[6646  373]\n",
      " [1225  756]]\n",
      "Exactitud: 0.82\n",
      "Precisión: 0.67\n",
      "Sensibilidad: 0.38\n",
      "Especifidad: 0.95\n",
      "f1-score: 0.49\n"
     ]
    }
   ],
   "source": [
    "# Validar el modelo\n",
    "y_pred1 = modelo_rf.predict(x_test)\n",
    "\n",
    "# Matriz de confusión\n",
    "con_mat1 = confusion_matrix(y_test, y_pred1)\n",
    "print(f\"Matriz de confusión: \\n {con_mat1}\")\n",
    "\n",
    "# Exactitud\n",
    "exactitud1 = accuracy_score(y_test, y_pred1)\n",
    "\n",
    "# Precisión\n",
    "precision1 = precision_score(y_test, y_pred1)\n",
    "\n",
    "# Sensibilidad\n",
    "recall1 = recall_score(y_test, y_pred1)\n",
    "\n",
    "# Especifidad\n",
    "vn1, fp1, fn1, vp1 = con_mat1.ravel()\n",
    "especifidad1 = vn1/(vn1+fp1)\n",
    "\n",
    "# f1-score\n",
    "f1 = f1_score(y_test, y_pred1)\n",
    "\n",
    "\n",
    "print(f\"Exactitud: {exactitud1:.2f}\\nPrecisión: {precision1:.2f}\\nSensibilidad: {recall1:.2f}\\nEspecifidad: {especifidad1:.2f}\\nf1-score: {f1:.2f}\")"
   ]
  },
  {
   "cell_type": "markdown",
   "metadata": {},
   "source": [
    "### Métrica modelo Boosting"
   ]
  },
  {
   "cell_type": "code",
   "execution_count": 107,
   "metadata": {},
   "outputs": [
    {
     "name": "stdout",
     "output_type": "stream",
     "text": [
      "Matriz de confusión: \n",
      " [[6615  404]\n",
      " [1218  763]]\n",
      "Exactitud: 0.82\n",
      "Precisión: 0.65\n",
      "Sensibilidad: 0.39\n",
      "Especifidad: 0.94\n",
      "f1-score: 0.48\n"
     ]
    }
   ],
   "source": [
    "# Validar el modelo\n",
    "y_pred2 = modelo_xgb.predict(x_test)\n",
    "\n",
    "# Matriz de confusión\n",
    "con_mat2 = confusion_matrix(y_test, y_pred2)\n",
    "print(f\"Matriz de confusión: \\n {con_mat2}\")\n",
    "\n",
    "# Exactitud\n",
    "exactitud2 = accuracy_score(y_test, y_pred2)\n",
    "\n",
    "# Precisión\n",
    "precision2 = precision_score(y_test, y_pred2)\n",
    "\n",
    "# Sensibilidad\n",
    "recall2 = recall_score(y_test, y_pred2)\n",
    "\n",
    "# Especifidad\n",
    "vn2, fp2, fn2, vp2 = con_mat2.ravel()\n",
    "especifidad2 = vn2/(vn2+fp2)\n",
    "\n",
    "# f1-score\n",
    "f1_2 = f1_score(y_test, y_pred2)\n",
    "\n",
    "\n",
    "print(f\"Exactitud: {exactitud2:.2f}\\nPrecisión: {precision2:.2f}\\nSensibilidad: {recall2:.2f}\\nEspecifidad: {especifidad2:.2f}\\nf1-score: {f1_2:.2f}\")"
   ]
  },
  {
   "cell_type": "markdown",
   "metadata": {},
   "source": [
    "## 6. Ajuste de hiperparámetros y mejora de métricas"
   ]
  },
  {
   "cell_type": "markdown",
   "metadata": {},
   "source": [
    "### Modelo Bagging\n",
    "#### Selección de mejores hiperparámetros con GridSearch"
   ]
  },
  {
   "cell_type": "code",
   "execution_count": 112,
   "metadata": {},
   "outputs": [
    {
     "data": {
      "text/html": [
       "<style>#sk-container-id-4 {color: black;}#sk-container-id-4 pre{padding: 0;}#sk-container-id-4 div.sk-toggleable {background-color: white;}#sk-container-id-4 label.sk-toggleable__label {cursor: pointer;display: block;width: 100%;margin-bottom: 0;padding: 0.3em;box-sizing: border-box;text-align: center;}#sk-container-id-4 label.sk-toggleable__label-arrow:before {content: \"▸\";float: left;margin-right: 0.25em;color: #696969;}#sk-container-id-4 label.sk-toggleable__label-arrow:hover:before {color: black;}#sk-container-id-4 div.sk-estimator:hover label.sk-toggleable__label-arrow:before {color: black;}#sk-container-id-4 div.sk-toggleable__content {max-height: 0;max-width: 0;overflow: hidden;text-align: left;background-color: #f0f8ff;}#sk-container-id-4 div.sk-toggleable__content pre {margin: 0.2em;color: black;border-radius: 0.25em;background-color: #f0f8ff;}#sk-container-id-4 input.sk-toggleable__control:checked~div.sk-toggleable__content {max-height: 200px;max-width: 100%;overflow: auto;}#sk-container-id-4 input.sk-toggleable__control:checked~label.sk-toggleable__label-arrow:before {content: \"▾\";}#sk-container-id-4 div.sk-estimator input.sk-toggleable__control:checked~label.sk-toggleable__label {background-color: #d4ebff;}#sk-container-id-4 div.sk-label input.sk-toggleable__control:checked~label.sk-toggleable__label {background-color: #d4ebff;}#sk-container-id-4 input.sk-hidden--visually {border: 0;clip: rect(1px 1px 1px 1px);clip: rect(1px, 1px, 1px, 1px);height: 1px;margin: -1px;overflow: hidden;padding: 0;position: absolute;width: 1px;}#sk-container-id-4 div.sk-estimator {font-family: monospace;background-color: #f0f8ff;border: 1px dotted black;border-radius: 0.25em;box-sizing: border-box;margin-bottom: 0.5em;}#sk-container-id-4 div.sk-estimator:hover {background-color: #d4ebff;}#sk-container-id-4 div.sk-parallel-item::after {content: \"\";width: 100%;border-bottom: 1px solid gray;flex-grow: 1;}#sk-container-id-4 div.sk-label:hover label.sk-toggleable__label {background-color: #d4ebff;}#sk-container-id-4 div.sk-serial::before {content: \"\";position: absolute;border-left: 1px solid gray;box-sizing: border-box;top: 0;bottom: 0;left: 50%;z-index: 0;}#sk-container-id-4 div.sk-serial {display: flex;flex-direction: column;align-items: center;background-color: white;padding-right: 0.2em;padding-left: 0.2em;position: relative;}#sk-container-id-4 div.sk-item {position: relative;z-index: 1;}#sk-container-id-4 div.sk-parallel {display: flex;align-items: stretch;justify-content: center;background-color: white;position: relative;}#sk-container-id-4 div.sk-item::before, #sk-container-id-4 div.sk-parallel-item::before {content: \"\";position: absolute;border-left: 1px solid gray;box-sizing: border-box;top: 0;bottom: 0;left: 50%;z-index: -1;}#sk-container-id-4 div.sk-parallel-item {display: flex;flex-direction: column;z-index: 1;position: relative;background-color: white;}#sk-container-id-4 div.sk-parallel-item:first-child::after {align-self: flex-end;width: 50%;}#sk-container-id-4 div.sk-parallel-item:last-child::after {align-self: flex-start;width: 50%;}#sk-container-id-4 div.sk-parallel-item:only-child::after {width: 0;}#sk-container-id-4 div.sk-dashed-wrapped {border: 1px dashed gray;margin: 0 0.4em 0.5em 0.4em;box-sizing: border-box;padding-bottom: 0.4em;background-color: white;}#sk-container-id-4 div.sk-label label {font-family: monospace;font-weight: bold;display: inline-block;line-height: 1.2em;}#sk-container-id-4 div.sk-label-container {text-align: center;}#sk-container-id-4 div.sk-container {/* jupyter's `normalize.less` sets `[hidden] { display: none; }` but bootstrap.min.css set `[hidden] { display: none !important; }` so we also need the `!important` here to be able to override the default hidden behavior on the sphinx rendered scikit-learn.org. See: https://github.com/scikit-learn/scikit-learn/issues/21755 */display: inline-block !important;position: relative;}#sk-container-id-4 div.sk-text-repr-fallback {display: none;}</style><div id=\"sk-container-id-4\" class=\"sk-top-container\"><div class=\"sk-text-repr-fallback\"><pre>GridSearchCV(estimator=RandomForestClassifier(random_state=42),\n",
       "             param_grid={&#x27;criterion&#x27;: (&#x27;gini&#x27;, &#x27;entropy&#x27;),\n",
       "                         &#x27;n_estimators&#x27;: (10, 30, 40, 50, 70, 90)},\n",
       "             scoring=&#x27;accuracy&#x27;)</pre><b>In a Jupyter environment, please rerun this cell to show the HTML representation or trust the notebook. <br />On GitHub, the HTML representation is unable to render, please try loading this page with nbviewer.org.</b></div><div class=\"sk-container\" hidden><div class=\"sk-item sk-dashed-wrapped\"><div class=\"sk-label-container\"><div class=\"sk-label sk-toggleable\"><input class=\"sk-toggleable__control sk-hidden--visually\" id=\"sk-estimator-id-6\" type=\"checkbox\" ><label for=\"sk-estimator-id-6\" class=\"sk-toggleable__label sk-toggleable__label-arrow\">GridSearchCV</label><div class=\"sk-toggleable__content\"><pre>GridSearchCV(estimator=RandomForestClassifier(random_state=42),\n",
       "             param_grid={&#x27;criterion&#x27;: (&#x27;gini&#x27;, &#x27;entropy&#x27;),\n",
       "                         &#x27;n_estimators&#x27;: (10, 30, 40, 50, 70, 90)},\n",
       "             scoring=&#x27;accuracy&#x27;)</pre></div></div></div><div class=\"sk-parallel\"><div class=\"sk-parallel-item\"><div class=\"sk-item\"><div class=\"sk-label-container\"><div class=\"sk-label sk-toggleable\"><input class=\"sk-toggleable__control sk-hidden--visually\" id=\"sk-estimator-id-7\" type=\"checkbox\" ><label for=\"sk-estimator-id-7\" class=\"sk-toggleable__label sk-toggleable__label-arrow\">estimator: RandomForestClassifier</label><div class=\"sk-toggleable__content\"><pre>RandomForestClassifier(random_state=42)</pre></div></div></div><div class=\"sk-serial\"><div class=\"sk-item\"><div class=\"sk-estimator sk-toggleable\"><input class=\"sk-toggleable__control sk-hidden--visually\" id=\"sk-estimator-id-8\" type=\"checkbox\" ><label for=\"sk-estimator-id-8\" class=\"sk-toggleable__label sk-toggleable__label-arrow\">RandomForestClassifier</label><div class=\"sk-toggleable__content\"><pre>RandomForestClassifier(random_state=42)</pre></div></div></div></div></div></div></div></div></div></div>"
      ],
      "text/plain": [
       "GridSearchCV(estimator=RandomForestClassifier(random_state=42),\n",
       "             param_grid={'criterion': ('gini', 'entropy'),\n",
       "                         'n_estimators': (10, 30, 40, 50, 70, 90)},\n",
       "             scoring='accuracy')"
      ]
     },
     "execution_count": 112,
     "metadata": {},
     "output_type": "execute_result"
    }
   ],
   "source": [
    "# Diccionario de parámetros a probar\n",
    "parametros = {\"criterion\" : (\"gini\", \"entropy\"),\n",
    "              \"n_estimators\" : (10, 30, 40, 50, 70, 90)}\n",
    "\n",
    "rejilla = GridSearchCV(modelo_rf,\n",
    "                       parametros,\n",
    "                       scoring = \"accuracy\")  #Al no tener los datos balanceados la mejor métrica a optimizar es \"f1\" debido a que indica la proporción entre precisión y sensibilidad.\n",
    "\n",
    "rejilla.fit(x_train, y_train)"
   ]
  },
  {
   "cell_type": "markdown",
   "metadata": {},
   "source": [
    "#### Mejor puntuación e hiperparámetros"
   ]
  },
  {
   "cell_type": "code",
   "execution_count": 113,
   "metadata": {},
   "outputs": [
    {
     "name": "stdout",
     "output_type": "stream",
     "text": [
      "0.815047619047619\n",
      "{'criterion': 'entropy', 'n_estimators': 70}\n"
     ]
    }
   ],
   "source": [
    "# Mejor puntuación de la métrica seleccionada\n",
    "print(rejilla.best_score_)\n",
    "\n",
    "# Mejores hiperparámetros\n",
    "print(rejilla.best_params_)"
   ]
  },
  {
   "cell_type": "markdown",
   "metadata": {},
   "source": [
    "#### Entrenamiento de mejor modelo"
   ]
  },
  {
   "cell_type": "code",
   "execution_count": 114,
   "metadata": {},
   "outputs": [
    {
     "name": "stdout",
     "output_type": "stream",
     "text": [
      "Matriz de confusión: \n",
      " [[6654  365]\n",
      " [1219  762]]\n",
      "Exactitud: 0.82\n",
      "Precisión: 0.68\n",
      "Sensibilidad: 0.38\n",
      "Especifidad: 0.95\n",
      "f1-score: 0.49\n"
     ]
    }
   ],
   "source": [
    "y_pred1_1 = rejilla.predict(x_test)\n",
    "\n",
    "# Métricas\n",
    "con_mat1 = confusion_matrix(y_test, y_pred1_1)\n",
    "print(f\"Matriz de confusión: \\n {con_mat1}\")\n",
    "\n",
    "exactitud1 = accuracy_score(y_test, y_pred1_1)\n",
    "\n",
    "precision1 = precision_score(y_test, y_pred1_1)\n",
    "\n",
    "recall1 = recall_score(y_test, y_pred1_1)\n",
    "\n",
    "vn1, fp1, fn1, vp1 = con_mat1.ravel()\n",
    "especifidad1 = vn1/(vn1+fp1)\n",
    "\n",
    "f1 = f1_score(y_test, y_pred1_1)\n",
    "\n",
    "print(f\"Exactitud: {exactitud1:.2f}\\nPrecisión: {precision1:.2f}\\nSensibilidad: {recall1:.2f}\\nEspecifidad: {especifidad1:.2f}\\nf1-score: {f1:.2f}\")"
   ]
  },
  {
   "cell_type": "markdown",
   "metadata": {},
   "source": [
    "### Modelo Boosting\n",
    "#### Selección de mejores hiperparámetros con GridSearch"
   ]
  },
  {
   "cell_type": "code",
   "execution_count": 115,
   "metadata": {},
   "outputs": [
    {
     "data": {
      "text/html": [
       "<style>#sk-container-id-5 {color: black;}#sk-container-id-5 pre{padding: 0;}#sk-container-id-5 div.sk-toggleable {background-color: white;}#sk-container-id-5 label.sk-toggleable__label {cursor: pointer;display: block;width: 100%;margin-bottom: 0;padding: 0.3em;box-sizing: border-box;text-align: center;}#sk-container-id-5 label.sk-toggleable__label-arrow:before {content: \"▸\";float: left;margin-right: 0.25em;color: #696969;}#sk-container-id-5 label.sk-toggleable__label-arrow:hover:before {color: black;}#sk-container-id-5 div.sk-estimator:hover label.sk-toggleable__label-arrow:before {color: black;}#sk-container-id-5 div.sk-toggleable__content {max-height: 0;max-width: 0;overflow: hidden;text-align: left;background-color: #f0f8ff;}#sk-container-id-5 div.sk-toggleable__content pre {margin: 0.2em;color: black;border-radius: 0.25em;background-color: #f0f8ff;}#sk-container-id-5 input.sk-toggleable__control:checked~div.sk-toggleable__content {max-height: 200px;max-width: 100%;overflow: auto;}#sk-container-id-5 input.sk-toggleable__control:checked~label.sk-toggleable__label-arrow:before {content: \"▾\";}#sk-container-id-5 div.sk-estimator input.sk-toggleable__control:checked~label.sk-toggleable__label {background-color: #d4ebff;}#sk-container-id-5 div.sk-label input.sk-toggleable__control:checked~label.sk-toggleable__label {background-color: #d4ebff;}#sk-container-id-5 input.sk-hidden--visually {border: 0;clip: rect(1px 1px 1px 1px);clip: rect(1px, 1px, 1px, 1px);height: 1px;margin: -1px;overflow: hidden;padding: 0;position: absolute;width: 1px;}#sk-container-id-5 div.sk-estimator {font-family: monospace;background-color: #f0f8ff;border: 1px dotted black;border-radius: 0.25em;box-sizing: border-box;margin-bottom: 0.5em;}#sk-container-id-5 div.sk-estimator:hover {background-color: #d4ebff;}#sk-container-id-5 div.sk-parallel-item::after {content: \"\";width: 100%;border-bottom: 1px solid gray;flex-grow: 1;}#sk-container-id-5 div.sk-label:hover label.sk-toggleable__label {background-color: #d4ebff;}#sk-container-id-5 div.sk-serial::before {content: \"\";position: absolute;border-left: 1px solid gray;box-sizing: border-box;top: 0;bottom: 0;left: 50%;z-index: 0;}#sk-container-id-5 div.sk-serial {display: flex;flex-direction: column;align-items: center;background-color: white;padding-right: 0.2em;padding-left: 0.2em;position: relative;}#sk-container-id-5 div.sk-item {position: relative;z-index: 1;}#sk-container-id-5 div.sk-parallel {display: flex;align-items: stretch;justify-content: center;background-color: white;position: relative;}#sk-container-id-5 div.sk-item::before, #sk-container-id-5 div.sk-parallel-item::before {content: \"\";position: absolute;border-left: 1px solid gray;box-sizing: border-box;top: 0;bottom: 0;left: 50%;z-index: -1;}#sk-container-id-5 div.sk-parallel-item {display: flex;flex-direction: column;z-index: 1;position: relative;background-color: white;}#sk-container-id-5 div.sk-parallel-item:first-child::after {align-self: flex-end;width: 50%;}#sk-container-id-5 div.sk-parallel-item:last-child::after {align-self: flex-start;width: 50%;}#sk-container-id-5 div.sk-parallel-item:only-child::after {width: 0;}#sk-container-id-5 div.sk-dashed-wrapped {border: 1px dashed gray;margin: 0 0.4em 0.5em 0.4em;box-sizing: border-box;padding-bottom: 0.4em;background-color: white;}#sk-container-id-5 div.sk-label label {font-family: monospace;font-weight: bold;display: inline-block;line-height: 1.2em;}#sk-container-id-5 div.sk-label-container {text-align: center;}#sk-container-id-5 div.sk-container {/* jupyter's `normalize.less` sets `[hidden] { display: none; }` but bootstrap.min.css set `[hidden] { display: none !important; }` so we also need the `!important` here to be able to override the default hidden behavior on the sphinx rendered scikit-learn.org. See: https://github.com/scikit-learn/scikit-learn/issues/21755 */display: inline-block !important;position: relative;}#sk-container-id-5 div.sk-text-repr-fallback {display: none;}</style><div id=\"sk-container-id-5\" class=\"sk-top-container\"><div class=\"sk-text-repr-fallback\"><pre>GridSearchCV(estimator=XGBClassifier(base_score=None, booster=None,\n",
       "                                     callbacks=None, colsample_bylevel=None,\n",
       "                                     colsample_bynode=None,\n",
       "                                     colsample_bytree=None, device=None,\n",
       "                                     early_stopping_rounds=None,\n",
       "                                     enable_categorical=False, eval_metric=None,\n",
       "                                     feature_types=None, gamma=None,\n",
       "                                     grow_policy=None, importance_type=None,\n",
       "                                     interaction_constraints=None,\n",
       "                                     learning_rate=None, max_b...\n",
       "                                     max_delta_step=None, max_depth=None,\n",
       "                                     max_leaves=None, min_child_weight=None,\n",
       "                                     missing=nan, monotone_constraints=None,\n",
       "                                     multi_strategy=None, n_estimators=None,\n",
       "                                     n_jobs=None, num_parallel_tree=None,\n",
       "                                     random_state=42, ...),\n",
       "             param_grid={&#x27;alpha&#x27;: (5, 8, 9), &#x27;booster&#x27;: (&#x27;dart&#x27;, &#x27;gbtree&#x27;),\n",
       "                         &#x27;scale_pos_weight&#x27;: (1.7, 1.86, 1.95),\n",
       "                         &#x27;tree_method&#x27;: (&#x27;exact&#x27;, &#x27;approx&#x27;, &#x27;hist&#x27;)},\n",
       "             scoring=&#x27;accuracy&#x27;)</pre><b>In a Jupyter environment, please rerun this cell to show the HTML representation or trust the notebook. <br />On GitHub, the HTML representation is unable to render, please try loading this page with nbviewer.org.</b></div><div class=\"sk-container\" hidden><div class=\"sk-item sk-dashed-wrapped\"><div class=\"sk-label-container\"><div class=\"sk-label sk-toggleable\"><input class=\"sk-toggleable__control sk-hidden--visually\" id=\"sk-estimator-id-9\" type=\"checkbox\" ><label for=\"sk-estimator-id-9\" class=\"sk-toggleable__label sk-toggleable__label-arrow\">GridSearchCV</label><div class=\"sk-toggleable__content\"><pre>GridSearchCV(estimator=XGBClassifier(base_score=None, booster=None,\n",
       "                                     callbacks=None, colsample_bylevel=None,\n",
       "                                     colsample_bynode=None,\n",
       "                                     colsample_bytree=None, device=None,\n",
       "                                     early_stopping_rounds=None,\n",
       "                                     enable_categorical=False, eval_metric=None,\n",
       "                                     feature_types=None, gamma=None,\n",
       "                                     grow_policy=None, importance_type=None,\n",
       "                                     interaction_constraints=None,\n",
       "                                     learning_rate=None, max_b...\n",
       "                                     max_delta_step=None, max_depth=None,\n",
       "                                     max_leaves=None, min_child_weight=None,\n",
       "                                     missing=nan, monotone_constraints=None,\n",
       "                                     multi_strategy=None, n_estimators=None,\n",
       "                                     n_jobs=None, num_parallel_tree=None,\n",
       "                                     random_state=42, ...),\n",
       "             param_grid={&#x27;alpha&#x27;: (5, 8, 9), &#x27;booster&#x27;: (&#x27;dart&#x27;, &#x27;gbtree&#x27;),\n",
       "                         &#x27;scale_pos_weight&#x27;: (1.7, 1.86, 1.95),\n",
       "                         &#x27;tree_method&#x27;: (&#x27;exact&#x27;, &#x27;approx&#x27;, &#x27;hist&#x27;)},\n",
       "             scoring=&#x27;accuracy&#x27;)</pre></div></div></div><div class=\"sk-parallel\"><div class=\"sk-parallel-item\"><div class=\"sk-item\"><div class=\"sk-label-container\"><div class=\"sk-label sk-toggleable\"><input class=\"sk-toggleable__control sk-hidden--visually\" id=\"sk-estimator-id-10\" type=\"checkbox\" ><label for=\"sk-estimator-id-10\" class=\"sk-toggleable__label sk-toggleable__label-arrow\">estimator: XGBClassifier</label><div class=\"sk-toggleable__content\"><pre>XGBClassifier(base_score=None, booster=None, callbacks=None,\n",
       "              colsample_bylevel=None, colsample_bynode=None,\n",
       "              colsample_bytree=None, device=None, early_stopping_rounds=None,\n",
       "              enable_categorical=False, eval_metric=None, feature_types=None,\n",
       "              gamma=None, grow_policy=None, importance_type=None,\n",
       "              interaction_constraints=None, learning_rate=None, max_bin=None,\n",
       "              max_cat_threshold=None, max_cat_to_onehot=None,\n",
       "              max_delta_step=None, max_depth=None, max_leaves=None,\n",
       "              min_child_weight=None, missing=nan, monotone_constraints=None,\n",
       "              multi_strategy=None, n_estimators=None, n_jobs=None,\n",
       "              num_parallel_tree=None, random_state=42, ...)</pre></div></div></div><div class=\"sk-serial\"><div class=\"sk-item\"><div class=\"sk-estimator sk-toggleable\"><input class=\"sk-toggleable__control sk-hidden--visually\" id=\"sk-estimator-id-11\" type=\"checkbox\" ><label for=\"sk-estimator-id-11\" class=\"sk-toggleable__label sk-toggleable__label-arrow\">XGBClassifier</label><div class=\"sk-toggleable__content\"><pre>XGBClassifier(base_score=None, booster=None, callbacks=None,\n",
       "              colsample_bylevel=None, colsample_bynode=None,\n",
       "              colsample_bytree=None, device=None, early_stopping_rounds=None,\n",
       "              enable_categorical=False, eval_metric=None, feature_types=None,\n",
       "              gamma=None, grow_policy=None, importance_type=None,\n",
       "              interaction_constraints=None, learning_rate=None, max_bin=None,\n",
       "              max_cat_threshold=None, max_cat_to_onehot=None,\n",
       "              max_delta_step=None, max_depth=None, max_leaves=None,\n",
       "              min_child_weight=None, missing=nan, monotone_constraints=None,\n",
       "              multi_strategy=None, n_estimators=None, n_jobs=None,\n",
       "              num_parallel_tree=None, random_state=42, ...)</pre></div></div></div></div></div></div></div></div></div></div>"
      ],
      "text/plain": [
       "GridSearchCV(estimator=XGBClassifier(base_score=None, booster=None,\n",
       "                                     callbacks=None, colsample_bylevel=None,\n",
       "                                     colsample_bynode=None,\n",
       "                                     colsample_bytree=None, device=None,\n",
       "                                     early_stopping_rounds=None,\n",
       "                                     enable_categorical=False, eval_metric=None,\n",
       "                                     feature_types=None, gamma=None,\n",
       "                                     grow_policy=None, importance_type=None,\n",
       "                                     interaction_constraints=None,\n",
       "                                     learning_rate=None, max_b...\n",
       "                                     max_delta_step=None, max_depth=None,\n",
       "                                     max_leaves=None, min_child_weight=None,\n",
       "                                     missing=nan, monotone_constraints=None,\n",
       "                                     multi_strategy=None, n_estimators=None,\n",
       "                                     n_jobs=None, num_parallel_tree=None,\n",
       "                                     random_state=42, ...),\n",
       "             param_grid={'alpha': (5, 8, 9), 'booster': ('dart', 'gbtree'),\n",
       "                         'scale_pos_weight': (1.7, 1.86, 1.95),\n",
       "                         'tree_method': ('exact', 'approx', 'hist')},\n",
       "             scoring='accuracy')"
      ]
     },
     "execution_count": 115,
     "metadata": {},
     "output_type": "execute_result"
    }
   ],
   "source": [
    "# Diccionario de parámetros a probar\n",
    "parametros2 = {\"booster\" : (\"dart\", \"gbtree\"),\n",
    "               \"tree_method\" : (\"exact\", \"approx\", \"hist\"),\n",
    "               \"scale_pos_weight\" : (1.70, 1.86, 1.95),\n",
    "               \"alpha\" : ( 5, 8, 9)}\n",
    "\n",
    "rejilla2 = GridSearchCV(modelo_xgb,\n",
    "                       parametros2,\n",
    "                       scoring = \"accuracy\")\n",
    "\n",
    "rejilla2.fit(x_train, y_train)"
   ]
  },
  {
   "cell_type": "markdown",
   "metadata": {},
   "source": [
    "#### Mejor puntuación e hiperparámetros"
   ]
  },
  {
   "cell_type": "code",
   "execution_count": 116,
   "metadata": {},
   "outputs": [
    {
     "name": "stdout",
     "output_type": "stream",
     "text": [
      "0.8032380952380953\n",
      "{'alpha': 9, 'booster': 'dart', 'scale_pos_weight': 1.7, 'tree_method': 'exact'}\n"
     ]
    }
   ],
   "source": [
    "# Mejor puntuación de la métrica seleccionada\n",
    "print(rejilla2.best_score_)\n",
    "\n",
    "# Mejores hiperparámetros\n",
    "print(rejilla2.best_params_)"
   ]
  },
  {
   "cell_type": "markdown",
   "metadata": {},
   "source": [
    "#### Entrenamiento del mejor modelo"
   ]
  },
  {
   "cell_type": "code",
   "execution_count": 117,
   "metadata": {},
   "outputs": [
    {
     "name": "stdout",
     "output_type": "stream",
     "text": [
      "Matriz de confusión: \n",
      " [[6333  686]\n",
      " [1017  964]]\n",
      "Exactitud: 0.81\n",
      "Precisión: 0.58\n",
      "Sensibilidad: 0.49\n",
      "Especifidad: 0.90\n",
      "f1-score: 0.53\n"
     ]
    }
   ],
   "source": [
    "\n",
    "y_pred2_2 = rejilla2.predict(x_test)\n",
    "\n",
    "# Métricas\n",
    "con_mat2 = confusion_matrix(y_test, y_pred2_2)\n",
    "print(f\"Matriz de confusión: \\n {con_mat2}\")\n",
    "\n",
    "exactitud2 = accuracy_score(y_test, y_pred2_2)\n",
    "\n",
    "precision2 = precision_score(y_test, y_pred2_2)\n",
    "\n",
    "recall2 = recall_score(y_test, y_pred2_2)\n",
    "\n",
    "vn2, fp2, fn2, vp2 = con_mat2.ravel()\n",
    "especifidad2 = vn2/(vn2+fp2)\n",
    "\n",
    "f1_2 = f1_score(y_test, y_pred2_2)\n",
    "\n",
    "print(f\"Exactitud: {exactitud2:.2f}\\nPrecisión: {precision2:.2f}\\nSensibilidad: {recall2:.2f}\\nEspecifidad: {especifidad2:.2f}\\nf1-score: {f1_2:.2f}\")"
   ]
  },
  {
   "cell_type": "markdown",
   "metadata": {},
   "source": [
    "## Guardar mejor modelo"
   ]
  },
  {
   "cell_type": "code",
   "execution_count": 118,
   "metadata": {},
   "outputs": [],
   "source": [
    "import pickle\n",
    "\n",
    "#Guardar el modelo\n",
    "filename = 'Mejor_modelo(DT).sav'\n",
    "pickle.dump(rejilla, open(filename, 'wb'))\n",
    " \n",
    "#Cargar el modelo\n",
    "#loaded_model = pickle.load(open(filename, 'rb'))\n",
    "#result = loaded_model.score(x_test, y_test)\n",
    "#print(result)"
   ]
  },
  {
   "cell_type": "markdown",
   "metadata": {},
   "source": [
    "## Conclusiones"
   ]
  },
  {
   "cell_type": "markdown",
   "metadata": {},
   "source": [
    "El mejor modelo es el de RandomForest el cual posee una mayor exactitud, precisión y especifidad con respecto al modelo XGB, sin embargo las métricas obtenidad indican que el modelo predice de mejor manera los casos negativos de diabetes con gran diferencia con respecto a la predicción los casos positivos. \n",
    "\n",
    "Por otro lado el modelo de xgb a pesar de tener métricas menores, es más balanceado pues la capacidad de predicción de los casos negativos de diabetes es similar a la capacidad de predicción de los casos positivos."
   ]
  }
 ],
 "metadata": {
  "kernelspec": {
   "display_name": "Endo",
   "language": "python",
   "name": "python3"
  },
  "language_info": {
   "codemirror_mode": {
    "name": "ipython",
    "version": 3
   },
   "file_extension": ".py",
   "mimetype": "text/x-python",
   "name": "python",
   "nbconvert_exporter": "python",
   "pygments_lexer": "ipython3",
   "version": "3.9.19"
  }
 },
 "nbformat": 4,
 "nbformat_minor": 2
}
